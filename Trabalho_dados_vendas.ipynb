{
  "nbformat": 4,
  "nbformat_minor": 0,
  "metadata": {
    "colab": {
      "provenance": [],
      "authorship_tag": "ABX9TyO6qdwxG2xgamlRMVrCkyg8",
      "include_colab_link": true
    },
    "kernelspec": {
      "name": "python3",
      "display_name": "Python 3"
    },
    "language_info": {
      "name": "python"
    }
  },
  "cells": [
    {
      "cell_type": "markdown",
      "metadata": {
        "id": "view-in-github",
        "colab_type": "text"
      },
      "source": [
        "<a href=\"https://colab.research.google.com/github/MichelleFaria/sales_teste/blob/main/Trabalho_dados_vendas.ipynb\" target=\"_parent\"><img src=\"https://colab.research.google.com/assets/colab-badge.svg\" alt=\"Open In Colab\"/></a>"
      ]
    },
    {
      "cell_type": "code",
      "source": [
        "import pandas as pd\n",
        "import numpy as np\n",
        "import matplotlib as mt\n",
        "import datetime as dt\n",
        "import matplotlib.pyplot as plt\n",
        "import seaborn as sns"
      ],
      "metadata": {
        "id": "-8fkOo-JWXFg"
      },
      "execution_count": null,
      "outputs": []
    },
    {
      "cell_type": "code",
      "source": [
        "dados_vendas = pd.read_csv('https://raw.githubusercontent.com/MichelleFaria/sales_teste/main/sales.csv')\n",
        "dados_vendas.head()"
      ],
      "metadata": {
        "colab": {
          "base_uri": "https://localhost:8080/",
          "height": 354
        },
        "id": "MDEa6OATgWrv",
        "outputId": "fc29d129-a166-451f-f0d3-5f0b8448ca2a"
      },
      "execution_count": null,
      "outputs": [
        {
          "output_type": "execute_result",
          "data": {
            "text/plain": [
              "   Area Code        State Market   Market Size  Profit  Margin  Sales   COGS  \\\n",
              "0        203  Connecticut   East  Small Market   107.0   176.0  292.0  116.0   \n",
              "1        203  Connecticut   East  Small Market    75.0   135.0  225.0   90.0   \n",
              "2        203  Connecticut   East  Small Market   122.0   195.0  325.0  130.0   \n",
              "3        203  Connecticut   East  Small Market   105.0   174.0  289.0  115.0   \n",
              "4        203  Connecticut   East  Small Market   104.0   135.0  223.0   90.0   \n",
              "\n",
              "   Total Expenses  Marketing  Inventory  Budget Profit  Budget COGS  \\\n",
              "0            69.0       38.0      962.0          110.0        110.0   \n",
              "1            60.0       29.0     1148.0           90.0         80.0   \n",
              "2            73.0       42.0     1134.0          130.0        110.0   \n",
              "3            69.0       37.0     1166.0          110.0        100.0   \n",
              "4            56.0       29.0     1148.0           90.0         80.0   \n",
              "\n",
              "   Budget Margin  Budget Sales  ProductId               Date Product Type  \\\n",
              "0          160.0         270.0          2  04/01/10 00:00:00       Coffee   \n",
              "1          130.0         210.0          2  07/01/10 00:00:00       Coffee   \n",
              "2          180.0         290.0          2  11/01/10 00:00:00       Coffee   \n",
              "3          160.0         260.0          2  12/01/10 00:00:00       Coffee   \n",
              "4          130.0         210.0          2  07/01/11 00:00:00       Coffee   \n",
              "\n",
              "     Product     Type  \n",
              "0  Columbian  Regular  \n",
              "1  Columbian  Regular  \n",
              "2  Columbian  Regular  \n",
              "3  Columbian  Regular  \n",
              "4  Columbian  Regular  "
            ],
            "text/html": [
              "\n",
              "  <div id=\"df-755a4626-7d0d-4ec4-99c2-564cd9e52dac\">\n",
              "    <div class=\"colab-df-container\">\n",
              "      <div>\n",
              "<style scoped>\n",
              "    .dataframe tbody tr th:only-of-type {\n",
              "        vertical-align: middle;\n",
              "    }\n",
              "\n",
              "    .dataframe tbody tr th {\n",
              "        vertical-align: top;\n",
              "    }\n",
              "\n",
              "    .dataframe thead th {\n",
              "        text-align: right;\n",
              "    }\n",
              "</style>\n",
              "<table border=\"1\" class=\"dataframe\">\n",
              "  <thead>\n",
              "    <tr style=\"text-align: right;\">\n",
              "      <th></th>\n",
              "      <th>Area Code</th>\n",
              "      <th>State</th>\n",
              "      <th>Market</th>\n",
              "      <th>Market Size</th>\n",
              "      <th>Profit</th>\n",
              "      <th>Margin</th>\n",
              "      <th>Sales</th>\n",
              "      <th>COGS</th>\n",
              "      <th>Total Expenses</th>\n",
              "      <th>Marketing</th>\n",
              "      <th>Inventory</th>\n",
              "      <th>Budget Profit</th>\n",
              "      <th>Budget COGS</th>\n",
              "      <th>Budget Margin</th>\n",
              "      <th>Budget Sales</th>\n",
              "      <th>ProductId</th>\n",
              "      <th>Date</th>\n",
              "      <th>Product Type</th>\n",
              "      <th>Product</th>\n",
              "      <th>Type</th>\n",
              "    </tr>\n",
              "  </thead>\n",
              "  <tbody>\n",
              "    <tr>\n",
              "      <th>0</th>\n",
              "      <td>203</td>\n",
              "      <td>Connecticut</td>\n",
              "      <td>East</td>\n",
              "      <td>Small Market</td>\n",
              "      <td>107.0</td>\n",
              "      <td>176.0</td>\n",
              "      <td>292.0</td>\n",
              "      <td>116.0</td>\n",
              "      <td>69.0</td>\n",
              "      <td>38.0</td>\n",
              "      <td>962.0</td>\n",
              "      <td>110.0</td>\n",
              "      <td>110.0</td>\n",
              "      <td>160.0</td>\n",
              "      <td>270.0</td>\n",
              "      <td>2</td>\n",
              "      <td>04/01/10 00:00:00</td>\n",
              "      <td>Coffee</td>\n",
              "      <td>Columbian</td>\n",
              "      <td>Regular</td>\n",
              "    </tr>\n",
              "    <tr>\n",
              "      <th>1</th>\n",
              "      <td>203</td>\n",
              "      <td>Connecticut</td>\n",
              "      <td>East</td>\n",
              "      <td>Small Market</td>\n",
              "      <td>75.0</td>\n",
              "      <td>135.0</td>\n",
              "      <td>225.0</td>\n",
              "      <td>90.0</td>\n",
              "      <td>60.0</td>\n",
              "      <td>29.0</td>\n",
              "      <td>1148.0</td>\n",
              "      <td>90.0</td>\n",
              "      <td>80.0</td>\n",
              "      <td>130.0</td>\n",
              "      <td>210.0</td>\n",
              "      <td>2</td>\n",
              "      <td>07/01/10 00:00:00</td>\n",
              "      <td>Coffee</td>\n",
              "      <td>Columbian</td>\n",
              "      <td>Regular</td>\n",
              "    </tr>\n",
              "    <tr>\n",
              "      <th>2</th>\n",
              "      <td>203</td>\n",
              "      <td>Connecticut</td>\n",
              "      <td>East</td>\n",
              "      <td>Small Market</td>\n",
              "      <td>122.0</td>\n",
              "      <td>195.0</td>\n",
              "      <td>325.0</td>\n",
              "      <td>130.0</td>\n",
              "      <td>73.0</td>\n",
              "      <td>42.0</td>\n",
              "      <td>1134.0</td>\n",
              "      <td>130.0</td>\n",
              "      <td>110.0</td>\n",
              "      <td>180.0</td>\n",
              "      <td>290.0</td>\n",
              "      <td>2</td>\n",
              "      <td>11/01/10 00:00:00</td>\n",
              "      <td>Coffee</td>\n",
              "      <td>Columbian</td>\n",
              "      <td>Regular</td>\n",
              "    </tr>\n",
              "    <tr>\n",
              "      <th>3</th>\n",
              "      <td>203</td>\n",
              "      <td>Connecticut</td>\n",
              "      <td>East</td>\n",
              "      <td>Small Market</td>\n",
              "      <td>105.0</td>\n",
              "      <td>174.0</td>\n",
              "      <td>289.0</td>\n",
              "      <td>115.0</td>\n",
              "      <td>69.0</td>\n",
              "      <td>37.0</td>\n",
              "      <td>1166.0</td>\n",
              "      <td>110.0</td>\n",
              "      <td>100.0</td>\n",
              "      <td>160.0</td>\n",
              "      <td>260.0</td>\n",
              "      <td>2</td>\n",
              "      <td>12/01/10 00:00:00</td>\n",
              "      <td>Coffee</td>\n",
              "      <td>Columbian</td>\n",
              "      <td>Regular</td>\n",
              "    </tr>\n",
              "    <tr>\n",
              "      <th>4</th>\n",
              "      <td>203</td>\n",
              "      <td>Connecticut</td>\n",
              "      <td>East</td>\n",
              "      <td>Small Market</td>\n",
              "      <td>104.0</td>\n",
              "      <td>135.0</td>\n",
              "      <td>223.0</td>\n",
              "      <td>90.0</td>\n",
              "      <td>56.0</td>\n",
              "      <td>29.0</td>\n",
              "      <td>1148.0</td>\n",
              "      <td>90.0</td>\n",
              "      <td>80.0</td>\n",
              "      <td>130.0</td>\n",
              "      <td>210.0</td>\n",
              "      <td>2</td>\n",
              "      <td>07/01/11 00:00:00</td>\n",
              "      <td>Coffee</td>\n",
              "      <td>Columbian</td>\n",
              "      <td>Regular</td>\n",
              "    </tr>\n",
              "  </tbody>\n",
              "</table>\n",
              "</div>\n",
              "      <button class=\"colab-df-convert\" onclick=\"convertToInteractive('df-755a4626-7d0d-4ec4-99c2-564cd9e52dac')\"\n",
              "              title=\"Convert this dataframe to an interactive table.\"\n",
              "              style=\"display:none;\">\n",
              "        \n",
              "  <svg xmlns=\"http://www.w3.org/2000/svg\" height=\"24px\"viewBox=\"0 0 24 24\"\n",
              "       width=\"24px\">\n",
              "    <path d=\"M0 0h24v24H0V0z\" fill=\"none\"/>\n",
              "    <path d=\"M18.56 5.44l.94 2.06.94-2.06 2.06-.94-2.06-.94-.94-2.06-.94 2.06-2.06.94zm-11 1L8.5 8.5l.94-2.06 2.06-.94-2.06-.94L8.5 2.5l-.94 2.06-2.06.94zm10 10l.94 2.06.94-2.06 2.06-.94-2.06-.94-.94-2.06-.94 2.06-2.06.94z\"/><path d=\"M17.41 7.96l-1.37-1.37c-.4-.4-.92-.59-1.43-.59-.52 0-1.04.2-1.43.59L10.3 9.45l-7.72 7.72c-.78.78-.78 2.05 0 2.83L4 21.41c.39.39.9.59 1.41.59.51 0 1.02-.2 1.41-.59l7.78-7.78 2.81-2.81c.8-.78.8-2.07 0-2.86zM5.41 20L4 18.59l7.72-7.72 1.47 1.35L5.41 20z\"/>\n",
              "  </svg>\n",
              "      </button>\n",
              "      \n",
              "  <style>\n",
              "    .colab-df-container {\n",
              "      display:flex;\n",
              "      flex-wrap:wrap;\n",
              "      gap: 12px;\n",
              "    }\n",
              "\n",
              "    .colab-df-convert {\n",
              "      background-color: #E8F0FE;\n",
              "      border: none;\n",
              "      border-radius: 50%;\n",
              "      cursor: pointer;\n",
              "      display: none;\n",
              "      fill: #1967D2;\n",
              "      height: 32px;\n",
              "      padding: 0 0 0 0;\n",
              "      width: 32px;\n",
              "    }\n",
              "\n",
              "    .colab-df-convert:hover {\n",
              "      background-color: #E2EBFA;\n",
              "      box-shadow: 0px 1px 2px rgba(60, 64, 67, 0.3), 0px 1px 3px 1px rgba(60, 64, 67, 0.15);\n",
              "      fill: #174EA6;\n",
              "    }\n",
              "\n",
              "    [theme=dark] .colab-df-convert {\n",
              "      background-color: #3B4455;\n",
              "      fill: #D2E3FC;\n",
              "    }\n",
              "\n",
              "    [theme=dark] .colab-df-convert:hover {\n",
              "      background-color: #434B5C;\n",
              "      box-shadow: 0px 1px 3px 1px rgba(0, 0, 0, 0.15);\n",
              "      filter: drop-shadow(0px 1px 2px rgba(0, 0, 0, 0.3));\n",
              "      fill: #FFFFFF;\n",
              "    }\n",
              "  </style>\n",
              "\n",
              "      <script>\n",
              "        const buttonEl =\n",
              "          document.querySelector('#df-755a4626-7d0d-4ec4-99c2-564cd9e52dac button.colab-df-convert');\n",
              "        buttonEl.style.display =\n",
              "          google.colab.kernel.accessAllowed ? 'block' : 'none';\n",
              "\n",
              "        async function convertToInteractive(key) {\n",
              "          const element = document.querySelector('#df-755a4626-7d0d-4ec4-99c2-564cd9e52dac');\n",
              "          const dataTable =\n",
              "            await google.colab.kernel.invokeFunction('convertToInteractive',\n",
              "                                                     [key], {});\n",
              "          if (!dataTable) return;\n",
              "\n",
              "          const docLinkHtml = 'Like what you see? Visit the ' +\n",
              "            '<a target=\"_blank\" href=https://colab.research.google.com/notebooks/data_table.ipynb>data table notebook</a>'\n",
              "            + ' to learn more about interactive tables.';\n",
              "          element.innerHTML = '';\n",
              "          dataTable['output_type'] = 'display_data';\n",
              "          await google.colab.output.renderOutput(dataTable, element);\n",
              "          const docLink = document.createElement('div');\n",
              "          docLink.innerHTML = docLinkHtml;\n",
              "          element.appendChild(docLink);\n",
              "        }\n",
              "      </script>\n",
              "    </div>\n",
              "  </div>\n",
              "  "
            ]
          },
          "metadata": {},
          "execution_count": 5
        }
      ]
    },
    {
      "cell_type": "code",
      "source": [
        "#Profit: Lucro.\n",
        "#Margin: margem é a diferença entre o preço pelo qual um produto é vendido e os custos associados à fabricação.\n",
        "#Sales: vendas referem-se a qualquer transação em que dinheiro é trocado pelo produto/serviço.\n",
        "#COGS: Cost of goods sold (COGS) é o custo das mercadorias vendidas o custo de fabricar.\n",
        "#Total Expenses: As despesas de uma empresa são os gastos para administrar o negócio.\n",
        "#Marketing: Custos para apresentar os produtos e serviços de uma organização a clientes.\n",
        "#Inventory: São as matérias-primas usadas para produzir um produto, assim como o proprio produto.\n",
        "#Budget: O valor que esperávamos de retorno."
      ],
      "metadata": {
        "id": "tfVTnXzfWrZV"
      },
      "execution_count": null,
      "outputs": []
    },
    {
      "cell_type": "code",
      "source": [
        "dados_vendas['Date']=pd.to_datetime(dados_vendas['Date'])\n",
        "dados_vendas.head()"
      ],
      "metadata": {
        "colab": {
          "base_uri": "https://localhost:8080/",
          "height": 354
        },
        "id": "hP1d3d-6eqkN",
        "outputId": "1b25c32f-c031-45f5-a6cf-12f6c73c4736"
      },
      "execution_count": null,
      "outputs": [
        {
          "output_type": "execute_result",
          "data": {
            "text/plain": [
              "   Area Code        State Market   Market Size  Profit  Margin  Sales   COGS  \\\n",
              "0        203  Connecticut   East  Small Market   107.0   176.0  292.0  116.0   \n",
              "1        203  Connecticut   East  Small Market    75.0   135.0  225.0   90.0   \n",
              "2        203  Connecticut   East  Small Market   122.0   195.0  325.0  130.0   \n",
              "3        203  Connecticut   East  Small Market   105.0   174.0  289.0  115.0   \n",
              "4        203  Connecticut   East  Small Market   104.0   135.0  223.0   90.0   \n",
              "\n",
              "   Total Expenses  Marketing  Inventory  Budget Profit  Budget COGS  \\\n",
              "0            69.0       38.0      962.0          110.0        110.0   \n",
              "1            60.0       29.0     1148.0           90.0         80.0   \n",
              "2            73.0       42.0     1134.0          130.0        110.0   \n",
              "3            69.0       37.0     1166.0          110.0        100.0   \n",
              "4            56.0       29.0     1148.0           90.0         80.0   \n",
              "\n",
              "   Budget Margin  Budget Sales  ProductId       Date Product Type    Product  \\\n",
              "0          160.0         270.0          2 2010-04-01       Coffee  Columbian   \n",
              "1          130.0         210.0          2 2010-07-01       Coffee  Columbian   \n",
              "2          180.0         290.0          2 2010-11-01       Coffee  Columbian   \n",
              "3          160.0         260.0          2 2010-12-01       Coffee  Columbian   \n",
              "4          130.0         210.0          2 2011-07-01       Coffee  Columbian   \n",
              "\n",
              "      Type  \n",
              "0  Regular  \n",
              "1  Regular  \n",
              "2  Regular  \n",
              "3  Regular  \n",
              "4  Regular  "
            ],
            "text/html": [
              "\n",
              "  <div id=\"df-96575d47-b417-4b41-8357-383a88946064\">\n",
              "    <div class=\"colab-df-container\">\n",
              "      <div>\n",
              "<style scoped>\n",
              "    .dataframe tbody tr th:only-of-type {\n",
              "        vertical-align: middle;\n",
              "    }\n",
              "\n",
              "    .dataframe tbody tr th {\n",
              "        vertical-align: top;\n",
              "    }\n",
              "\n",
              "    .dataframe thead th {\n",
              "        text-align: right;\n",
              "    }\n",
              "</style>\n",
              "<table border=\"1\" class=\"dataframe\">\n",
              "  <thead>\n",
              "    <tr style=\"text-align: right;\">\n",
              "      <th></th>\n",
              "      <th>Area Code</th>\n",
              "      <th>State</th>\n",
              "      <th>Market</th>\n",
              "      <th>Market Size</th>\n",
              "      <th>Profit</th>\n",
              "      <th>Margin</th>\n",
              "      <th>Sales</th>\n",
              "      <th>COGS</th>\n",
              "      <th>Total Expenses</th>\n",
              "      <th>Marketing</th>\n",
              "      <th>Inventory</th>\n",
              "      <th>Budget Profit</th>\n",
              "      <th>Budget COGS</th>\n",
              "      <th>Budget Margin</th>\n",
              "      <th>Budget Sales</th>\n",
              "      <th>ProductId</th>\n",
              "      <th>Date</th>\n",
              "      <th>Product Type</th>\n",
              "      <th>Product</th>\n",
              "      <th>Type</th>\n",
              "    </tr>\n",
              "  </thead>\n",
              "  <tbody>\n",
              "    <tr>\n",
              "      <th>0</th>\n",
              "      <td>203</td>\n",
              "      <td>Connecticut</td>\n",
              "      <td>East</td>\n",
              "      <td>Small Market</td>\n",
              "      <td>107.0</td>\n",
              "      <td>176.0</td>\n",
              "      <td>292.0</td>\n",
              "      <td>116.0</td>\n",
              "      <td>69.0</td>\n",
              "      <td>38.0</td>\n",
              "      <td>962.0</td>\n",
              "      <td>110.0</td>\n",
              "      <td>110.0</td>\n",
              "      <td>160.0</td>\n",
              "      <td>270.0</td>\n",
              "      <td>2</td>\n",
              "      <td>2010-04-01</td>\n",
              "      <td>Coffee</td>\n",
              "      <td>Columbian</td>\n",
              "      <td>Regular</td>\n",
              "    </tr>\n",
              "    <tr>\n",
              "      <th>1</th>\n",
              "      <td>203</td>\n",
              "      <td>Connecticut</td>\n",
              "      <td>East</td>\n",
              "      <td>Small Market</td>\n",
              "      <td>75.0</td>\n",
              "      <td>135.0</td>\n",
              "      <td>225.0</td>\n",
              "      <td>90.0</td>\n",
              "      <td>60.0</td>\n",
              "      <td>29.0</td>\n",
              "      <td>1148.0</td>\n",
              "      <td>90.0</td>\n",
              "      <td>80.0</td>\n",
              "      <td>130.0</td>\n",
              "      <td>210.0</td>\n",
              "      <td>2</td>\n",
              "      <td>2010-07-01</td>\n",
              "      <td>Coffee</td>\n",
              "      <td>Columbian</td>\n",
              "      <td>Regular</td>\n",
              "    </tr>\n",
              "    <tr>\n",
              "      <th>2</th>\n",
              "      <td>203</td>\n",
              "      <td>Connecticut</td>\n",
              "      <td>East</td>\n",
              "      <td>Small Market</td>\n",
              "      <td>122.0</td>\n",
              "      <td>195.0</td>\n",
              "      <td>325.0</td>\n",
              "      <td>130.0</td>\n",
              "      <td>73.0</td>\n",
              "      <td>42.0</td>\n",
              "      <td>1134.0</td>\n",
              "      <td>130.0</td>\n",
              "      <td>110.0</td>\n",
              "      <td>180.0</td>\n",
              "      <td>290.0</td>\n",
              "      <td>2</td>\n",
              "      <td>2010-11-01</td>\n",
              "      <td>Coffee</td>\n",
              "      <td>Columbian</td>\n",
              "      <td>Regular</td>\n",
              "    </tr>\n",
              "    <tr>\n",
              "      <th>3</th>\n",
              "      <td>203</td>\n",
              "      <td>Connecticut</td>\n",
              "      <td>East</td>\n",
              "      <td>Small Market</td>\n",
              "      <td>105.0</td>\n",
              "      <td>174.0</td>\n",
              "      <td>289.0</td>\n",
              "      <td>115.0</td>\n",
              "      <td>69.0</td>\n",
              "      <td>37.0</td>\n",
              "      <td>1166.0</td>\n",
              "      <td>110.0</td>\n",
              "      <td>100.0</td>\n",
              "      <td>160.0</td>\n",
              "      <td>260.0</td>\n",
              "      <td>2</td>\n",
              "      <td>2010-12-01</td>\n",
              "      <td>Coffee</td>\n",
              "      <td>Columbian</td>\n",
              "      <td>Regular</td>\n",
              "    </tr>\n",
              "    <tr>\n",
              "      <th>4</th>\n",
              "      <td>203</td>\n",
              "      <td>Connecticut</td>\n",
              "      <td>East</td>\n",
              "      <td>Small Market</td>\n",
              "      <td>104.0</td>\n",
              "      <td>135.0</td>\n",
              "      <td>223.0</td>\n",
              "      <td>90.0</td>\n",
              "      <td>56.0</td>\n",
              "      <td>29.0</td>\n",
              "      <td>1148.0</td>\n",
              "      <td>90.0</td>\n",
              "      <td>80.0</td>\n",
              "      <td>130.0</td>\n",
              "      <td>210.0</td>\n",
              "      <td>2</td>\n",
              "      <td>2011-07-01</td>\n",
              "      <td>Coffee</td>\n",
              "      <td>Columbian</td>\n",
              "      <td>Regular</td>\n",
              "    </tr>\n",
              "  </tbody>\n",
              "</table>\n",
              "</div>\n",
              "      <button class=\"colab-df-convert\" onclick=\"convertToInteractive('df-96575d47-b417-4b41-8357-383a88946064')\"\n",
              "              title=\"Convert this dataframe to an interactive table.\"\n",
              "              style=\"display:none;\">\n",
              "        \n",
              "  <svg xmlns=\"http://www.w3.org/2000/svg\" height=\"24px\"viewBox=\"0 0 24 24\"\n",
              "       width=\"24px\">\n",
              "    <path d=\"M0 0h24v24H0V0z\" fill=\"none\"/>\n",
              "    <path d=\"M18.56 5.44l.94 2.06.94-2.06 2.06-.94-2.06-.94-.94-2.06-.94 2.06-2.06.94zm-11 1L8.5 8.5l.94-2.06 2.06-.94-2.06-.94L8.5 2.5l-.94 2.06-2.06.94zm10 10l.94 2.06.94-2.06 2.06-.94-2.06-.94-.94-2.06-.94 2.06-2.06.94z\"/><path d=\"M17.41 7.96l-1.37-1.37c-.4-.4-.92-.59-1.43-.59-.52 0-1.04.2-1.43.59L10.3 9.45l-7.72 7.72c-.78.78-.78 2.05 0 2.83L4 21.41c.39.39.9.59 1.41.59.51 0 1.02-.2 1.41-.59l7.78-7.78 2.81-2.81c.8-.78.8-2.07 0-2.86zM5.41 20L4 18.59l7.72-7.72 1.47 1.35L5.41 20z\"/>\n",
              "  </svg>\n",
              "      </button>\n",
              "      \n",
              "  <style>\n",
              "    .colab-df-container {\n",
              "      display:flex;\n",
              "      flex-wrap:wrap;\n",
              "      gap: 12px;\n",
              "    }\n",
              "\n",
              "    .colab-df-convert {\n",
              "      background-color: #E8F0FE;\n",
              "      border: none;\n",
              "      border-radius: 50%;\n",
              "      cursor: pointer;\n",
              "      display: none;\n",
              "      fill: #1967D2;\n",
              "      height: 32px;\n",
              "      padding: 0 0 0 0;\n",
              "      width: 32px;\n",
              "    }\n",
              "\n",
              "    .colab-df-convert:hover {\n",
              "      background-color: #E2EBFA;\n",
              "      box-shadow: 0px 1px 2px rgba(60, 64, 67, 0.3), 0px 1px 3px 1px rgba(60, 64, 67, 0.15);\n",
              "      fill: #174EA6;\n",
              "    }\n",
              "\n",
              "    [theme=dark] .colab-df-convert {\n",
              "      background-color: #3B4455;\n",
              "      fill: #D2E3FC;\n",
              "    }\n",
              "\n",
              "    [theme=dark] .colab-df-convert:hover {\n",
              "      background-color: #434B5C;\n",
              "      box-shadow: 0px 1px 3px 1px rgba(0, 0, 0, 0.15);\n",
              "      filter: drop-shadow(0px 1px 2px rgba(0, 0, 0, 0.3));\n",
              "      fill: #FFFFFF;\n",
              "    }\n",
              "  </style>\n",
              "\n",
              "      <script>\n",
              "        const buttonEl =\n",
              "          document.querySelector('#df-96575d47-b417-4b41-8357-383a88946064 button.colab-df-convert');\n",
              "        buttonEl.style.display =\n",
              "          google.colab.kernel.accessAllowed ? 'block' : 'none';\n",
              "\n",
              "        async function convertToInteractive(key) {\n",
              "          const element = document.querySelector('#df-96575d47-b417-4b41-8357-383a88946064');\n",
              "          const dataTable =\n",
              "            await google.colab.kernel.invokeFunction('convertToInteractive',\n",
              "                                                     [key], {});\n",
              "          if (!dataTable) return;\n",
              "\n",
              "          const docLinkHtml = 'Like what you see? Visit the ' +\n",
              "            '<a target=\"_blank\" href=https://colab.research.google.com/notebooks/data_table.ipynb>data table notebook</a>'\n",
              "            + ' to learn more about interactive tables.';\n",
              "          element.innerHTML = '';\n",
              "          dataTable['output_type'] = 'display_data';\n",
              "          await google.colab.output.renderOutput(dataTable, element);\n",
              "          const docLink = document.createElement('div');\n",
              "          docLink.innerHTML = docLinkHtml;\n",
              "          element.appendChild(docLink);\n",
              "        }\n",
              "      </script>\n",
              "    </div>\n",
              "  </div>\n",
              "  "
            ]
          },
          "metadata": {},
          "execution_count": 7
        }
      ]
    },
    {
      "cell_type": "code",
      "source": [
        "dados_vendas.isnull().sum()"
      ],
      "metadata": {
        "colab": {
          "base_uri": "https://localhost:8080/"
        },
        "id": "Eu8J-VPgZALr",
        "outputId": "86559c87-bd39-4de8-ca44-9e55133cb96b"
      },
      "execution_count": null,
      "outputs": [
        {
          "output_type": "execute_result",
          "data": {
            "text/plain": [
              "Area Code         0\n",
              "State             0\n",
              "Market            0\n",
              "Market Size       0\n",
              "Profit            0\n",
              "Margin            0\n",
              "Sales             0\n",
              "COGS              0\n",
              "Total Expenses    0\n",
              "Marketing         0\n",
              "Inventory         0\n",
              "Budget Profit     0\n",
              "Budget COGS       0\n",
              "Budget Margin     0\n",
              "Budget Sales      0\n",
              "ProductId         0\n",
              "Date              0\n",
              "Product Type      0\n",
              "Product           0\n",
              "Type              0\n",
              "dtype: int64"
            ]
          },
          "metadata": {},
          "execution_count": 8
        }
      ]
    },
    {
      "cell_type": "code",
      "source": [
        "dados_vendas.shape\n",
        "#numero de elementos"
      ],
      "metadata": {
        "colab": {
          "base_uri": "https://localhost:8080/"
        },
        "id": "pf-dsNanLAaa",
        "outputId": "3fe20f30-55a9-43f9-a6ef-95f290c10f3d"
      },
      "execution_count": null,
      "outputs": [
        {
          "output_type": "execute_result",
          "data": {
            "text/plain": [
              "(4248, 20)"
            ]
          },
          "metadata": {},
          "execution_count": 9
        }
      ]
    },
    {
      "cell_type": "code",
      "source": [
        "#Verificar o nome das colunas \n",
        "lista= dados_vendas.columns\n",
        "lista"
      ],
      "metadata": {
        "colab": {
          "base_uri": "https://localhost:8080/"
        },
        "id": "eXfuDeiNMzbU",
        "outputId": "9ca570c2-2114-419d-cd1a-f3f904cdfc28"
      },
      "execution_count": null,
      "outputs": [
        {
          "output_type": "execute_result",
          "data": {
            "text/plain": [
              "Index(['Area Code', 'State', 'Market', 'Market Size', 'Profit', 'Margin',\n",
              "       'Sales', 'COGS', 'Total Expenses', 'Marketing', 'Inventory',\n",
              "       'Budget Profit', 'Budget COGS', 'Budget Margin', 'Budget Sales',\n",
              "       'ProductId', 'Date', 'Product Type', 'Product', 'Type'],\n",
              "      dtype='object')"
            ]
          },
          "metadata": {},
          "execution_count": 10
        }
      ]
    },
    {
      "cell_type": "code",
      "source": [
        "dados_vendas.dtypes"
      ],
      "metadata": {
        "colab": {
          "base_uri": "https://localhost:8080/"
        },
        "id": "3vDEHJHCb4ZI",
        "outputId": "376c8b26-2dcf-40f8-ef4b-e2df5c84456a"
      },
      "execution_count": null,
      "outputs": [
        {
          "output_type": "execute_result",
          "data": {
            "text/plain": [
              "Area Code                  int64\n",
              "State                     object\n",
              "Market                    object\n",
              "Market Size               object\n",
              "Profit                   float64\n",
              "Margin                   float64\n",
              "Sales                    float64\n",
              "COGS                     float64\n",
              "Total Expenses           float64\n",
              "Marketing                float64\n",
              "Inventory                float64\n",
              "Budget Profit            float64\n",
              "Budget COGS              float64\n",
              "Budget Margin            float64\n",
              "Budget Sales             float64\n",
              "ProductId                  int64\n",
              "Date              datetime64[ns]\n",
              "Product Type              object\n",
              "Product                   object\n",
              "Type                      object\n",
              "dtype: object"
            ]
          },
          "metadata": {},
          "execution_count": 11
        }
      ]
    },
    {
      "cell_type": "code",
      "source": [
        "dados_vendas['Product Type'].value_counts()"
      ],
      "metadata": {
        "colab": {
          "base_uri": "https://localhost:8080/"
        },
        "id": "xwsF13LCUjBN",
        "outputId": "b922a097-4c25-4ee5-c9b8-bc662baa00d1"
      },
      "execution_count": null,
      "outputs": [
        {
          "output_type": "execute_result",
          "data": {
            "text/plain": [
              "Espresso      1176\n",
              "Coffee        1056\n",
              "Herbal Tea    1056\n",
              "Tea            960\n",
              "Name: Product Type, dtype: int64"
            ]
          },
          "metadata": {},
          "execution_count": 12
        }
      ]
    },
    {
      "cell_type": "code",
      "source": [
        "dados_vendas['Type'].value_counts()"
      ],
      "metadata": {
        "colab": {
          "base_uri": "https://localhost:8080/"
        },
        "id": "r8KgnbOJVWmr",
        "outputId": "eeb15d0f-17a5-40a0-f07f-a0725c6d2cc1"
      },
      "execution_count": null,
      "outputs": [
        {
          "output_type": "execute_result",
          "data": {
            "text/plain": [
              "Regular    2400\n",
              "Decaf      1848\n",
              "Name: Type, dtype: int64"
            ]
          },
          "metadata": {},
          "execution_count": 13
        }
      ]
    },
    {
      "cell_type": "markdown",
      "source": [
        "#1. Quais os 3 produtos mais vendidos? E qual o produto tem um lucro maior e qual que tem um prejuizo maior?\n"
      ],
      "metadata": {
        "id": "8V7Sy8SEV41-"
      }
    },
    {
      "cell_type": "code",
      "source": [
        "products= dados_vendas['Product'].unique()\n",
        "products"
      ],
      "metadata": {
        "colab": {
          "base_uri": "https://localhost:8080/"
        },
        "id": "ZsBMhSFPiZ9-",
        "outputId": "ca3e4a49-39b1-40f8-cdea-d9ea4e0b923e"
      },
      "execution_count": null,
      "outputs": [
        {
          "output_type": "execute_result",
          "data": {
            "text/plain": [
              "array(['Columbian', 'Green Tea', 'Caffe Mocha', 'Decaf Espresso', 'Lemon',\n",
              "       'Mint', 'Darjeeling', 'Decaf Irish Cream', 'Chamomile',\n",
              "       'Earl Grey', 'Caffe Latte', 'Amaretto', 'Regular Espresso'],\n",
              "      dtype=object)"
            ]
          },
          "metadata": {},
          "execution_count": 14
        }
      ]
    },
    {
      "cell_type": "code",
      "source": [
        "print(len(products))"
      ],
      "metadata": {
        "colab": {
          "base_uri": "https://localhost:8080/"
        },
        "id": "Km__HrzyrxSi",
        "outputId": "501e1316-2995-4154-8fe3-465939be23d9"
      },
      "execution_count": null,
      "outputs": [
        {
          "output_type": "stream",
          "name": "stdout",
          "text": [
            "13\n"
          ]
        }
      ]
    },
    {
      "cell_type": "code",
      "source": [
        "products_type= dados_vendas['Product Type'].unique()\n",
        "products_type"
      ],
      "metadata": {
        "colab": {
          "base_uri": "https://localhost:8080/"
        },
        "id": "6R_yZOmPi2Ud",
        "outputId": "eed80a30-8bf8-4cc0-9763-dd91680f9a85"
      },
      "execution_count": null,
      "outputs": [
        {
          "output_type": "execute_result",
          "data": {
            "text/plain": [
              "array(['Coffee', 'Tea', 'Espresso', 'Herbal Tea'], dtype=object)"
            ]
          },
          "metadata": {},
          "execution_count": 16
        }
      ]
    },
    {
      "cell_type": "code",
      "source": [
        "print(len(products_type))"
      ],
      "metadata": {
        "colab": {
          "base_uri": "https://localhost:8080/"
        },
        "id": "59tofXP4sEdr",
        "outputId": "2169b50c-0a82-41ed-e4b4-25b897afa848"
      },
      "execution_count": null,
      "outputs": [
        {
          "output_type": "stream",
          "name": "stdout",
          "text": [
            "4\n"
          ]
        }
      ]
    },
    {
      "cell_type": "code",
      "source": [
        "#Os mais vendidos\n",
        "product_vendas= dados_vendas['Product'].value_counts()\n",
        "print (product_vendas)"
      ],
      "metadata": {
        "colab": {
          "base_uri": "https://localhost:8080/"
        },
        "id": "S5WVxyUyU0IT",
        "outputId": "557e9326-53f7-4452-c022-2f3b56e18daf"
      },
      "execution_count": null,
      "outputs": [
        {
          "output_type": "stream",
          "name": "stdout",
          "text": [
            "Columbian            480\n",
            "Caffe Mocha          480\n",
            "Lemon                480\n",
            "Decaf Espresso       408\n",
            "Darjeeling           384\n",
            "Decaf Irish Cream    384\n",
            "Chamomile            384\n",
            "Green Tea            288\n",
            "Earl Grey            288\n",
            "Caffe Latte          216\n",
            "Mint                 192\n",
            "Amaretto             192\n",
            "Regular Espresso      72\n",
            "Name: Product, dtype: int64\n"
          ]
        }
      ]
    },
    {
      "cell_type": "code",
      "source": [
        "#Agrupamos os grupos segundo seu produto\n",
        "marketGroup = dados_vendas.groupby(by='Product')\n",
        "print(marketGroup.head())"
      ],
      "metadata": {
        "colab": {
          "base_uri": "https://localhost:8080/"
        },
        "id": "xkNzYx1gk11f",
        "outputId": "3766ec2f-7898-48af-f268-03dac5f392b8"
      },
      "execution_count": null,
      "outputs": [
        {
          "output_type": "stream",
          "name": "stdout",
          "text": [
            "     Area Code          State   Market   Market Size  Profit  Margin  Sales  \\\n",
            "0          203    Connecticut     East  Small Market   107.0   176.0  292.0   \n",
            "1          203    Connecticut     East  Small Market    75.0   135.0  225.0   \n",
            "2          203    Connecticut     East  Small Market   122.0   195.0  325.0   \n",
            "3          203    Connecticut     East  Small Market   105.0   174.0  289.0   \n",
            "4          203    Connecticut     East  Small Market   104.0   135.0  223.0   \n",
            "..         ...            ...      ...           ...     ...     ...    ...   \n",
            "163        212       New York     East  Major Market   646.0   526.0  815.0   \n",
            "187        216           Ohio  Central  Major Market    37.0    71.0  122.0   \n",
            "810        339  Massachusetts     East  Major Market    84.0   149.0  298.0   \n",
            "811        339  Massachusetts     East  Major Market    83.0   149.0  298.0   \n",
            "812        339  Massachusetts     East  Major Market   112.0   146.0  288.0   \n",
            "\n",
            "      COGS  Total Expenses  Marketing  Inventory  Budget Profit  Budget COGS  \\\n",
            "0    116.0            69.0       38.0      962.0          110.0        110.0   \n",
            "1     90.0            60.0       29.0     1148.0           90.0         80.0   \n",
            "2    130.0            73.0       42.0     1134.0          130.0        110.0   \n",
            "3    115.0            69.0       37.0     1166.0          110.0        100.0   \n",
            "4     90.0            56.0       29.0     1148.0           90.0         80.0   \n",
            "..     ...             ...        ...        ...            ...          ...   \n",
            "163  239.0            91.0       66.0     1197.0          450.0        210.0   \n",
            "187   52.0            41.0       17.0      361.0           40.0         50.0   \n",
            "810  149.0            65.0       41.0     1156.0          100.0        140.0   \n",
            "811  149.0            66.0       41.0     1245.0          100.0        140.0   \n",
            "812  145.0            60.0       40.0     1304.0          100.0        130.0   \n",
            "\n",
            "     Budget Margin  Budget Sales  ProductId       Date Product Type  \\\n",
            "0            160.0         270.0          2 2010-04-01       Coffee   \n",
            "1            130.0         210.0          2 2010-07-01       Coffee   \n",
            "2            180.0         290.0          2 2010-11-01       Coffee   \n",
            "3            160.0         260.0          2 2010-12-01       Coffee   \n",
            "4            130.0         210.0          2 2011-07-01       Coffee   \n",
            "..             ...           ...        ...        ...          ...   \n",
            "163          510.0         720.0          7 2011-10-01     Espresso   \n",
            "187           70.0         120.0          1 2011-05-01       Coffee   \n",
            "810          150.0         290.0          7 2010-05-01     Espresso   \n",
            "811          150.0         290.0          7 2010-06-01     Espresso   \n",
            "812          150.0         280.0          7 2011-07-01     Espresso   \n",
            "\n",
            "              Product     Type  \n",
            "0           Columbian  Regular  \n",
            "1           Columbian  Regular  \n",
            "2           Columbian  Regular  \n",
            "3           Columbian  Regular  \n",
            "4           Columbian  Regular  \n",
            "..                ...      ...  \n",
            "163  Regular Espresso  Regular  \n",
            "187          Amaretto  Regular  \n",
            "810  Regular Espresso  Regular  \n",
            "811  Regular Espresso  Regular  \n",
            "812  Regular Espresso  Regular  \n",
            "\n",
            "[65 rows x 20 columns]\n"
          ]
        }
      ]
    },
    {
      "cell_type": "code",
      "source": [
        "print(marketGroup.Profit.describe())"
      ],
      "metadata": {
        "colab": {
          "base_uri": "https://localhost:8080/"
        },
        "id": "4FajTCv6lgdF",
        "outputId": "c500ddf3-ea08-473b-ba11-ad66b1f58b80"
      },
      "execution_count": null,
      "outputs": [
        {
          "output_type": "stream",
          "name": "stdout",
          "text": [
            "                   count        mean         std    min    25%    50%     75%  \\\n",
            "Product                                                                         \n",
            "Amaretto           192.0   25.468750   64.848991 -192.0   6.50   25.0   47.00   \n",
            "Caffe Latte        216.0   52.662037   61.335006  -22.0  11.00   35.0   69.25   \n",
            "Caffe Mocha        480.0   36.829167   97.495763 -392.0   9.00   27.0   69.00   \n",
            "Chamomile          384.0   70.914062   72.901525  -17.0  23.75   42.0  105.00   \n",
            "Columbian          480.0  116.258333  146.262083   -7.0  27.00   49.5  156.00   \n",
            "Darjeeling         384.0   75.658854   77.548003  -16.0  19.00   45.0  112.00   \n",
            "Decaf Espresso     408.0   72.308824   69.520914    6.0  27.00   47.5   87.00   \n",
            "Decaf Irish Cream  384.0   36.429688   72.411215 -221.0   9.00   35.0   71.25   \n",
            "Earl Grey          288.0   83.902778   77.109752  -24.0  20.75   68.0  133.25   \n",
            "Green Tea          288.0   -0.802083  145.972836 -638.0   0.00   30.0   58.25   \n",
            "Lemon              480.0   62.227083   82.332822  -65.0  16.00   35.0   70.00   \n",
            "Mint               192.0   32.052083  107.491762 -420.0  20.75   47.0   97.50   \n",
            "Regular Espresso    72.0  139.791667  153.097772  -24.0  -4.00  110.0  226.75   \n",
            "\n",
            "                     max  \n",
            "Product                   \n",
            "Amaretto           199.0  \n",
            "Caffe Latte        233.0  \n",
            "Caffe Mocha        362.0  \n",
            "Chamomile          362.0  \n",
            "Columbian          778.0  \n",
            "Darjeeling         362.0  \n",
            "Decaf Espresso     362.0  \n",
            "Decaf Irish Cream  207.0  \n",
            "Earl Grey          331.0  \n",
            "Green Tea          180.0  \n",
            "Lemon              536.0  \n",
            "Mint               207.0  \n",
            "Regular Espresso   646.0  \n"
          ]
        }
      ]
    },
    {
      "cell_type": "code",
      "source": [
        "plt.figure(figsize=(15,15))\n",
        "sns.scatterplot(data=dados_vendas, x='ProductId', y='Profit', hue='Product')\n",
        "plt.title('Lucro por Produto')\n",
        "plt.ylabel('Profits($)')"
      ],
      "metadata": {
        "colab": {
          "base_uri": "https://localhost:8080/",
          "height": 911
        },
        "id": "SNVxKYLANPLK",
        "outputId": "9fd1a56b-5205-479a-8309-d1f1c8550eed"
      },
      "execution_count": null,
      "outputs": [
        {
          "output_type": "execute_result",
          "data": {
            "text/plain": [
              "Text(0, 0.5, 'Profits($)')"
            ]
          },
          "metadata": {},
          "execution_count": 21
        },
        {
          "output_type": "display_data",
          "data": {
            "text/plain": [
              "<Figure size 1080x1080 with 1 Axes>"
            ],
            "image/png": "[encoded data removed]"
          },
          "metadata": {
            "needs_background": "light"
          }
        }
      ]
    },
    {
      "cell_type": "markdown",
      "source": [
        "#2. Quais os estados que mais faturam?"
      ],
      "metadata": {
        "id": "ET6pklf2WCDr"
      }
    },
    {
      "cell_type": "code",
      "source": [
        "state= dados_vendas['State'].unique()\n",
        "print(len(state))"
      ],
      "metadata": {
        "colab": {
          "base_uri": "https://localhost:8080/"
        },
        "id": "-q9hog7_hnYA",
        "outputId": "e26d7989-55bd-4c47-ccce-f14bffbf2f45"
      },
      "execution_count": null,
      "outputs": [
        {
          "output_type": "stream",
          "name": "stdout",
          "text": [
            "20\n"
          ]
        }
      ]
    },
    {
      "cell_type": "code",
      "source": [
        "dados_vendas['State'].value_counts()"
      ],
      "metadata": {
        "colab": {
          "base_uri": "https://localhost:8080/"
        },
        "id": "MNAP3fu8VhsG",
        "outputId": "30d240e4-f157-4a10-8ac2-c50d7a030ea7"
      },
      "execution_count": null,
      "outputs": [
        {
          "output_type": "execute_result",
          "data": {
            "text/plain": [
              "Utah             288\n",
              "California       288\n",
              "Colorado         264\n",
              "Oregon           264\n",
              "Nevada           264\n",
              "Washington       240\n",
              "Ohio             216\n",
              "Illinois         216\n",
              "Florida          216\n",
              "Wisconsin        216\n",
              "Missouri         216\n",
              "Iowa             216\n",
              "New York         192\n",
              "Louisiana        168\n",
              "Oklahoma         168\n",
              "Texas            168\n",
              "New Mexico       168\n",
              "New Hampshire    168\n",
              "Connecticut      168\n",
              "Massachusetts    144\n",
              "Name: State, dtype: int64"
            ]
          },
          "metadata": {},
          "execution_count": 23
        }
      ]
    },
    {
      "cell_type": "code",
      "source": [
        "#plt.figure(figsize=(23,8))\n",
        "#sns.countplot(x='State', data=dados_vendas)"
      ],
      "metadata": {
        "id": "pNzCZcFbcGdd"
      },
      "execution_count": null,
      "outputs": []
    },
    {
      "cell_type": "code",
      "source": [
        "dados_agrupados = dados_vendas.groupby(['State', 'Product'], as_index=False).sum()\n"
      ],
      "metadata": {
        "id": "diRun1ts0-ft"
      },
      "execution_count": null,
      "outputs": []
    },
    {
      "cell_type": "code",
      "source": [
        "dados_10primeiros = dados_agrupados.sort_values(by='Sales', ascending=False)\n",
        "sns.catplot(x='State', y='Sales', data=dados_10primeiros, hue='Product', kind='bar', aspect=8)"
      ],
      "metadata": {
        "colab": {
          "base_uri": "https://localhost:8080/",
          "height": 407
        },
        "id": "DO-HElNC3KCd",
        "outputId": "e2f9f608-6e49-4d97-9b8c-7fe2e0f63d2a"
      },
      "execution_count": null,
      "outputs": [
        {
          "output_type": "execute_result",
          "data": {
            "text/plain": [
              "<seaborn.axisgrid.FacetGrid at 0x7fd0dd2fd340>"
            ]
          },
          "metadata": {},
          "execution_count": 26
        },
        {
          "output_type": "display_data",
          "data": {
            "text/plain": [
              "<Figure size 3005.5x360 with 1 Axes>"
            ],
            "image/png": "[encoded data removed]"
          },
          "metadata": {
            "needs_background": "light"
          }
        }
      ]
    },
    {
      "cell_type": "markdown",
      "source": [
        "#3.1 Prever\n"
      ],
      "metadata": {
        "id": "kP022F-mWOTQ"
      }
    },
    {
      "cell_type": "code",
      "source": [
        "# Plotando um gráfico de correlação, para ver como os dados se correlacionam.\n",
        "plt.rcParams['figure.figsize'] = (9,9)\n",
        "sns.heatmap(dados_vendas.corr(),cmap=\"BuPu\", annot=True)"
      ],
      "metadata": {
        "id": "zbqyvEGscyLe",
        "colab": {
          "base_uri": "https://localhost:8080/",
          "height": 623
        },
        "outputId": "d20627d2-2993-402b-d2dd-d48d621380dc"
      },
      "execution_count": null,
      "outputs": [
        {
          "output_type": "execute_result",
          "data": {
            "text/plain": [
              "<matplotlib.axes._subplots.AxesSubplot at 0x7fd0dd3037c0>"
            ]
          },
          "metadata": {},
          "execution_count": 27
        },
        {
          "output_type": "display_data",
          "data": {
            "text/plain": [
              "<Figure size 648x648 with 2 Axes>"
            ],
            "image/png": "[encoded data removed]"
          },
          "metadata": {
            "needs_background": "light"
          }
        }
      ]
    },
    {
      "cell_type": "code",
      "source": [
        "plt.figure(figsize=(10,10))\n",
        "plt.title(\"Sale Vs COGS\")\n",
        "plt.xlabel(\"COGS\")\n",
        "plt.ylabel(\"Sales\")\n",
        "sns.regplot(data=dados_vendas,x='COGS',y='Sales')"
      ],
      "metadata": {
        "colab": {
          "base_uri": "https://localhost:8080/",
          "height": 639
        },
        "id": "SiiQ-m1LXXRY",
        "outputId": "e9c388e9-d334-4f72-872c-5d1b6217bc9d"
      },
      "execution_count": null,
      "outputs": [
        {
          "output_type": "execute_result",
          "data": {
            "text/plain": [
              "<matplotlib.axes._subplots.AxesSubplot at 0x7fd0c787ddc0>"
            ]
          },
          "metadata": {},
          "execution_count": 56
        },
        {
          "output_type": "display_data",
          "data": {
            "text/plain": [
              "<Figure size 720x720 with 1 Axes>"
            ],
            "image/png": "[encoded data removed]"
          },
          "metadata": {
            "needs_background": "light"
          }
        }
      ]
    },
    {
      "cell_type": "code",
      "source": [
        "dados1=dados_vendas.drop('Date',axis=1).copy()\n",
        "dados2=dados1.drop('Product',axis=1).copy()\n",
        "dados2"
      ],
      "metadata": {
        "colab": {
          "base_uri": "https://localhost:8080/",
          "height": 658
        },
        "id": "ePtWbFZacQ6z",
        "outputId": "dd67338d-37fa-409e-817a-ee1a4e5ee371"
      },
      "execution_count": null,
      "outputs": [
        {
          "output_type": "execute_result",
          "data": {
            "text/plain": [
              "      Area Code        State Market   Market Size  Profit  Margin  Sales  \\\n",
              "0           203  Connecticut   East  Small Market   107.0   176.0  292.0   \n",
              "1           203  Connecticut   East  Small Market    75.0   135.0  225.0   \n",
              "2           203  Connecticut   East  Small Market   122.0   195.0  325.0   \n",
              "3           203  Connecticut   East  Small Market   105.0   174.0  289.0   \n",
              "4           203  Connecticut   East  Small Market   104.0   135.0  223.0   \n",
              "...         ...          ...    ...           ...     ...     ...    ...   \n",
              "4243        985    Louisiana  South  Small Market    -6.0    66.0  113.0   \n",
              "4244        985    Louisiana  South  Small Market    -7.0    61.0  105.0   \n",
              "4245        985    Louisiana  South  Small Market    -3.0    76.0  131.0   \n",
              "4246        985    Louisiana  South  Small Market     1.0    87.0  160.0   \n",
              "4247        985    Louisiana  South  Small Market     4.0    90.0  153.0   \n",
              "\n",
              "       COGS  Total Expenses  Marketing  Inventory  Budget Profit  Budget COGS  \\\n",
              "0     116.0            69.0       38.0      962.0          110.0        110.0   \n",
              "1      90.0            60.0       29.0     1148.0           90.0         80.0   \n",
              "2     130.0            73.0       42.0     1134.0          130.0        110.0   \n",
              "3     115.0            69.0       37.0     1166.0          110.0        100.0   \n",
              "4      90.0            56.0       29.0     1148.0           90.0         80.0   \n",
              "...     ...             ...        ...        ...            ...          ...   \n",
              "4243   47.0            72.0       42.0     -395.0            0.0         40.0   \n",
              "4244   44.0            68.0       39.0     -508.0           10.0         30.0   \n",
              "4245   55.0            79.0       49.0    -1053.0            0.0         40.0   \n",
              "4246   63.0            86.0       57.0       37.0            0.0         50.0   \n",
              "4247   64.0            81.0       58.0     -113.0           10.0         50.0   \n",
              "\n",
              "      Budget Margin  Budget Sales  ProductId Product Type     Type  \n",
              "0             160.0         270.0          2       Coffee  Regular  \n",
              "1             130.0         210.0          2       Coffee  Regular  \n",
              "2             180.0         290.0          2       Coffee  Regular  \n",
              "3             160.0         260.0          2       Coffee  Regular  \n",
              "4             130.0         210.0          2       Coffee  Regular  \n",
              "...             ...           ...        ...          ...      ...  \n",
              "4243           50.0          90.0          4     Espresso  Regular  \n",
              "4244           60.0          90.0          4     Espresso  Regular  \n",
              "4245           60.0         100.0          4     Espresso  Regular  \n",
              "4246           70.0         120.0          4     Espresso  Regular  \n",
              "4247           80.0         130.0          4     Espresso  Regular  \n",
              "\n",
              "[4248 rows x 18 columns]"
            ],
            "text/html": [
              "\n",
              "  <div id=\"df-86c5c9e6-c6e3-467f-8823-0252a3462666\">\n",
              "    <div class=\"colab-df-container\">\n",
              "      <div>\n",
              "<style scoped>\n",
              "    .dataframe tbody tr th:only-of-type {\n",
              "        vertical-align: middle;\n",
              "    }\n",
              "\n",
              "    .dataframe tbody tr th {\n",
              "        vertical-align: top;\n",
              "    }\n",
              "\n",
              "    .dataframe thead th {\n",
              "        text-align: right;\n",
              "    }\n",
              "</style>\n",
              "<table border=\"1\" class=\"dataframe\">\n",
              "  <thead>\n",
              "    <tr style=\"text-align: right;\">\n",
              "      <th></th>\n",
              "      <th>Area Code</th>\n",
              "      <th>State</th>\n",
              "      <th>Market</th>\n",
              "      <th>Market Size</th>\n",
              "      <th>Profit</th>\n",
              "      <th>Margin</th>\n",
              "      <th>Sales</th>\n",
              "      <th>COGS</th>\n",
              "      <th>Total Expenses</th>\n",
              "      <th>Marketing</th>\n",
              "      <th>Inventory</th>\n",
              "      <th>Budget Profit</th>\n",
              "      <th>Budget COGS</th>\n",
              "      <th>Budget Margin</th>\n",
              "      <th>Budget Sales</th>\n",
              "      <th>ProductId</th>\n",
              "      <th>Product Type</th>\n",
              "      <th>Type</th>\n",
              "    </tr>\n",
              "  </thead>\n",
              "  <tbody>\n",
              "    <tr>\n",
              "      <th>0</th>\n",
              "      <td>203</td>\n",
              "      <td>Connecticut</td>\n",
              "      <td>East</td>\n",
              "      <td>Small Market</td>\n",
              "      <td>107.0</td>\n",
              "      <td>176.0</td>\n",
              "      <td>292.0</td>\n",
              "      <td>116.0</td>\n",
              "      <td>69.0</td>\n",
              "      <td>38.0</td>\n",
              "      <td>962.0</td>\n",
              "      <td>110.0</td>\n",
              "      <td>110.0</td>\n",
              "      <td>160.0</td>\n",
              "      <td>270.0</td>\n",
              "      <td>2</td>\n",
              "      <td>Coffee</td>\n",
              "      <td>Regular</td>\n",
              "    </tr>\n",
              "    <tr>\n",
              "      <th>1</th>\n",
              "      <td>203</td>\n",
              "      <td>Connecticut</td>\n",
              "      <td>East</td>\n",
              "      <td>Small Market</td>\n",
              "      <td>75.0</td>\n",
              "      <td>135.0</td>\n",
              "      <td>225.0</td>\n",
              "      <td>90.0</td>\n",
              "      <td>60.0</td>\n",
              "      <td>29.0</td>\n",
              "      <td>1148.0</td>\n",
              "      <td>90.0</td>\n",
              "      <td>80.0</td>\n",
              "      <td>130.0</td>\n",
              "      <td>210.0</td>\n",
              "      <td>2</td>\n",
              "      <td>Coffee</td>\n",
              "      <td>Regular</td>\n",
              "    </tr>\n",
              "    <tr>\n",
              "      <th>2</th>\n",
              "      <td>203</td>\n",
              "      <td>Connecticut</td>\n",
              "      <td>East</td>\n",
              "      <td>Small Market</td>\n",
              "      <td>122.0</td>\n",
              "      <td>195.0</td>\n",
              "      <td>325.0</td>\n",
              "      <td>130.0</td>\n",
              "      <td>73.0</td>\n",
              "      <td>42.0</td>\n",
              "      <td>1134.0</td>\n",
              "      <td>130.0</td>\n",
              "      <td>110.0</td>\n",
              "      <td>180.0</td>\n",
              "      <td>290.0</td>\n",
              "      <td>2</td>\n",
              "      <td>Coffee</td>\n",
              "      <td>Regular</td>\n",
              "    </tr>\n",
              "    <tr>\n",
              "      <th>3</th>\n",
              "      <td>203</td>\n",
              "      <td>Connecticut</td>\n",
              "      <td>East</td>\n",
              "      <td>Small Market</td>\n",
              "      <td>105.0</td>\n",
              "      <td>174.0</td>\n",
              "      <td>289.0</td>\n",
              "      <td>115.0</td>\n",
              "      <td>69.0</td>\n",
              "      <td>37.0</td>\n",
              "      <td>1166.0</td>\n",
              "      <td>110.0</td>\n",
              "      <td>100.0</td>\n",
              "      <td>160.0</td>\n",
              "      <td>260.0</td>\n",
              "      <td>2</td>\n",
              "      <td>Coffee</td>\n",
              "      <td>Regular</td>\n",
              "    </tr>\n",
              "    <tr>\n",
              "      <th>4</th>\n",
              "      <td>203</td>\n",
              "      <td>Connecticut</td>\n",
              "      <td>East</td>\n",
              "      <td>Small Market</td>\n",
              "      <td>104.0</td>\n",
              "      <td>135.0</td>\n",
              "      <td>223.0</td>\n",
              "      <td>90.0</td>\n",
              "      <td>56.0</td>\n",
              "      <td>29.0</td>\n",
              "      <td>1148.0</td>\n",
              "      <td>90.0</td>\n",
              "      <td>80.0</td>\n",
              "      <td>130.0</td>\n",
              "      <td>210.0</td>\n",
              "      <td>2</td>\n",
              "      <td>Coffee</td>\n",
              "      <td>Regular</td>\n",
              "    </tr>\n",
              "    <tr>\n",
              "      <th>...</th>\n",
              "      <td>...</td>\n",
              "      <td>...</td>\n",
              "      <td>...</td>\n",
              "      <td>...</td>\n",
              "      <td>...</td>\n",
              "      <td>...</td>\n",
              "      <td>...</td>\n",
              "      <td>...</td>\n",
              "      <td>...</td>\n",
              "      <td>...</td>\n",
              "      <td>...</td>\n",
              "      <td>...</td>\n",
              "      <td>...</td>\n",
              "      <td>...</td>\n",
              "      <td>...</td>\n",
              "      <td>...</td>\n",
              "      <td>...</td>\n",
              "      <td>...</td>\n",
              "    </tr>\n",
              "    <tr>\n",
              "      <th>4243</th>\n",
              "      <td>985</td>\n",
              "      <td>Louisiana</td>\n",
              "      <td>South</td>\n",
              "      <td>Small Market</td>\n",
              "      <td>-6.0</td>\n",
              "      <td>66.0</td>\n",
              "      <td>113.0</td>\n",
              "      <td>47.0</td>\n",
              "      <td>72.0</td>\n",
              "      <td>42.0</td>\n",
              "      <td>-395.0</td>\n",
              "      <td>0.0</td>\n",
              "      <td>40.0</td>\n",
              "      <td>50.0</td>\n",
              "      <td>90.0</td>\n",
              "      <td>4</td>\n",
              "      <td>Espresso</td>\n",
              "      <td>Regular</td>\n",
              "    </tr>\n",
              "    <tr>\n",
              "      <th>4244</th>\n",
              "      <td>985</td>\n",
              "      <td>Louisiana</td>\n",
              "      <td>South</td>\n",
              "      <td>Small Market</td>\n",
              "      <td>-7.0</td>\n",
              "      <td>61.0</td>\n",
              "      <td>105.0</td>\n",
              "      <td>44.0</td>\n",
              "      <td>68.0</td>\n",
              "      <td>39.0</td>\n",
              "      <td>-508.0</td>\n",
              "      <td>10.0</td>\n",
              "      <td>30.0</td>\n",
              "      <td>60.0</td>\n",
              "      <td>90.0</td>\n",
              "      <td>4</td>\n",
              "      <td>Espresso</td>\n",
              "      <td>Regular</td>\n",
              "    </tr>\n",
              "    <tr>\n",
              "      <th>4245</th>\n",
              "      <td>985</td>\n",
              "      <td>Louisiana</td>\n",
              "      <td>South</td>\n",
              "      <td>Small Market</td>\n",
              "      <td>-3.0</td>\n",
              "      <td>76.0</td>\n",
              "      <td>131.0</td>\n",
              "      <td>55.0</td>\n",
              "      <td>79.0</td>\n",
              "      <td>49.0</td>\n",
              "      <td>-1053.0</td>\n",
              "      <td>0.0</td>\n",
              "      <td>40.0</td>\n",
              "      <td>60.0</td>\n",
              "      <td>100.0</td>\n",
              "      <td>4</td>\n",
              "      <td>Espresso</td>\n",
              "      <td>Regular</td>\n",
              "    </tr>\n",
              "    <tr>\n",
              "      <th>4246</th>\n",
              "      <td>985</td>\n",
              "      <td>Louisiana</td>\n",
              "      <td>South</td>\n",
              "      <td>Small Market</td>\n",
              "      <td>1.0</td>\n",
              "      <td>87.0</td>\n",
              "      <td>160.0</td>\n",
              "      <td>63.0</td>\n",
              "      <td>86.0</td>\n",
              "      <td>57.0</td>\n",
              "      <td>37.0</td>\n",
              "      <td>0.0</td>\n",
              "      <td>50.0</td>\n",
              "      <td>70.0</td>\n",
              "      <td>120.0</td>\n",
              "      <td>4</td>\n",
              "      <td>Espresso</td>\n",
              "      <td>Regular</td>\n",
              "    </tr>\n",
              "    <tr>\n",
              "      <th>4247</th>\n",
              "      <td>985</td>\n",
              "      <td>Louisiana</td>\n",
              "      <td>South</td>\n",
              "      <td>Small Market</td>\n",
              "      <td>4.0</td>\n",
              "      <td>90.0</td>\n",
              "      <td>153.0</td>\n",
              "      <td>64.0</td>\n",
              "      <td>81.0</td>\n",
              "      <td>58.0</td>\n",
              "      <td>-113.0</td>\n",
              "      <td>10.0</td>\n",
              "      <td>50.0</td>\n",
              "      <td>80.0</td>\n",
              "      <td>130.0</td>\n",
              "      <td>4</td>\n",
              "      <td>Espresso</td>\n",
              "      <td>Regular</td>\n",
              "    </tr>\n",
              "  </tbody>\n",
              "</table>\n",
              "<p>4248 rows × 18 columns</p>\n",
              "</div>\n",
              "      <button class=\"colab-df-convert\" onclick=\"convertToInteractive('df-86c5c9e6-c6e3-467f-8823-0252a3462666')\"\n",
              "              title=\"Convert this dataframe to an interactive table.\"\n",
              "              style=\"display:none;\">\n",
              "        \n",
              "  <svg xmlns=\"http://www.w3.org/2000/svg\" height=\"24px\"viewBox=\"0 0 24 24\"\n",
              "       width=\"24px\">\n",
              "    <path d=\"M0 0h24v24H0V0z\" fill=\"none\"/>\n",
              "    <path d=\"M18.56 5.44l.94 2.06.94-2.06 2.06-.94-2.06-.94-.94-2.06-.94 2.06-2.06.94zm-11 1L8.5 8.5l.94-2.06 2.06-.94-2.06-.94L8.5 2.5l-.94 2.06-2.06.94zm10 10l.94 2.06.94-2.06 2.06-.94-2.06-.94-.94-2.06-.94 2.06-2.06.94z\"/><path d=\"M17.41 7.96l-1.37-1.37c-.4-.4-.92-.59-1.43-.59-.52 0-1.04.2-1.43.59L10.3 9.45l-7.72 7.72c-.78.78-.78 2.05 0 2.83L4 21.41c.39.39.9.59 1.41.59.51 0 1.02-.2 1.41-.59l7.78-7.78 2.81-2.81c.8-.78.8-2.07 0-2.86zM5.41 20L4 18.59l7.72-7.72 1.47 1.35L5.41 20z\"/>\n",
              "  </svg>\n",
              "      </button>\n",
              "      \n",
              "  <style>\n",
              "    .colab-df-container {\n",
              "      display:flex;\n",
              "      flex-wrap:wrap;\n",
              "      gap: 12px;\n",
              "    }\n",
              "\n",
              "    .colab-df-convert {\n",
              "      background-color: #E8F0FE;\n",
              "      border: none;\n",
              "      border-radius: 50%;\n",
              "      cursor: pointer;\n",
              "      display: none;\n",
              "      fill: #1967D2;\n",
              "      height: 32px;\n",
              "      padding: 0 0 0 0;\n",
              "      width: 32px;\n",
              "    }\n",
              "\n",
              "    .colab-df-convert:hover {\n",
              "      background-color: #E2EBFA;\n",
              "      box-shadow: 0px 1px 2px rgba(60, 64, 67, 0.3), 0px 1px 3px 1px rgba(60, 64, 67, 0.15);\n",
              "      fill: #174EA6;\n",
              "    }\n",
              "\n",
              "    [theme=dark] .colab-df-convert {\n",
              "      background-color: #3B4455;\n",
              "      fill: #D2E3FC;\n",
              "    }\n",
              "\n",
              "    [theme=dark] .colab-df-convert:hover {\n",
              "      background-color: #434B5C;\n",
              "      box-shadow: 0px 1px 3px 1px rgba(0, 0, 0, 0.15);\n",
              "      filter: drop-shadow(0px 1px 2px rgba(0, 0, 0, 0.3));\n",
              "      fill: #FFFFFF;\n",
              "    }\n",
              "  </style>\n",
              "\n",
              "      <script>\n",
              "        const buttonEl =\n",
              "          document.querySelector('#df-86c5c9e6-c6e3-467f-8823-0252a3462666 button.colab-df-convert');\n",
              "        buttonEl.style.display =\n",
              "          google.colab.kernel.accessAllowed ? 'block' : 'none';\n",
              "\n",
              "        async function convertToInteractive(key) {\n",
              "          const element = document.querySelector('#df-86c5c9e6-c6e3-467f-8823-0252a3462666');\n",
              "          const dataTable =\n",
              "            await google.colab.kernel.invokeFunction('convertToInteractive',\n",
              "                                                     [key], {});\n",
              "          if (!dataTable) return;\n",
              "\n",
              "          const docLinkHtml = 'Like what you see? Visit the ' +\n",
              "            '<a target=\"_blank\" href=https://colab.research.google.com/notebooks/data_table.ipynb>data table notebook</a>'\n",
              "            + ' to learn more about interactive tables.';\n",
              "          element.innerHTML = '';\n",
              "          dataTable['output_type'] = 'display_data';\n",
              "          await google.colab.output.renderOutput(dataTable, element);\n",
              "          const docLink = document.createElement('div');\n",
              "          docLink.innerHTML = docLinkHtml;\n",
              "          element.appendChild(docLink);\n",
              "        }\n",
              "      </script>\n",
              "    </div>\n",
              "  </div>\n",
              "  "
            ]
          },
          "metadata": {},
          "execution_count": 29
        }
      ]
    },
    {
      "cell_type": "code",
      "source": [
        "dados2['Inventory']= dados2['Inventory'].apply(lambda value: value if value>=0 else 0)\n",
        "dados2['Inventory']"
      ],
      "metadata": {
        "colab": {
          "base_uri": "https://localhost:8080/"
        },
        "id": "sjjPPP6tSVJx",
        "outputId": "f840b717-d1e4-4088-f015-410612fe4657"
      },
      "execution_count": null,
      "outputs": [
        {
          "output_type": "execute_result",
          "data": {
            "text/plain": [
              "0        962.0\n",
              "1       1148.0\n",
              "2       1134.0\n",
              "3       1166.0\n",
              "4       1148.0\n",
              "         ...  \n",
              "4243       0.0\n",
              "4244       0.0\n",
              "4245       0.0\n",
              "4246      37.0\n",
              "4247       0.0\n",
              "Name: Inventory, Length: 4248, dtype: float64"
            ]
          },
          "metadata": {},
          "execution_count": 30
        }
      ]
    },
    {
      "cell_type": "markdown",
      "source": [
        "Dados limpos"
      ],
      "metadata": {
        "id": "sD1YErHcS8Vw"
      }
    },
    {
      "cell_type": "code",
      "source": [
        "col_names =['Area Code', 'State', 'Market', 'Market Size', 'Profit', 'Margin',\n",
        "       'Sales', 'COGS', 'Total Expenses', 'Marketing', 'Inventory',\n",
        "       'Budget Profit', 'Budget COGS', 'Budget Margin', 'Budget Sales',\n",
        "       'ProductId', 'Product Type', 'Type']\n",
        "for col in col_names:\n",
        "          print(dados2[col].value_counts())   "
      ],
      "metadata": {
        "colab": {
          "base_uri": "https://localhost:8080/"
        },
        "id": "I2Or8gcNelYl",
        "outputId": "153ffeb2-96fd-47b8-c3f8-6ccf70f3a8d8"
      },
      "execution_count": null,
      "outputs": [
        {
          "output_type": "stream",
          "name": "stdout",
          "text": [
            "435    215\n",
            "603    168\n",
            "505    168\n",
            "775    144\n",
            "702    120\n",
            "      ... \n",
            "940      4\n",
            "361      4\n",
            "713      4\n",
            "858      4\n",
            "559      4\n",
            "Name: Area Code, Length: 156, dtype: int64\n",
            "Utah             288\n",
            "California       288\n",
            "Colorado         264\n",
            "Oregon           264\n",
            "Nevada           264\n",
            "Washington       240\n",
            "Ohio             216\n",
            "Illinois         216\n",
            "Florida          216\n",
            "Wisconsin        216\n",
            "Missouri         216\n",
            "Iowa             216\n",
            "New York         192\n",
            "Louisiana        168\n",
            "Oklahoma         168\n",
            "Texas            168\n",
            "New Mexico       168\n",
            "New Hampshire    168\n",
            "Connecticut      168\n",
            "Massachusetts    144\n",
            "Name: State, dtype: int64\n",
            "West       1344\n",
            "Central    1344\n",
            "East        888\n",
            "South       672\n",
            "Name: Market, dtype: int64\n",
            "Small Market    2544\n",
            "Major Market    1704\n",
            "Name: Market Size, dtype: int64\n",
            " 47.0     73\n",
            " 17.0     63\n",
            " 28.0     62\n",
            " 16.0     60\n",
            " 12.0     59\n",
            "          ..\n",
            " 777.0     1\n",
            "-36.0      1\n",
            " 222.0     1\n",
            "-56.0      1\n",
            " 250.0     1\n",
            "Name: Profit, Length: 466, dtype: int64\n",
            " 43.0     92\n",
            " 73.0     74\n",
            " 72.0     72\n",
            " 68.0     68\n",
            " 65.0     66\n",
            "          ..\n",
            "-65.0      2\n",
            " 255.0     2\n",
            "-53.0      2\n",
            " 526.0     2\n",
            " 16.0      2\n",
            "Name: Margin, Length: 290, dtype: int64\n",
            "43.0     52\n",
            "114.0    52\n",
            "129.0    46\n",
            "109.0    45\n",
            "150.0    45\n",
            "         ..\n",
            "796.0     1\n",
            "638.0     1\n",
            "494.0     1\n",
            "658.0     1\n",
            "659.0     1\n",
            "Name: Sales, Length: 432, dtype: int64\n",
            "52.0     110\n",
            "54.0      94\n",
            "49.0      88\n",
            "43.0      86\n",
            "48.0      86\n",
            "        ... \n",
            "356.0      4\n",
            "97.0       4\n",
            "115.0      4\n",
            "101.0      4\n",
            "14.0       2\n",
            "Name: COGS, Length: 173, dtype: int64\n",
            "45.0     140\n",
            "46.0     138\n",
            "17.0     108\n",
            "38.0     103\n",
            "19.0      98\n",
            "        ... \n",
            "105.0      1\n",
            "106.0      1\n",
            "168.0      1\n",
            "181.0      1\n",
            "190.0      1\n",
            "Name: Total Expenses, Length: 156, dtype: int64\n",
            "14.0     182\n",
            "15.0     182\n",
            "13.0     162\n",
            "12.0     160\n",
            "5.0      134\n",
            "        ... \n",
            "90.0       4\n",
            "124.0      4\n",
            "105.0      4\n",
            "99.0       4\n",
            "38.0       4\n",
            "Name: Marketing, Length: 102, dtype: int64\n",
            "0.0       88\n",
            "777.0     54\n",
            "821.0     48\n",
            "965.0     40\n",
            "593.0     32\n",
            "          ..\n",
            "1197.0     2\n",
            "373.0      2\n",
            "461.0      2\n",
            "378.0      2\n",
            "37.0       2\n",
            "Name: Inventory, Length: 567, dtype: int64\n",
            " 30.0     526\n",
            " 40.0     508\n",
            " 20.0     478\n",
            " 50.0     418\n",
            " 10.0     300\n",
            "         ... \n",
            " 520.0      2\n",
            " 500.0      2\n",
            " 420.0      2\n",
            " 430.0      2\n",
            "-60.0       2\n",
            "Name: Budget Profit, Length: 76, dtype: int64\n",
            "40.0     592\n",
            "30.0     518\n",
            "50.0     492\n",
            "20.0     378\n",
            "60.0     294\n",
            "80.0     264\n",
            "70.0     236\n",
            "90.0     192\n",
            "10.0     190\n",
            "100.0    170\n",
            "110.0    114\n",
            "0.0       82\n",
            "130.0     80\n",
            "120.0     66\n",
            "150.0     54\n",
            "160.0     54\n",
            "170.0     54\n",
            "200.0     42\n",
            "220.0     42\n",
            "210.0     40\n",
            "140.0     34\n",
            "180.0     32\n",
            "190.0     30\n",
            "240.0     30\n",
            "250.0     24\n",
            "260.0     22\n",
            "230.0     22\n",
            "340.0     14\n",
            "270.0     14\n",
            "300.0     14\n",
            "290.0     12\n",
            "280.0     10\n",
            "310.0      6\n",
            "320.0      6\n",
            "330.0      4\n",
            "450.0      4\n",
            "350.0      4\n",
            "390.0      4\n",
            "380.0      4\n",
            "370.0      2\n",
            "440.0      2\n",
            "Name: Budget COGS, dtype: int64\n",
            " 60.0     470\n",
            " 70.0     420\n",
            " 50.0     366\n",
            " 40.0     366\n",
            " 80.0     302\n",
            "         ... \n",
            " 540.0      2\n",
            " 360.0      2\n",
            "-70.0       2\n",
            " 510.0      2\n",
            "-210.0      2\n",
            "Name: Budget Margin, Length: 76, dtype: int64\n",
            "100.0    282\n",
            "110.0    278\n",
            "90.0     236\n",
            "120.0    230\n",
            "80.0     224\n",
            "        ... \n",
            "750.0      2\n",
            "770.0      2\n",
            "700.0      2\n",
            "570.0      2\n",
            "440.0      2\n",
            "Name: Budget Sales, Length: 89, dtype: int64\n",
            "2     480\n",
            "5     480\n",
            "9     480\n",
            "6     408\n",
            "11    384\n",
            "3     384\n",
            "8     384\n",
            "13    288\n",
            "12    288\n",
            "4     216\n",
            "10    192\n",
            "1     192\n",
            "7      72\n",
            "Name: ProductId, dtype: int64\n",
            "Espresso      1176\n",
            "Coffee        1056\n",
            "Herbal Tea    1056\n",
            "Tea            960\n",
            "Name: Product Type, dtype: int64\n",
            "Regular    2400\n",
            "Decaf      1848\n",
            "Name: Type, dtype: int64\n"
          ]
        }
      ]
    },
    {
      "cell_type": "code",
      "source": [
        "#dados2['COGS'].value_counts()"
      ],
      "metadata": {
        "id": "eoqLwMjh_zAX"
      },
      "execution_count": null,
      "outputs": []
    },
    {
      "cell_type": "code",
      "source": [
        "!pip install category_encoders\n",
        "\n",
        "import category_encoders as ce"
      ],
      "metadata": {
        "colab": {
          "base_uri": "https://localhost:8080/"
        },
        "id": "REfcTOfFA9vu",
        "outputId": "cd196fea-b04c-4f15-c4eb-98ef64187f60"
      },
      "execution_count": null,
      "outputs": [
        {
          "output_type": "stream",
          "name": "stdout",
          "text": [
            "Looking in indexes: https://pypi.org/simple, https://us-python.pkg.dev/colab-wheels/public/simple/\n",
            "Requirement already satisfied: category_encoders in /usr/local/lib/python3.8/dist-packages (2.6.0)\n",
            "Requirement already satisfied: numpy>=1.14.0 in /usr/local/lib/python3.8/dist-packages (from category_encoders) (1.21.6)\n",
            "Requirement already satisfied: patsy>=0.5.1 in /usr/local/lib/python3.8/dist-packages (from category_encoders) (0.5.3)\n",
            "Requirement already satisfied: scikit-learn>=0.20.0 in /usr/local/lib/python3.8/dist-packages (from category_encoders) (1.0.2)\n",
            "Requirement already satisfied: statsmodels>=0.9.0 in /usr/local/lib/python3.8/dist-packages (from category_encoders) (0.12.2)\n",
            "Requirement already satisfied: pandas>=1.0.5 in /usr/local/lib/python3.8/dist-packages (from category_encoders) (1.3.5)\n",
            "Requirement already satisfied: scipy>=1.0.0 in /usr/local/lib/python3.8/dist-packages (from category_encoders) (1.7.3)\n",
            "Requirement already satisfied: pytz>=2017.3 in /usr/local/lib/python3.8/dist-packages (from pandas>=1.0.5->category_encoders) (2022.7.1)\n",
            "Requirement already satisfied: python-dateutil>=2.7.3 in /usr/local/lib/python3.8/dist-packages (from pandas>=1.0.5->category_encoders) (2.8.2)\n",
            "Requirement already satisfied: six in /usr/local/lib/python3.8/dist-packages (from patsy>=0.5.1->category_encoders) (1.15.0)\n",
            "Requirement already satisfied: joblib>=0.11 in /usr/local/lib/python3.8/dist-packages (from scikit-learn>=0.20.0->category_encoders) (1.2.0)\n",
            "Requirement already satisfied: threadpoolctl>=2.0.0 in /usr/local/lib/python3.8/dist-packages (from scikit-learn>=0.20.0->category_encoders) (3.1.0)\n"
          ]
        }
      ]
    },
    {
      "cell_type": "code",
      "source": [
        "# codifica variáveis ​​com codificação ordinal\n",
        "encoder = ce.OrdinalEncoder(cols=[ 'State', 'Market', 'Market Size', 'Product Type', 'Type'])\n",
        "\n",
        "\n",
        "dados3 = encoder.fit_transform(dados2)\n",
        "dados3\n"
      ],
      "metadata": {
        "colab": {
          "base_uri": "https://localhost:8080/",
          "height": 485
        },
        "id": "je3GyEpMBGe5",
        "outputId": "aa5a4bd8-d507-48fc-90a0-8d4cb63f79b6"
      },
      "execution_count": null,
      "outputs": [
        {
          "output_type": "execute_result",
          "data": {
            "text/plain": [
              "      Area Code  State  Market  Market Size  Profit  Margin  Sales   COGS  \\\n",
              "0           203      1       1            1   107.0   176.0  292.0  116.0   \n",
              "1           203      1       1            1    75.0   135.0  225.0   90.0   \n",
              "2           203      1       1            1   122.0   195.0  325.0  130.0   \n",
              "3           203      1       1            1   105.0   174.0  289.0  115.0   \n",
              "4           203      1       1            1   104.0   135.0  223.0   90.0   \n",
              "...         ...    ...     ...          ...     ...     ...    ...    ...   \n",
              "4243        985      8       3            1    -6.0    66.0  113.0   47.0   \n",
              "4244        985      8       3            1    -7.0    61.0  105.0   44.0   \n",
              "4245        985      8       3            1    -3.0    76.0  131.0   55.0   \n",
              "4246        985      8       3            1     1.0    87.0  160.0   63.0   \n",
              "4247        985      8       3            1     4.0    90.0  153.0   64.0   \n",
              "\n",
              "      Total Expenses  Marketing  Inventory  Budget Profit  Budget COGS  \\\n",
              "0               69.0       38.0      962.0          110.0        110.0   \n",
              "1               60.0       29.0     1148.0           90.0         80.0   \n",
              "2               73.0       42.0     1134.0          130.0        110.0   \n",
              "3               69.0       37.0     1166.0          110.0        100.0   \n",
              "4               56.0       29.0     1148.0           90.0         80.0   \n",
              "...              ...        ...        ...            ...          ...   \n",
              "4243            72.0       42.0        0.0            0.0         40.0   \n",
              "4244            68.0       39.0        0.0           10.0         30.0   \n",
              "4245            79.0       49.0        0.0            0.0         40.0   \n",
              "4246            86.0       57.0       37.0            0.0         50.0   \n",
              "4247            81.0       58.0        0.0           10.0         50.0   \n",
              "\n",
              "      Budget Margin  Budget Sales  ProductId  Product Type  Type  \n",
              "0             160.0         270.0          2             1     1  \n",
              "1             130.0         210.0          2             1     1  \n",
              "2             180.0         290.0          2             1     1  \n",
              "3             160.0         260.0          2             1     1  \n",
              "4             130.0         210.0          2             1     1  \n",
              "...             ...           ...        ...           ...   ...  \n",
              "4243           50.0          90.0          4             3     1  \n",
              "4244           60.0          90.0          4             3     1  \n",
              "4245           60.0         100.0          4             3     1  \n",
              "4246           70.0         120.0          4             3     1  \n",
              "4247           80.0         130.0          4             3     1  \n",
              "\n",
              "[4248 rows x 18 columns]"
            ],
            "text/html": [
              "\n",
              "  <div id=\"df-9da72cd8-73ad-42a8-a2bf-6077f0d0b6c8\">\n",
              "    <div class=\"colab-df-container\">\n",
              "      <div>\n",
              "<style scoped>\n",
              "    .dataframe tbody tr th:only-of-type {\n",
              "        vertical-align: middle;\n",
              "    }\n",
              "\n",
              "    .dataframe tbody tr th {\n",
              "        vertical-align: top;\n",
              "    }\n",
              "\n",
              "    .dataframe thead th {\n",
              "        text-align: right;\n",
              "    }\n",
              "</style>\n",
              "<table border=\"1\" class=\"dataframe\">\n",
              "  <thead>\n",
              "    <tr style=\"text-align: right;\">\n",
              "      <th></th>\n",
              "      <th>Area Code</th>\n",
              "      <th>State</th>\n",
              "      <th>Market</th>\n",
              "      <th>Market Size</th>\n",
              "      <th>Profit</th>\n",
              "      <th>Margin</th>\n",
              "      <th>Sales</th>\n",
              "      <th>COGS</th>\n",
              "      <th>Total Expenses</th>\n",
              "      <th>Marketing</th>\n",
              "      <th>Inventory</th>\n",
              "      <th>Budget Profit</th>\n",
              "      <th>Budget COGS</th>\n",
              "      <th>Budget Margin</th>\n",
              "      <th>Budget Sales</th>\n",
              "      <th>ProductId</th>\n",
              "      <th>Product Type</th>\n",
              "      <th>Type</th>\n",
              "    </tr>\n",
              "  </thead>\n",
              "  <tbody>\n",
              "    <tr>\n",
              "      <th>0</th>\n",
              "      <td>203</td>\n",
              "      <td>1</td>\n",
              "      <td>1</td>\n",
              "      <td>1</td>\n",
              "      <td>107.0</td>\n",
              "      <td>176.0</td>\n",
              "      <td>292.0</td>\n",
              "      <td>116.0</td>\n",
              "      <td>69.0</td>\n",
              "      <td>38.0</td>\n",
              "      <td>962.0</td>\n",
              "      <td>110.0</td>\n",
              "      <td>110.0</td>\n",
              "      <td>160.0</td>\n",
              "      <td>270.0</td>\n",
              "      <td>2</td>\n",
              "      <td>1</td>\n",
              "      <td>1</td>\n",
              "    </tr>\n",
              "    <tr>\n",
              "      <th>1</th>\n",
              "      <td>203</td>\n",
              "      <td>1</td>\n",
              "      <td>1</td>\n",
              "      <td>1</td>\n",
              "      <td>75.0</td>\n",
              "      <td>135.0</td>\n",
              "      <td>225.0</td>\n",
              "      <td>90.0</td>\n",
              "      <td>60.0</td>\n",
              "      <td>29.0</td>\n",
              "      <td>1148.0</td>\n",
              "      <td>90.0</td>\n",
              "      <td>80.0</td>\n",
              "      <td>130.0</td>\n",
              "      <td>210.0</td>\n",
              "      <td>2</td>\n",
              "      <td>1</td>\n",
              "      <td>1</td>\n",
              "    </tr>\n",
              "    <tr>\n",
              "      <th>2</th>\n",
              "      <td>203</td>\n",
              "      <td>1</td>\n",
              "      <td>1</td>\n",
              "      <td>1</td>\n",
              "      <td>122.0</td>\n",
              "      <td>195.0</td>\n",
              "      <td>325.0</td>\n",
              "      <td>130.0</td>\n",
              "      <td>73.0</td>\n",
              "      <td>42.0</td>\n",
              "      <td>1134.0</td>\n",
              "      <td>130.0</td>\n",
              "      <td>110.0</td>\n",
              "      <td>180.0</td>\n",
              "      <td>290.0</td>\n",
              "      <td>2</td>\n",
              "      <td>1</td>\n",
              "      <td>1</td>\n",
              "    </tr>\n",
              "    <tr>\n",
              "      <th>3</th>\n",
              "      <td>203</td>\n",
              "      <td>1</td>\n",
              "      <td>1</td>\n",
              "      <td>1</td>\n",
              "      <td>105.0</td>\n",
              "      <td>174.0</td>\n",
              "      <td>289.0</td>\n",
              "      <td>115.0</td>\n",
              "      <td>69.0</td>\n",
              "      <td>37.0</td>\n",
              "      <td>1166.0</td>\n",
              "      <td>110.0</td>\n",
              "      <td>100.0</td>\n",
              "      <td>160.0</td>\n",
              "      <td>260.0</td>\n",
              "      <td>2</td>\n",
              "      <td>1</td>\n",
              "      <td>1</td>\n",
              "    </tr>\n",
              "    <tr>\n",
              "      <th>4</th>\n",
              "      <td>203</td>\n",
              "      <td>1</td>\n",
              "      <td>1</td>\n",
              "      <td>1</td>\n",
              "      <td>104.0</td>\n",
              "      <td>135.0</td>\n",
              "      <td>223.0</td>\n",
              "      <td>90.0</td>\n",
              "      <td>56.0</td>\n",
              "      <td>29.0</td>\n",
              "      <td>1148.0</td>\n",
              "      <td>90.0</td>\n",
              "      <td>80.0</td>\n",
              "      <td>130.0</td>\n",
              "      <td>210.0</td>\n",
              "      <td>2</td>\n",
              "      <td>1</td>\n",
              "      <td>1</td>\n",
              "    </tr>\n",
              "    <tr>\n",
              "      <th>...</th>\n",
              "      <td>...</td>\n",
              "      <td>...</td>\n",
              "      <td>...</td>\n",
              "      <td>...</td>\n",
              "      <td>...</td>\n",
              "      <td>...</td>\n",
              "      <td>...</td>\n",
              "      <td>...</td>\n",
              "      <td>...</td>\n",
              "      <td>...</td>\n",
              "      <td>...</td>\n",
              "      <td>...</td>\n",
              "      <td>...</td>\n",
              "      <td>...</td>\n",
              "      <td>...</td>\n",
              "      <td>...</td>\n",
              "      <td>...</td>\n",
              "      <td>...</td>\n",
              "    </tr>\n",
              "    <tr>\n",
              "      <th>4243</th>\n",
              "      <td>985</td>\n",
              "      <td>8</td>\n",
              "      <td>3</td>\n",
              "      <td>1</td>\n",
              "      <td>-6.0</td>\n",
              "      <td>66.0</td>\n",
              "      <td>113.0</td>\n",
              "      <td>47.0</td>\n",
              "      <td>72.0</td>\n",
              "      <td>42.0</td>\n",
              "      <td>0.0</td>\n",
              "      <td>0.0</td>\n",
              "      <td>40.0</td>\n",
              "      <td>50.0</td>\n",
              "      <td>90.0</td>\n",
              "      <td>4</td>\n",
              "      <td>3</td>\n",
              "      <td>1</td>\n",
              "    </tr>\n",
              "    <tr>\n",
              "      <th>4244</th>\n",
              "      <td>985</td>\n",
              "      <td>8</td>\n",
              "      <td>3</td>\n",
              "      <td>1</td>\n",
              "      <td>-7.0</td>\n",
              "      <td>61.0</td>\n",
              "      <td>105.0</td>\n",
              "      <td>44.0</td>\n",
              "      <td>68.0</td>\n",
              "      <td>39.0</td>\n",
              "      <td>0.0</td>\n",
              "      <td>10.0</td>\n",
              "      <td>30.0</td>\n",
              "      <td>60.0</td>\n",
              "      <td>90.0</td>\n",
              "      <td>4</td>\n",
              "      <td>3</td>\n",
              "      <td>1</td>\n",
              "    </tr>\n",
              "    <tr>\n",
              "      <th>4245</th>\n",
              "      <td>985</td>\n",
              "      <td>8</td>\n",
              "      <td>3</td>\n",
              "      <td>1</td>\n",
              "      <td>-3.0</td>\n",
              "      <td>76.0</td>\n",
              "      <td>131.0</td>\n",
              "      <td>55.0</td>\n",
              "      <td>79.0</td>\n",
              "      <td>49.0</td>\n",
              "      <td>0.0</td>\n",
              "      <td>0.0</td>\n",
              "      <td>40.0</td>\n",
              "      <td>60.0</td>\n",
              "      <td>100.0</td>\n",
              "      <td>4</td>\n",
              "      <td>3</td>\n",
              "      <td>1</td>\n",
              "    </tr>\n",
              "    <tr>\n",
              "      <th>4246</th>\n",
              "      <td>985</td>\n",
              "      <td>8</td>\n",
              "      <td>3</td>\n",
              "      <td>1</td>\n",
              "      <td>1.0</td>\n",
              "      <td>87.0</td>\n",
              "      <td>160.0</td>\n",
              "      <td>63.0</td>\n",
              "      <td>86.0</td>\n",
              "      <td>57.0</td>\n",
              "      <td>37.0</td>\n",
              "      <td>0.0</td>\n",
              "      <td>50.0</td>\n",
              "      <td>70.0</td>\n",
              "      <td>120.0</td>\n",
              "      <td>4</td>\n",
              "      <td>3</td>\n",
              "      <td>1</td>\n",
              "    </tr>\n",
              "    <tr>\n",
              "      <th>4247</th>\n",
              "      <td>985</td>\n",
              "      <td>8</td>\n",
              "      <td>3</td>\n",
              "      <td>1</td>\n",
              "      <td>4.0</td>\n",
              "      <td>90.0</td>\n",
              "      <td>153.0</td>\n",
              "      <td>64.0</td>\n",
              "      <td>81.0</td>\n",
              "      <td>58.0</td>\n",
              "      <td>0.0</td>\n",
              "      <td>10.0</td>\n",
              "      <td>50.0</td>\n",
              "      <td>80.0</td>\n",
              "      <td>130.0</td>\n",
              "      <td>4</td>\n",
              "      <td>3</td>\n",
              "      <td>1</td>\n",
              "    </tr>\n",
              "  </tbody>\n",
              "</table>\n",
              "<p>4248 rows × 18 columns</p>\n",
              "</div>\n",
              "      <button class=\"colab-df-convert\" onclick=\"convertToInteractive('df-9da72cd8-73ad-42a8-a2bf-6077f0d0b6c8')\"\n",
              "              title=\"Convert this dataframe to an interactive table.\"\n",
              "              style=\"display:none;\">\n",
              "        \n",
              "  <svg xmlns=\"http://www.w3.org/2000/svg\" height=\"24px\"viewBox=\"0 0 24 24\"\n",
              "       width=\"24px\">\n",
              "    <path d=\"M0 0h24v24H0V0z\" fill=\"none\"/>\n",
              "    <path d=\"M18.56 5.44l.94 2.06.94-2.06 2.06-.94-2.06-.94-.94-2.06-.94 2.06-2.06.94zm-11 1L8.5 8.5l.94-2.06 2.06-.94-2.06-.94L8.5 2.5l-.94 2.06-2.06.94zm10 10l.94 2.06.94-2.06 2.06-.94-2.06-.94-.94-2.06-.94 2.06-2.06.94z\"/><path d=\"M17.41 7.96l-1.37-1.37c-.4-.4-.92-.59-1.43-.59-.52 0-1.04.2-1.43.59L10.3 9.45l-7.72 7.72c-.78.78-.78 2.05 0 2.83L4 21.41c.39.39.9.59 1.41.59.51 0 1.02-.2 1.41-.59l7.78-7.78 2.81-2.81c.8-.78.8-2.07 0-2.86zM5.41 20L4 18.59l7.72-7.72 1.47 1.35L5.41 20z\"/>\n",
              "  </svg>\n",
              "      </button>\n",
              "      \n",
              "  <style>\n",
              "    .colab-df-container {\n",
              "      display:flex;\n",
              "      flex-wrap:wrap;\n",
              "      gap: 12px;\n",
              "    }\n",
              "\n",
              "    .colab-df-convert {\n",
              "      background-color: #E8F0FE;\n",
              "      border: none;\n",
              "      border-radius: 50%;\n",
              "      cursor: pointer;\n",
              "      display: none;\n",
              "      fill: #1967D2;\n",
              "      height: 32px;\n",
              "      padding: 0 0 0 0;\n",
              "      width: 32px;\n",
              "    }\n",
              "\n",
              "    .colab-df-convert:hover {\n",
              "      background-color: #E2EBFA;\n",
              "      box-shadow: 0px 1px 2px rgba(60, 64, 67, 0.3), 0px 1px 3px 1px rgba(60, 64, 67, 0.15);\n",
              "      fill: #174EA6;\n",
              "    }\n",
              "\n",
              "    [theme=dark] .colab-df-convert {\n",
              "      background-color: #3B4455;\n",
              "      fill: #D2E3FC;\n",
              "    }\n",
              "\n",
              "    [theme=dark] .colab-df-convert:hover {\n",
              "      background-color: #434B5C;\n",
              "      box-shadow: 0px 1px 3px 1px rgba(0, 0, 0, 0.15);\n",
              "      filter: drop-shadow(0px 1px 2px rgba(0, 0, 0, 0.3));\n",
              "      fill: #FFFFFF;\n",
              "    }\n",
              "  </style>\n",
              "\n",
              "      <script>\n",
              "        const buttonEl =\n",
              "          document.querySelector('#df-9da72cd8-73ad-42a8-a2bf-6077f0d0b6c8 button.colab-df-convert');\n",
              "        buttonEl.style.display =\n",
              "          google.colab.kernel.accessAllowed ? 'block' : 'none';\n",
              "\n",
              "        async function convertToInteractive(key) {\n",
              "          const element = document.querySelector('#df-9da72cd8-73ad-42a8-a2bf-6077f0d0b6c8');\n",
              "          const dataTable =\n",
              "            await google.colab.kernel.invokeFunction('convertToInteractive',\n",
              "                                                     [key], {});\n",
              "          if (!dataTable) return;\n",
              "\n",
              "          const docLinkHtml = 'Like what you see? Visit the ' +\n",
              "            '<a target=\"_blank\" href=https://colab.research.google.com/notebooks/data_table.ipynb>data table notebook</a>'\n",
              "            + ' to learn more about interactive tables.';\n",
              "          element.innerHTML = '';\n",
              "          dataTable['output_type'] = 'display_data';\n",
              "          await google.colab.output.renderOutput(dataTable, element);\n",
              "          const docLink = document.createElement('div');\n",
              "          docLink.innerHTML = docLinkHtml;\n",
              "          element.appendChild(docLink);\n",
              "        }\n",
              "      </script>\n",
              "    </div>\n",
              "  </div>\n",
              "  "
            ]
          },
          "metadata": {},
          "execution_count": 35
        }
      ]
    },
    {
      "cell_type": "code",
      "source": [
        "dados4=dados3.drop('Profit',axis=1)"
      ],
      "metadata": {
        "id": "eCK-Sz-HrUhR"
      },
      "execution_count": null,
      "outputs": []
    },
    {
      "cell_type": "code",
      "source": [
        "dados5=dados4.drop('Margin',axis=1)\n",
        "dados5"
      ],
      "metadata": {
        "colab": {
          "base_uri": "https://localhost:8080/",
          "height": 485
        },
        "id": "dBwW4rr1rjlx",
        "outputId": "6b9708cb-58ea-4d06-cced-a97e7f1fdcdb"
      },
      "execution_count": null,
      "outputs": [
        {
          "output_type": "execute_result",
          "data": {
            "text/plain": [
              "      Area Code  State  Market  Market Size  Sales   COGS  Total Expenses  \\\n",
              "0           203      1       1            1  292.0  116.0            69.0   \n",
              "1           203      1       1            1  225.0   90.0            60.0   \n",
              "2           203      1       1            1  325.0  130.0            73.0   \n",
              "3           203      1       1            1  289.0  115.0            69.0   \n",
              "4           203      1       1            1  223.0   90.0            56.0   \n",
              "...         ...    ...     ...          ...    ...    ...             ...   \n",
              "4243        985      8       3            1  113.0   47.0            72.0   \n",
              "4244        985      8       3            1  105.0   44.0            68.0   \n",
              "4245        985      8       3            1  131.0   55.0            79.0   \n",
              "4246        985      8       3            1  160.0   63.0            86.0   \n",
              "4247        985      8       3            1  153.0   64.0            81.0   \n",
              "\n",
              "      Marketing  Inventory  Budget Profit  Budget COGS  Budget Margin  \\\n",
              "0          38.0      962.0          110.0        110.0          160.0   \n",
              "1          29.0     1148.0           90.0         80.0          130.0   \n",
              "2          42.0     1134.0          130.0        110.0          180.0   \n",
              "3          37.0     1166.0          110.0        100.0          160.0   \n",
              "4          29.0     1148.0           90.0         80.0          130.0   \n",
              "...         ...        ...            ...          ...            ...   \n",
              "4243       42.0        0.0            0.0         40.0           50.0   \n",
              "4244       39.0        0.0           10.0         30.0           60.0   \n",
              "4245       49.0        0.0            0.0         40.0           60.0   \n",
              "4246       57.0       37.0            0.0         50.0           70.0   \n",
              "4247       58.0        0.0           10.0         50.0           80.0   \n",
              "\n",
              "      Budget Sales  ProductId  Product Type  Type  \n",
              "0            270.0          2             1     1  \n",
              "1            210.0          2             1     1  \n",
              "2            290.0          2             1     1  \n",
              "3            260.0          2             1     1  \n",
              "4            210.0          2             1     1  \n",
              "...            ...        ...           ...   ...  \n",
              "4243          90.0          4             3     1  \n",
              "4244          90.0          4             3     1  \n",
              "4245         100.0          4             3     1  \n",
              "4246         120.0          4             3     1  \n",
              "4247         130.0          4             3     1  \n",
              "\n",
              "[4248 rows x 16 columns]"
            ],
            "text/html": [
              "\n",
              "  <div id=\"df-37b84643-748c-44c7-af7d-21d66522b2bd\">\n",
              "    <div class=\"colab-df-container\">\n",
              "      <div>\n",
              "<style scoped>\n",
              "    .dataframe tbody tr th:only-of-type {\n",
              "        vertical-align: middle;\n",
              "    }\n",
              "\n",
              "    .dataframe tbody tr th {\n",
              "        vertical-align: top;\n",
              "    }\n",
              "\n",
              "    .dataframe thead th {\n",
              "        text-align: right;\n",
              "    }\n",
              "</style>\n",
              "<table border=\"1\" class=\"dataframe\">\n",
              "  <thead>\n",
              "    <tr style=\"text-align: right;\">\n",
              "      <th></th>\n",
              "      <th>Area Code</th>\n",
              "      <th>State</th>\n",
              "      <th>Market</th>\n",
              "      <th>Market Size</th>\n",
              "      <th>Sales</th>\n",
              "      <th>COGS</th>\n",
              "      <th>Total Expenses</th>\n",
              "      <th>Marketing</th>\n",
              "      <th>Inventory</th>\n",
              "      <th>Budget Profit</th>\n",
              "      <th>Budget COGS</th>\n",
              "      <th>Budget Margin</th>\n",
              "      <th>Budget Sales</th>\n",
              "      <th>ProductId</th>\n",
              "      <th>Product Type</th>\n",
              "      <th>Type</th>\n",
              "    </tr>\n",
              "  </thead>\n",
              "  <tbody>\n",
              "    <tr>\n",
              "      <th>0</th>\n",
              "      <td>203</td>\n",
              "      <td>1</td>\n",
              "      <td>1</td>\n",
              "      <td>1</td>\n",
              "      <td>292.0</td>\n",
              "      <td>116.0</td>\n",
              "      <td>69.0</td>\n",
              "      <td>38.0</td>\n",
              "      <td>962.0</td>\n",
              "      <td>110.0</td>\n",
              "      <td>110.0</td>\n",
              "      <td>160.0</td>\n",
              "      <td>270.0</td>\n",
              "      <td>2</td>\n",
              "      <td>1</td>\n",
              "      <td>1</td>\n",
              "    </tr>\n",
              "    <tr>\n",
              "      <th>1</th>\n",
              "      <td>203</td>\n",
              "      <td>1</td>\n",
              "      <td>1</td>\n",
              "      <td>1</td>\n",
              "      <td>225.0</td>\n",
              "      <td>90.0</td>\n",
              "      <td>60.0</td>\n",
              "      <td>29.0</td>\n",
              "      <td>1148.0</td>\n",
              "      <td>90.0</td>\n",
              "      <td>80.0</td>\n",
              "      <td>130.0</td>\n",
              "      <td>210.0</td>\n",
              "      <td>2</td>\n",
              "      <td>1</td>\n",
              "      <td>1</td>\n",
              "    </tr>\n",
              "    <tr>\n",
              "      <th>2</th>\n",
              "      <td>203</td>\n",
              "      <td>1</td>\n",
              "      <td>1</td>\n",
              "      <td>1</td>\n",
              "      <td>325.0</td>\n",
              "      <td>130.0</td>\n",
              "      <td>73.0</td>\n",
              "      <td>42.0</td>\n",
              "      <td>1134.0</td>\n",
              "      <td>130.0</td>\n",
              "      <td>110.0</td>\n",
              "      <td>180.0</td>\n",
              "      <td>290.0</td>\n",
              "      <td>2</td>\n",
              "      <td>1</td>\n",
              "      <td>1</td>\n",
              "    </tr>\n",
              "    <tr>\n",
              "      <th>3</th>\n",
              "      <td>203</td>\n",
              "      <td>1</td>\n",
              "      <td>1</td>\n",
              "      <td>1</td>\n",
              "      <td>289.0</td>\n",
              "      <td>115.0</td>\n",
              "      <td>69.0</td>\n",
              "      <td>37.0</td>\n",
              "      <td>1166.0</td>\n",
              "      <td>110.0</td>\n",
              "      <td>100.0</td>\n",
              "      <td>160.0</td>\n",
              "      <td>260.0</td>\n",
              "      <td>2</td>\n",
              "      <td>1</td>\n",
              "      <td>1</td>\n",
              "    </tr>\n",
              "    <tr>\n",
              "      <th>4</th>\n",
              "      <td>203</td>\n",
              "      <td>1</td>\n",
              "      <td>1</td>\n",
              "      <td>1</td>\n",
              "      <td>223.0</td>\n",
              "      <td>90.0</td>\n",
              "      <td>56.0</td>\n",
              "      <td>29.0</td>\n",
              "      <td>1148.0</td>\n",
              "      <td>90.0</td>\n",
              "      <td>80.0</td>\n",
              "      <td>130.0</td>\n",
              "      <td>210.0</td>\n",
              "      <td>2</td>\n",
              "      <td>1</td>\n",
              "      <td>1</td>\n",
              "    </tr>\n",
              "    <tr>\n",
              "      <th>...</th>\n",
              "      <td>...</td>\n",
              "      <td>...</td>\n",
              "      <td>...</td>\n",
              "      <td>...</td>\n",
              "      <td>...</td>\n",
              "      <td>...</td>\n",
              "      <td>...</td>\n",
              "      <td>...</td>\n",
              "      <td>...</td>\n",
              "      <td>...</td>\n",
              "      <td>...</td>\n",
              "      <td>...</td>\n",
              "      <td>...</td>\n",
              "      <td>...</td>\n",
              "      <td>...</td>\n",
              "      <td>...</td>\n",
              "    </tr>\n",
              "    <tr>\n",
              "      <th>4243</th>\n",
              "      <td>985</td>\n",
              "      <td>8</td>\n",
              "      <td>3</td>\n",
              "      <td>1</td>\n",
              "      <td>113.0</td>\n",
              "      <td>47.0</td>\n",
              "      <td>72.0</td>\n",
              "      <td>42.0</td>\n",
              "      <td>0.0</td>\n",
              "      <td>0.0</td>\n",
              "      <td>40.0</td>\n",
              "      <td>50.0</td>\n",
              "      <td>90.0</td>\n",
              "      <td>4</td>\n",
              "      <td>3</td>\n",
              "      <td>1</td>\n",
              "    </tr>\n",
              "    <tr>\n",
              "      <th>4244</th>\n",
              "      <td>985</td>\n",
              "      <td>8</td>\n",
              "      <td>3</td>\n",
              "      <td>1</td>\n",
              "      <td>105.0</td>\n",
              "      <td>44.0</td>\n",
              "      <td>68.0</td>\n",
              "      <td>39.0</td>\n",
              "      <td>0.0</td>\n",
              "      <td>10.0</td>\n",
              "      <td>30.0</td>\n",
              "      <td>60.0</td>\n",
              "      <td>90.0</td>\n",
              "      <td>4</td>\n",
              "      <td>3</td>\n",
              "      <td>1</td>\n",
              "    </tr>\n",
              "    <tr>\n",
              "      <th>4245</th>\n",
              "      <td>985</td>\n",
              "      <td>8</td>\n",
              "      <td>3</td>\n",
              "      <td>1</td>\n",
              "      <td>131.0</td>\n",
              "      <td>55.0</td>\n",
              "      <td>79.0</td>\n",
              "      <td>49.0</td>\n",
              "      <td>0.0</td>\n",
              "      <td>0.0</td>\n",
              "      <td>40.0</td>\n",
              "      <td>60.0</td>\n",
              "      <td>100.0</td>\n",
              "      <td>4</td>\n",
              "      <td>3</td>\n",
              "      <td>1</td>\n",
              "    </tr>\n",
              "    <tr>\n",
              "      <th>4246</th>\n",
              "      <td>985</td>\n",
              "      <td>8</td>\n",
              "      <td>3</td>\n",
              "      <td>1</td>\n",
              "      <td>160.0</td>\n",
              "      <td>63.0</td>\n",
              "      <td>86.0</td>\n",
              "      <td>57.0</td>\n",
              "      <td>37.0</td>\n",
              "      <td>0.0</td>\n",
              "      <td>50.0</td>\n",
              "      <td>70.0</td>\n",
              "      <td>120.0</td>\n",
              "      <td>4</td>\n",
              "      <td>3</td>\n",
              "      <td>1</td>\n",
              "    </tr>\n",
              "    <tr>\n",
              "      <th>4247</th>\n",
              "      <td>985</td>\n",
              "      <td>8</td>\n",
              "      <td>3</td>\n",
              "      <td>1</td>\n",
              "      <td>153.0</td>\n",
              "      <td>64.0</td>\n",
              "      <td>81.0</td>\n",
              "      <td>58.0</td>\n",
              "      <td>0.0</td>\n",
              "      <td>10.0</td>\n",
              "      <td>50.0</td>\n",
              "      <td>80.0</td>\n",
              "      <td>130.0</td>\n",
              "      <td>4</td>\n",
              "      <td>3</td>\n",
              "      <td>1</td>\n",
              "    </tr>\n",
              "  </tbody>\n",
              "</table>\n",
              "<p>4248 rows × 16 columns</p>\n",
              "</div>\n",
              "      <button class=\"colab-df-convert\" onclick=\"convertToInteractive('df-37b84643-748c-44c7-af7d-21d66522b2bd')\"\n",
              "              title=\"Convert this dataframe to an interactive table.\"\n",
              "              style=\"display:none;\">\n",
              "        \n",
              "  <svg xmlns=\"http://www.w3.org/2000/svg\" height=\"24px\"viewBox=\"0 0 24 24\"\n",
              "       width=\"24px\">\n",
              "    <path d=\"M0 0h24v24H0V0z\" fill=\"none\"/>\n",
              "    <path d=\"M18.56 5.44l.94 2.06.94-2.06 2.06-.94-2.06-.94-.94-2.06-.94 2.06-2.06.94zm-11 1L8.5 8.5l.94-2.06 2.06-.94-2.06-.94L8.5 2.5l-.94 2.06-2.06.94zm10 10l.94 2.06.94-2.06 2.06-.94-2.06-.94-.94-2.06-.94 2.06-2.06.94z\"/><path d=\"M17.41 7.96l-1.37-1.37c-.4-.4-.92-.59-1.43-.59-.52 0-1.04.2-1.43.59L10.3 9.45l-7.72 7.72c-.78.78-.78 2.05 0 2.83L4 21.41c.39.39.9.59 1.41.59.51 0 1.02-.2 1.41-.59l7.78-7.78 2.81-2.81c.8-.78.8-2.07 0-2.86zM5.41 20L4 18.59l7.72-7.72 1.47 1.35L5.41 20z\"/>\n",
              "  </svg>\n",
              "      </button>\n",
              "      \n",
              "  <style>\n",
              "    .colab-df-container {\n",
              "      display:flex;\n",
              "      flex-wrap:wrap;\n",
              "      gap: 12px;\n",
              "    }\n",
              "\n",
              "    .colab-df-convert {\n",
              "      background-color: #E8F0FE;\n",
              "      border: none;\n",
              "      border-radius: 50%;\n",
              "      cursor: pointer;\n",
              "      display: none;\n",
              "      fill: #1967D2;\n",
              "      height: 32px;\n",
              "      padding: 0 0 0 0;\n",
              "      width: 32px;\n",
              "    }\n",
              "\n",
              "    .colab-df-convert:hover {\n",
              "      background-color: #E2EBFA;\n",
              "      box-shadow: 0px 1px 2px rgba(60, 64, 67, 0.3), 0px 1px 3px 1px rgba(60, 64, 67, 0.15);\n",
              "      fill: #174EA6;\n",
              "    }\n",
              "\n",
              "    [theme=dark] .colab-df-convert {\n",
              "      background-color: #3B4455;\n",
              "      fill: #D2E3FC;\n",
              "    }\n",
              "\n",
              "    [theme=dark] .colab-df-convert:hover {\n",
              "      background-color: #434B5C;\n",
              "      box-shadow: 0px 1px 3px 1px rgba(0, 0, 0, 0.15);\n",
              "      filter: drop-shadow(0px 1px 2px rgba(0, 0, 0, 0.3));\n",
              "      fill: #FFFFFF;\n",
              "    }\n",
              "  </style>\n",
              "\n",
              "      <script>\n",
              "        const buttonEl =\n",
              "          document.querySelector('#df-37b84643-748c-44c7-af7d-21d66522b2bd button.colab-df-convert');\n",
              "        buttonEl.style.display =\n",
              "          google.colab.kernel.accessAllowed ? 'block' : 'none';\n",
              "\n",
              "        async function convertToInteractive(key) {\n",
              "          const element = document.querySelector('#df-37b84643-748c-44c7-af7d-21d66522b2bd');\n",
              "          const dataTable =\n",
              "            await google.colab.kernel.invokeFunction('convertToInteractive',\n",
              "                                                     [key], {});\n",
              "          if (!dataTable) return;\n",
              "\n",
              "          const docLinkHtml = 'Like what you see? Visit the ' +\n",
              "            '<a target=\"_blank\" href=https://colab.research.google.com/notebooks/data_table.ipynb>data table notebook</a>'\n",
              "            + ' to learn more about interactive tables.';\n",
              "          element.innerHTML = '';\n",
              "          dataTable['output_type'] = 'display_data';\n",
              "          await google.colab.output.renderOutput(dataTable, element);\n",
              "          const docLink = document.createElement('div');\n",
              "          docLink.innerHTML = docLinkHtml;\n",
              "          element.appendChild(docLink);\n",
              "        }\n",
              "      </script>\n",
              "    </div>\n",
              "  </div>\n",
              "  "
            ]
          },
          "metadata": {},
          "execution_count": 37
        }
      ]
    },
    {
      "cell_type": "code",
      "source": [
        "#plotar um boxplot para analisar presença de outliers(dados que se diferenciam drasticamente) no dataset\n",
        "colunas = dados5.columns.to_list()\n",
        "plt.figure(figsize=(23,10))\n",
        "dados5.boxplot(column = colunas[:-1])\n",
        "plt.show()"
      ],
      "metadata": {
        "colab": {
          "base_uri": "https://localhost:8080/",
          "height": 592
        },
        "id": "T41cQt3Cq3WJ",
        "outputId": "298f4e66-9ea5-4fc4-f0ab-8d5c3e5f3cd9"
      },
      "execution_count": null,
      "outputs": [
        {
          "output_type": "display_data",
          "data": {
            "text/plain": [
              "<Figure size 1656x720 with 1 Axes>"
            ],
            "image/png": "[encoded data removed]"
          },
          "metadata": {
            "needs_background": "light"
          }
        }
      ]
    },
    {
      "cell_type": "code",
      "source": [
        "#Dropando a coluna(axis=1) 'COGS'\n",
        "X = dados5.drop(['COGS'], axis=1)\n",
        "\n",
        "y = dados5['COGS']"
      ],
      "metadata": {
        "id": "jIUBGZYTANgY"
      },
      "execution_count": null,
      "outputs": []
    },
    {
      "cell_type": "code",
      "source": [
        "#plt.figure(figsize=(23,10))\n",
        "#sns.countplot('Sales', data=dados5);"
      ],
      "metadata": {
        "id": "jHAOt3rTWRNa"
      },
      "execution_count": null,
      "outputs": []
    },
    {
      "cell_type": "code",
      "source": [
        "# dividir X e y em conjuntos de treinamento e teste\n",
        "\n",
        "from sklearn.model_selection import train_test_split\n",
        "\n",
        "X_train, X_test, y_train, y_test = train_test_split(X, y, test_size = 0.33, random_state = 42)"
      ],
      "metadata": {
        "id": "IHvpcogsAdTm"
      },
      "execution_count": null,
      "outputs": []
    },
    {
      "cell_type": "code",
      "source": [
        "# verifica a forma de X_train e X_test\n",
        "X_train.shape, X_test.shape"
      ],
      "metadata": {
        "colab": {
          "base_uri": "https://localhost:8080/"
        },
        "id": "HxaAEtLGAsSa",
        "outputId": "44c8863c-b913-41bd-f1cf-883253625b93"
      },
      "execution_count": null,
      "outputs": [
        {
          "output_type": "execute_result",
          "data": {
            "text/plain": [
              "((2846, 15), (1402, 15))"
            ]
          },
          "metadata": {},
          "execution_count": 42
        }
      ]
    },
    {
      "cell_type": "code",
      "source": [
        "X_train.head()"
      ],
      "metadata": {
        "colab": {
          "base_uri": "https://localhost:8080/",
          "height": 206
        },
        "id": "mFMPDs4sA4Fy",
        "outputId": "289647fd-0dd1-4588-9e25-b5d3d52f6926"
      },
      "execution_count": null,
      "outputs": [
        {
          "output_type": "execute_result",
          "data": {
            "text/plain": [
              "      Area Code  State  Market  Market Size  Sales  Total Expenses  Marketing  \\\n",
              "1615        505     18       3            1  113.0            69.0       40.0   \n",
              "3079        720     11       4            2  224.0            36.0       24.0   \n",
              "1643        505     18       3            1   45.0            17.0        5.0   \n",
              "1070        419      6       4            2  121.0            54.0       20.0   \n",
              "4073        970     11       4            2  387.0            75.0       50.0   \n",
              "\n",
              "      Inventory  Budget Profit  Budget COGS  Budget Margin  Budget Sales  \\\n",
              "1615      325.0            0.0         30.0           50.0          80.0   \n",
              "3079     1003.0           90.0         80.0          120.0         200.0   \n",
              "1643      816.0           20.0         10.0           30.0          40.0   \n",
              "1070      337.0           30.0         60.0           80.0         140.0   \n",
              "4073     1283.0          100.0        170.0          160.0         330.0   \n",
              "\n",
              "      ProductId  Product Type  Type  \n",
              "1615          5             3     1  \n",
              "3079          3             1     2  \n",
              "1643          8             4     2  \n",
              "1070          6             3     2  \n",
              "4073          8             4     2  "
            ],
            "text/html": [
              "\n",
              "  <div id=\"df-0cd152f3-f09e-4f33-a410-551db59cd44e\">\n",
              "    <div class=\"colab-df-container\">\n",
              "      <div>\n",
              "<style scoped>\n",
              "    .dataframe tbody tr th:only-of-type {\n",
              "        vertical-align: middle;\n",
              "    }\n",
              "\n",
              "    .dataframe tbody tr th {\n",
              "        vertical-align: top;\n",
              "    }\n",
              "\n",
              "    .dataframe thead th {\n",
              "        text-align: right;\n",
              "    }\n",
              "</style>\n",
              "<table border=\"1\" class=\"dataframe\">\n",
              "  <thead>\n",
              "    <tr style=\"text-align: right;\">\n",
              "      <th></th>\n",
              "      <th>Area Code</th>\n",
              "      <th>State</th>\n",
              "      <th>Market</th>\n",
              "      <th>Market Size</th>\n",
              "      <th>Sales</th>\n",
              "      <th>Total Expenses</th>\n",
              "      <th>Marketing</th>\n",
              "      <th>Inventory</th>\n",
              "      <th>Budget Profit</th>\n",
              "      <th>Budget COGS</th>\n",
              "      <th>Budget Margin</th>\n",
              "      <th>Budget Sales</th>\n",
              "      <th>ProductId</th>\n",
              "      <th>Product Type</th>\n",
              "      <th>Type</th>\n",
              "    </tr>\n",
              "  </thead>\n",
              "  <tbody>\n",
              "    <tr>\n",
              "      <th>1615</th>\n",
              "      <td>505</td>\n",
              "      <td>18</td>\n",
              "      <td>3</td>\n",
              "      <td>1</td>\n",
              "      <td>113.0</td>\n",
              "      <td>69.0</td>\n",
              "      <td>40.0</td>\n",
              "      <td>325.0</td>\n",
              "      <td>0.0</td>\n",
              "      <td>30.0</td>\n",
              "      <td>50.0</td>\n",
              "      <td>80.0</td>\n",
              "      <td>5</td>\n",
              "      <td>3</td>\n",
              "      <td>1</td>\n",
              "    </tr>\n",
              "    <tr>\n",
              "      <th>3079</th>\n",
              "      <td>720</td>\n",
              "      <td>11</td>\n",
              "      <td>4</td>\n",
              "      <td>2</td>\n",
              "      <td>224.0</td>\n",
              "      <td>36.0</td>\n",
              "      <td>24.0</td>\n",
              "      <td>1003.0</td>\n",
              "      <td>90.0</td>\n",
              "      <td>80.0</td>\n",
              "      <td>120.0</td>\n",
              "      <td>200.0</td>\n",
              "      <td>3</td>\n",
              "      <td>1</td>\n",
              "      <td>2</td>\n",
              "    </tr>\n",
              "    <tr>\n",
              "      <th>1643</th>\n",
              "      <td>505</td>\n",
              "      <td>18</td>\n",
              "      <td>3</td>\n",
              "      <td>1</td>\n",
              "      <td>45.0</td>\n",
              "      <td>17.0</td>\n",
              "      <td>5.0</td>\n",
              "      <td>816.0</td>\n",
              "      <td>20.0</td>\n",
              "      <td>10.0</td>\n",
              "      <td>30.0</td>\n",
              "      <td>40.0</td>\n",
              "      <td>8</td>\n",
              "      <td>4</td>\n",
              "      <td>2</td>\n",
              "    </tr>\n",
              "    <tr>\n",
              "      <th>1070</th>\n",
              "      <td>419</td>\n",
              "      <td>6</td>\n",
              "      <td>4</td>\n",
              "      <td>2</td>\n",
              "      <td>121.0</td>\n",
              "      <td>54.0</td>\n",
              "      <td>20.0</td>\n",
              "      <td>337.0</td>\n",
              "      <td>30.0</td>\n",
              "      <td>60.0</td>\n",
              "      <td>80.0</td>\n",
              "      <td>140.0</td>\n",
              "      <td>6</td>\n",
              "      <td>3</td>\n",
              "      <td>2</td>\n",
              "    </tr>\n",
              "    <tr>\n",
              "      <th>4073</th>\n",
              "      <td>970</td>\n",
              "      <td>11</td>\n",
              "      <td>4</td>\n",
              "      <td>2</td>\n",
              "      <td>387.0</td>\n",
              "      <td>75.0</td>\n",
              "      <td>50.0</td>\n",
              "      <td>1283.0</td>\n",
              "      <td>100.0</td>\n",
              "      <td>170.0</td>\n",
              "      <td>160.0</td>\n",
              "      <td>330.0</td>\n",
              "      <td>8</td>\n",
              "      <td>4</td>\n",
              "      <td>2</td>\n",
              "    </tr>\n",
              "  </tbody>\n",
              "</table>\n",
              "</div>\n",
              "      <button class=\"colab-df-convert\" onclick=\"convertToInteractive('df-0cd152f3-f09e-4f33-a410-551db59cd44e')\"\n",
              "              title=\"Convert this dataframe to an interactive table.\"\n",
              "              style=\"display:none;\">\n",
              "        \n",
              "  <svg xmlns=\"http://www.w3.org/2000/svg\" height=\"24px\"viewBox=\"0 0 24 24\"\n",
              "       width=\"24px\">\n",
              "    <path d=\"M0 0h24v24H0V0z\" fill=\"none\"/>\n",
              "    <path d=\"M18.56 5.44l.94 2.06.94-2.06 2.06-.94-2.06-.94-.94-2.06-.94 2.06-2.06.94zm-11 1L8.5 8.5l.94-2.06 2.06-.94-2.06-.94L8.5 2.5l-.94 2.06-2.06.94zm10 10l.94 2.06.94-2.06 2.06-.94-2.06-.94-.94-2.06-.94 2.06-2.06.94z\"/><path d=\"M17.41 7.96l-1.37-1.37c-.4-.4-.92-.59-1.43-.59-.52 0-1.04.2-1.43.59L10.3 9.45l-7.72 7.72c-.78.78-.78 2.05 0 2.83L4 21.41c.39.39.9.59 1.41.59.51 0 1.02-.2 1.41-.59l7.78-7.78 2.81-2.81c.8-.78.8-2.07 0-2.86zM5.41 20L4 18.59l7.72-7.72 1.47 1.35L5.41 20z\"/>\n",
              "  </svg>\n",
              "      </button>\n",
              "      \n",
              "  <style>\n",
              "    .colab-df-container {\n",
              "      display:flex;\n",
              "      flex-wrap:wrap;\n",
              "      gap: 12px;\n",
              "    }\n",
              "\n",
              "    .colab-df-convert {\n",
              "      background-color: #E8F0FE;\n",
              "      border: none;\n",
              "      border-radius: 50%;\n",
              "      cursor: pointer;\n",
              "      display: none;\n",
              "      fill: #1967D2;\n",
              "      height: 32px;\n",
              "      padding: 0 0 0 0;\n",
              "      width: 32px;\n",
              "    }\n",
              "\n",
              "    .colab-df-convert:hover {\n",
              "      background-color: #E2EBFA;\n",
              "      box-shadow: 0px 1px 2px rgba(60, 64, 67, 0.3), 0px 1px 3px 1px rgba(60, 64, 67, 0.15);\n",
              "      fill: #174EA6;\n",
              "    }\n",
              "\n",
              "    [theme=dark] .colab-df-convert {\n",
              "      background-color: #3B4455;\n",
              "      fill: #D2E3FC;\n",
              "    }\n",
              "\n",
              "    [theme=dark] .colab-df-convert:hover {\n",
              "      background-color: #434B5C;\n",
              "      box-shadow: 0px 1px 3px 1px rgba(0, 0, 0, 0.15);\n",
              "      filter: drop-shadow(0px 1px 2px rgba(0, 0, 0, 0.3));\n",
              "      fill: #FFFFFF;\n",
              "    }\n",
              "  </style>\n",
              "\n",
              "      <script>\n",
              "        const buttonEl =\n",
              "          document.querySelector('#df-0cd152f3-f09e-4f33-a410-551db59cd44e button.colab-df-convert');\n",
              "        buttonEl.style.display =\n",
              "          google.colab.kernel.accessAllowed ? 'block' : 'none';\n",
              "\n",
              "        async function convertToInteractive(key) {\n",
              "          const element = document.querySelector('#df-0cd152f3-f09e-4f33-a410-551db59cd44e');\n",
              "          const dataTable =\n",
              "            await google.colab.kernel.invokeFunction('convertToInteractive',\n",
              "                                                     [key], {});\n",
              "          if (!dataTable) return;\n",
              "\n",
              "          const docLinkHtml = 'Like what you see? Visit the ' +\n",
              "            '<a target=\"_blank\" href=https://colab.research.google.com/notebooks/data_table.ipynb>data table notebook</a>'\n",
              "            + ' to learn more about interactive tables.';\n",
              "          element.innerHTML = '';\n",
              "          dataTable['output_type'] = 'display_data';\n",
              "          await google.colab.output.renderOutput(dataTable, element);\n",
              "          const docLink = document.createElement('div');\n",
              "          docLink.innerHTML = docLinkHtml;\n",
              "          element.appendChild(docLink);\n",
              "        }\n",
              "      </script>\n",
              "    </div>\n",
              "  </div>\n",
              "  "
            ]
          },
          "metadata": {},
          "execution_count": 43
        }
      ]
    },
    {
      "cell_type": "code",
      "source": [
        "X_train.dtypes"
      ],
      "metadata": {
        "colab": {
          "base_uri": "https://localhost:8080/"
        },
        "id": "0C-dExnE771c",
        "outputId": "ce8b6348-3d2e-469a-9253-aedd50cb04cf"
      },
      "execution_count": null,
      "outputs": [
        {
          "output_type": "execute_result",
          "data": {
            "text/plain": [
              "Area Code           int64\n",
              "State               int64\n",
              "Market              int64\n",
              "Market Size         int64\n",
              "Sales             float64\n",
              "Total Expenses    float64\n",
              "Marketing         float64\n",
              "Inventory         float64\n",
              "Budget Profit     float64\n",
              "Budget COGS       float64\n",
              "Budget Margin     float64\n",
              "Budget Sales      float64\n",
              "ProductId           int64\n",
              "Product Type        int64\n",
              "Type                int64\n",
              "dtype: object"
            ]
          },
          "metadata": {},
          "execution_count": 44
        }
      ]
    },
    {
      "cell_type": "code",
      "source": [
        "import xgboost as xgb\n",
        "from xgboost import XGBClassifier\n",
        "\n",
        "# Inferir um modelo preditivo a partir de um conjunto de exemplos de treinamento rotulados.\n",
        "# Usa árvores de decisão para seu modelo de conjunto. Cada árvore é um aprendiz fraco.\n",
        "# O algoritmo segue construindo sequencialmente mais árvores de decisão, cada uma corrigindo o erro da árvore anterior até que uma condição de parada seja alcançada.\n"
      ],
      "metadata": {
        "id": "6PBWW_gh25sF"
      },
      "execution_count": null,
      "outputs": []
    },
    {
      "cell_type": "code",
      "source": [
        "! pip install xgboost"
      ],
      "metadata": {
        "colab": {
          "base_uri": "https://localhost:8080/"
        },
        "id": "LeJ3W-s14j7_",
        "outputId": "7ce2f07e-3c2f-4840-e339-4de2acf1061e"
      },
      "execution_count": null,
      "outputs": [
        {
          "output_type": "stream",
          "name": "stdout",
          "text": [
            "Looking in indexes: https://pypi.org/simple, https://us-python.pkg.dev/colab-wheels/public/simple/\n",
            "Requirement already satisfied: xgboost in /usr/local/lib/python3.8/dist-packages (0.90)\n",
            "Requirement already satisfied: scipy in /usr/local/lib/python3.8/dist-packages (from xgboost) (1.7.3)\n",
            "Requirement already satisfied: numpy in /usr/local/lib/python3.8/dist-packages (from xgboost) (1.21.6)\n"
          ]
        }
      ]
    },
    {
      "cell_type": "code",
      "source": [
        "#n_estimators: número de árvores de decisão a serem usadas no modelo. Quanto maior o número de árvores, mais complexo será o modelo.\n",
        "#max_depth: profundidade máxima das árvores de decisão. Quanto maior a profundidade, mais complexo será o modelo.\n",
        "#learning_rate: taxa de aprendizagem do modelo. É um valor que controla a magnitude das atualizações de pesos a cada iteração.\n",
        "#subsample: fração de observações a serem usadas para cada árvore de decisão. Valores menores resultam em modelos mais simples e menos propensos a overfitting.\n",
        "#random_state: semente para o gerador de números aleatórios usado na construção do modelo. Isso garante que o modelo será construído de forma determinista, ou seja, sempre produzirá os mesmos resultados para um mesmo conjunto de dados.\n",
        "\n",
        "clf = XGBClassifier(n_estimators = 50,\n",
        "                    max_depth = 10, \n",
        "                    learning_rate = 0.01,\n",
        "                    subsample = 1,\n",
        "                    random_state=0)\n",
        "\n",
        "# Training the XGB classifier\n",
        "clf.fit(X_train, y_train)"
      ],
      "metadata": {
        "colab": {
          "base_uri": "https://localhost:8080/"
        },
        "id": "vmwACCvBZwMW",
        "outputId": "0e1f9436-7c75-4b1f-9498-8b9644ef7561"
      },
      "execution_count": null,
      "outputs": [
        {
          "output_type": "execute_result",
          "data": {
            "text/plain": [
              "XGBClassifier(learning_rate=0.01, max_depth=10, n_estimators=50,\n",
              "              objective='multi:softprob')"
            ]
          },
          "metadata": {},
          "execution_count": 47
        }
      ]
    },
    {
      "cell_type": "code",
      "source": [
        "#fazendo a predição com os dados de teste\n",
        "y_pred = clf.predict(X_test)\n",
        "# Cobinando os valores encontrados com os valores atuais\n",
        "pd.DataFrame(data={'Rótulo Atual': y_test, 'Rótulo Predito': y_pred}).head()"
      ],
      "metadata": {
        "colab": {
          "base_uri": "https://localhost:8080/",
          "height": 206
        },
        "id": "JWzqlEMYafqk",
        "outputId": "cd4c139f-fcb9-4e93-c03c-ba2a941e068d"
      },
      "execution_count": null,
      "outputs": [
        {
          "output_type": "execute_result",
          "data": {
            "text/plain": [
              "      Rótulo Atual  Rótulo Predito\n",
              "718          245.0           245.0\n",
              "3116          62.0            62.0\n",
              "3061          91.0            91.0\n",
              "2552         228.0           228.0\n",
              "120           48.0            48.0"
            ],
            "text/html": [
              "\n",
              "  <div id=\"df-0c46a8e7-ea1a-48f3-9a64-ccfabbfa9cd9\">\n",
              "    <div class=\"colab-df-container\">\n",
              "      <div>\n",
              "<style scoped>\n",
              "    .dataframe tbody tr th:only-of-type {\n",
              "        vertical-align: middle;\n",
              "    }\n",
              "\n",
              "    .dataframe tbody tr th {\n",
              "        vertical-align: top;\n",
              "    }\n",
              "\n",
              "    .dataframe thead th {\n",
              "        text-align: right;\n",
              "    }\n",
              "</style>\n",
              "<table border=\"1\" class=\"dataframe\">\n",
              "  <thead>\n",
              "    <tr style=\"text-align: right;\">\n",
              "      <th></th>\n",
              "      <th>Rótulo Atual</th>\n",
              "      <th>Rótulo Predito</th>\n",
              "    </tr>\n",
              "  </thead>\n",
              "  <tbody>\n",
              "    <tr>\n",
              "      <th>718</th>\n",
              "      <td>245.0</td>\n",
              "      <td>245.0</td>\n",
              "    </tr>\n",
              "    <tr>\n",
              "      <th>3116</th>\n",
              "      <td>62.0</td>\n",
              "      <td>62.0</td>\n",
              "    </tr>\n",
              "    <tr>\n",
              "      <th>3061</th>\n",
              "      <td>91.0</td>\n",
              "      <td>91.0</td>\n",
              "    </tr>\n",
              "    <tr>\n",
              "      <th>2552</th>\n",
              "      <td>228.0</td>\n",
              "      <td>228.0</td>\n",
              "    </tr>\n",
              "    <tr>\n",
              "      <th>120</th>\n",
              "      <td>48.0</td>\n",
              "      <td>48.0</td>\n",
              "    </tr>\n",
              "  </tbody>\n",
              "</table>\n",
              "</div>\n",
              "      <button class=\"colab-df-convert\" onclick=\"convertToInteractive('df-0c46a8e7-ea1a-48f3-9a64-ccfabbfa9cd9')\"\n",
              "              title=\"Convert this dataframe to an interactive table.\"\n",
              "              style=\"display:none;\">\n",
              "        \n",
              "  <svg xmlns=\"http://www.w3.org/2000/svg\" height=\"24px\"viewBox=\"0 0 24 24\"\n",
              "       width=\"24px\">\n",
              "    <path d=\"M0 0h24v24H0V0z\" fill=\"none\"/>\n",
              "    <path d=\"M18.56 5.44l.94 2.06.94-2.06 2.06-.94-2.06-.94-.94-2.06-.94 2.06-2.06.94zm-11 1L8.5 8.5l.94-2.06 2.06-.94-2.06-.94L8.5 2.5l-.94 2.06-2.06.94zm10 10l.94 2.06.94-2.06 2.06-.94-2.06-.94-.94-2.06-.94 2.06-2.06.94z\"/><path d=\"M17.41 7.96l-1.37-1.37c-.4-.4-.92-.59-1.43-.59-.52 0-1.04.2-1.43.59L10.3 9.45l-7.72 7.72c-.78.78-.78 2.05 0 2.83L4 21.41c.39.39.9.59 1.41.59.51 0 1.02-.2 1.41-.59l7.78-7.78 2.81-2.81c.8-.78.8-2.07 0-2.86zM5.41 20L4 18.59l7.72-7.72 1.47 1.35L5.41 20z\"/>\n",
              "  </svg>\n",
              "      </button>\n",
              "      \n",
              "  <style>\n",
              "    .colab-df-container {\n",
              "      display:flex;\n",
              "      flex-wrap:wrap;\n",
              "      gap: 12px;\n",
              "    }\n",
              "\n",
              "    .colab-df-convert {\n",
              "      background-color: #E8F0FE;\n",
              "      border: none;\n",
              "      border-radius: 50%;\n",
              "      cursor: pointer;\n",
              "      display: none;\n",
              "      fill: #1967D2;\n",
              "      height: 32px;\n",
              "      padding: 0 0 0 0;\n",
              "      width: 32px;\n",
              "    }\n",
              "\n",
              "    .colab-df-convert:hover {\n",
              "      background-color: #E2EBFA;\n",
              "      box-shadow: 0px 1px 2px rgba(60, 64, 67, 0.3), 0px 1px 3px 1px rgba(60, 64, 67, 0.15);\n",
              "      fill: #174EA6;\n",
              "    }\n",
              "\n",
              "    [theme=dark] .colab-df-convert {\n",
              "      background-color: #3B4455;\n",
              "      fill: #D2E3FC;\n",
              "    }\n",
              "\n",
              "    [theme=dark] .colab-df-convert:hover {\n",
              "      background-color: #434B5C;\n",
              "      box-shadow: 0px 1px 3px 1px rgba(0, 0, 0, 0.15);\n",
              "      filter: drop-shadow(0px 1px 2px rgba(0, 0, 0, 0.3));\n",
              "      fill: #FFFFFF;\n",
              "    }\n",
              "  </style>\n",
              "\n",
              "      <script>\n",
              "        const buttonEl =\n",
              "          document.querySelector('#df-0c46a8e7-ea1a-48f3-9a64-ccfabbfa9cd9 button.colab-df-convert');\n",
              "        buttonEl.style.display =\n",
              "          google.colab.kernel.accessAllowed ? 'block' : 'none';\n",
              "\n",
              "        async function convertToInteractive(key) {\n",
              "          const element = document.querySelector('#df-0c46a8e7-ea1a-48f3-9a64-ccfabbfa9cd9');\n",
              "          const dataTable =\n",
              "            await google.colab.kernel.invokeFunction('convertToInteractive',\n",
              "                                                     [key], {});\n",
              "          if (!dataTable) return;\n",
              "\n",
              "          const docLinkHtml = 'Like what you see? Visit the ' +\n",
              "            '<a target=\"_blank\" href=https://colab.research.google.com/notebooks/data_table.ipynb>data table notebook</a>'\n",
              "            + ' to learn more about interactive tables.';\n",
              "          element.innerHTML = '';\n",
              "          dataTable['output_type'] = 'display_data';\n",
              "          await google.colab.output.renderOutput(dataTable, element);\n",
              "          const docLink = document.createElement('div');\n",
              "          docLink.innerHTML = docLinkHtml;\n",
              "          element.appendChild(docLink);\n",
              "        }\n",
              "      </script>\n",
              "    </div>\n",
              "  </div>\n",
              "  "
            ]
          },
          "metadata": {},
          "execution_count": 48
        }
      ]
    },
    {
      "cell_type": "markdown",
      "source": [
        "A partir da comparação acima, cada rótulo real está sendo previsto com precisão, mas pode haver alguns casos em que o modelo fez previsões imprecisas. Vamos revelar tudo isso usando a matriz de confusão.\n",
        "\n",
        "Lembrando que a matriz de confusão é uma tabela que representa os acertos e erros de uma classificação. Dessa forma é possível fazer cálculos de desempenho através destes resultados obtidos(famosos Falso positivo/negativo e Vdd positivo/negativo.   N consgui simplificar"
      ],
      "metadata": {
        "id": "clqqbxAMu0Dh"
      }
    },
    {
      "cell_type": "code",
      "source": [
        "#from sklearn.metrics import plot_confusion_matrix\n",
        "#plot_confusion_matrix(clf, X_test, y_test, cmap='Blues')"
      ],
      "metadata": {
        "id": "TCd6ZfvxXadw"
      },
      "execution_count": null,
      "outputs": []
    },
    {
      "cell_type": "code",
      "source": [
        "# Score da Acurácia\n",
        "from sklearn.metrics import accuracy_score\n",
        "print(f'Precisão do modelo: {round(accuracy_score(y_test, y_pred)*100,3)}%')"
      ],
      "metadata": {
        "colab": {
          "base_uri": "https://localhost:8080/"
        },
        "id": "Ov7mYJ-HxefF",
        "outputId": "6ff9e80a-0ad6-4077-89a0-9dfe285fe2d8"
      },
      "execution_count": null,
      "outputs": [
        {
          "output_type": "stream",
          "name": "stdout",
          "text": [
            "Precisão do modelo: 61.769%\n"
          ]
        }
      ]
    },
    {
      "cell_type": "code",
      "source": [
        "# Relatório da Classificação\n",
        "from sklearn.metrics import classification_report\n",
        "print(classification_report(y_test, y_pred))"
      ],
      "metadata": {
        "colab": {
          "base_uri": "https://localhost:8080/"
        },
        "id": "d25LRLwExmtS",
        "outputId": "20393bb4-4e4b-438f-a941-93b22fc06362"
      },
      "execution_count": null,
      "outputs": [
        {
          "output_type": "stream",
          "name": "stdout",
          "text": [
            "              precision    recall  f1-score   support\n",
            "\n",
            "         0.0       1.00      1.00      1.00        25\n",
            "        10.0       0.00      0.00      0.00         3\n",
            "        14.0       0.00      0.00      0.00         1\n",
            "        15.0       0.00      0.00      0.00         1\n",
            "        16.0       0.62      1.00      0.77         5\n",
            "        17.0       1.00      0.75      0.86         4\n",
            "        18.0       0.73      0.73      0.73        11\n",
            "        19.0       0.18      1.00      0.31         2\n",
            "        20.0       0.89      0.44      0.59        18\n",
            "        21.0       0.92      0.92      0.92        12\n",
            "        22.0       0.71      0.77      0.74        13\n",
            "        23.0       0.72      0.81      0.76        16\n",
            "        24.0       1.00      0.25      0.40         8\n",
            "        25.0       0.93      1.00      0.96        13\n",
            "        27.0       0.00      0.00      0.00         2\n",
            "        28.0       0.62      1.00      0.77         5\n",
            "        29.0       0.73      0.69      0.71        16\n",
            "        30.0       0.80      0.50      0.62         8\n",
            "        31.0       0.54      1.00      0.70         7\n",
            "        32.0       0.92      0.86      0.89        14\n",
            "        33.0       0.71      0.71      0.71        14\n",
            "        34.0       0.78      0.82      0.80        17\n",
            "        35.0       0.62      0.73      0.67        11\n",
            "        36.0       0.67      0.94      0.78        17\n",
            "        37.0       0.50      0.30      0.37        10\n",
            "        38.0       1.00      0.08      0.14        13\n",
            "        39.0       0.68      0.59      0.63        22\n",
            "        40.0       1.00      0.60      0.75        10\n",
            "        41.0       0.42      0.73      0.53        11\n",
            "        42.0       0.00      0.00      0.00         7\n",
            "        43.0       0.67      0.97      0.79        29\n",
            "        44.0       0.79      0.79      0.79        28\n",
            "        45.0       0.83      0.29      0.43        17\n",
            "        46.0       0.65      0.71      0.68        21\n",
            "        47.0       0.64      0.67      0.65        21\n",
            "        48.0       0.62      0.64      0.63        28\n",
            "        49.0       0.66      0.70      0.68        33\n",
            "        50.0       0.48      0.73      0.58        15\n",
            "        51.0       0.75      0.30      0.43        20\n",
            "        52.0       0.68      0.95      0.79        40\n",
            "        53.0       0.50      0.32      0.39        25\n",
            "        54.0       0.78      0.90      0.84        31\n",
            "        55.0       0.44      0.58      0.50        12\n",
            "        56.0       0.25      0.20      0.22         5\n",
            "        57.0       1.00      0.47      0.64        15\n",
            "        58.0       1.00      0.69      0.82        13\n",
            "        59.0       0.82      0.74      0.78        19\n",
            "        60.0       0.53      0.62      0.57        16\n",
            "        61.0       0.67      0.15      0.25        13\n",
            "        62.0       0.28      0.62      0.38         8\n",
            "        63.0       0.50      0.61      0.55        18\n",
            "        64.0       0.78      0.78      0.78         9\n",
            "        65.0       0.67      0.36      0.47        11\n",
            "        67.0       0.43      0.75      0.55         8\n",
            "        68.0       0.33      0.36      0.35        11\n",
            "        69.0       0.43      0.30      0.35        10\n",
            "        70.0       0.00      0.00      0.00         1\n",
            "        71.0       0.00      0.00      0.00         3\n",
            "        72.0       1.00      0.92      0.96        13\n",
            "        74.0       0.00      0.00      0.00         2\n",
            "        75.0       0.78      0.54      0.64        13\n",
            "        76.0       0.50      0.86      0.63         7\n",
            "        77.0       0.48      0.85      0.61        13\n",
            "        78.0       0.82      0.82      0.82        11\n",
            "        79.0       0.50      1.00      0.67         5\n",
            "        80.0       0.60      0.43      0.50        14\n",
            "        81.0       0.94      0.79      0.86        19\n",
            "        82.0       0.33      0.80      0.47         5\n",
            "        83.0       0.61      0.65      0.63        17\n",
            "        84.0       0.29      0.33      0.31        12\n",
            "        85.0       0.33      0.57      0.42         7\n",
            "        86.0       0.62      0.45      0.53        22\n",
            "        87.0       0.57      0.80      0.67         5\n",
            "        88.0       0.58      1.00      0.73        11\n",
            "        89.0       0.33      0.14      0.20         7\n",
            "        90.0       0.33      0.67      0.44         3\n",
            "        91.0       0.60      0.50      0.55         6\n",
            "        92.0       1.00      0.50      0.67        14\n",
            "        93.0       1.00      0.25      0.40         4\n",
            "        94.0       1.00      0.83      0.91        12\n",
            "        95.0       0.52      0.65      0.58        20\n",
            "        96.0       0.50      0.17      0.25         6\n",
            "        97.0       0.00      0.00      0.00         1\n",
            "        98.0       0.00      0.00      0.00         2\n",
            "        99.0       0.57      0.44      0.50         9\n",
            "       100.0       0.45      0.62      0.53         8\n",
            "       101.0       0.00      0.00      0.00         1\n",
            "       102.0       0.00      0.00      0.00         1\n",
            "       103.0       0.00      0.00      0.00         6\n",
            "       104.0       0.61      1.00      0.76        11\n",
            "       105.0       0.67      1.00      0.80         2\n",
            "       108.0       0.00      0.00      0.00         3\n",
            "       109.0       0.00      0.00      0.00         3\n",
            "       110.0       1.00      0.50      0.67         4\n",
            "       111.0       0.00      0.00      0.00         3\n",
            "       112.0       0.00      0.00      0.00         1\n",
            "       113.0       0.36      0.57      0.44         7\n",
            "       114.0       0.57      0.50      0.53         8\n",
            "       115.0       0.00      0.00      0.00         2\n",
            "       116.0       0.38      0.43      0.40         7\n",
            "       118.0       0.38      0.60      0.46         5\n",
            "       120.0       1.00      1.00      1.00         3\n",
            "       121.0       0.90      1.00      0.95         9\n",
            "       122.0       0.00      0.00      0.00         6\n",
            "       123.0       0.52      1.00      0.68        17\n",
            "       124.0       1.00      0.33      0.50         3\n",
            "       125.0       0.70      0.78      0.74         9\n",
            "       127.0       0.50      0.43      0.46         7\n",
            "       130.0       0.50      1.00      0.67         1\n",
            "       132.0       0.00      0.00      0.00         3\n",
            "       133.0       1.00      0.50      0.67         2\n",
            "       134.0       1.00      0.33      0.50         3\n",
            "       135.0       0.00      0.00      0.00         3\n",
            "       141.0       0.60      0.75      0.67         4\n",
            "       144.0       1.00      1.00      1.00         1\n",
            "       145.0       0.45      0.83      0.59         6\n",
            "       148.0       0.00      0.00      0.00         1\n",
            "       149.0       0.58      1.00      0.74         7\n",
            "       153.0       0.00      0.00      0.00         2\n",
            "       154.0       0.83      1.00      0.91         5\n",
            "       155.0       1.00      1.00      1.00         2\n",
            "       161.0       1.00      0.25      0.40         4\n",
            "       162.0       0.75      0.90      0.82        10\n",
            "       170.0       0.67      1.00      0.80         4\n",
            "       173.0       0.20      1.00      0.33         3\n",
            "       181.0       0.00      0.00      0.00         1\n",
            "       191.0       0.00      0.00      0.00         0\n",
            "       195.0       1.00      1.00      1.00         1\n",
            "       196.0       0.00      0.00      0.00         2\n",
            "       200.0       0.00      0.00      0.00         2\n",
            "       207.0       0.00      0.00      0.00         2\n",
            "       209.0       0.00      0.00      0.00         4\n",
            "       211.0       0.00      0.00      0.00         5\n",
            "       213.0       0.00      0.00      0.00         1\n",
            "       214.0       0.00      0.00      0.00         2\n",
            "       224.0       0.00      0.00      0.00         3\n",
            "       225.0       0.00      0.00      0.00         2\n",
            "       228.0       0.90      1.00      0.95         9\n",
            "       234.0       0.40      1.00      0.57         6\n",
            "       239.0       0.57      0.87      0.68        15\n",
            "       240.0       0.00      0.00      0.00         3\n",
            "       241.0       0.00      0.00      0.00         1\n",
            "       243.0       0.00      0.00      0.00         4\n",
            "       244.0       0.00      0.00      0.00         2\n",
            "       245.0       0.47      1.00      0.64         8\n",
            "       247.0       0.00      0.00      0.00         2\n",
            "       249.0       1.00      0.33      0.50         6\n",
            "       250.0       0.00      0.00      0.00         4\n",
            "       251.0       0.00      0.00      0.00         3\n",
            "       252.0       0.00      0.00      0.00         3\n",
            "       253.0       0.50      0.50      0.50         2\n",
            "       255.0       0.00      0.00      0.00         2\n",
            "       257.0       0.00      0.00      0.00         3\n",
            "       258.0       0.00      0.00      0.00         2\n",
            "       260.0       0.60      0.69      0.64        13\n",
            "       263.0       0.08      1.00      0.15         1\n",
            "       265.0       0.00      0.00      0.00         2\n",
            "       266.0       0.88      0.70      0.78        10\n",
            "       270.0       0.00      0.00      0.00         4\n",
            "       271.0       0.00      0.00      0.00         3\n",
            "       272.0       0.00      0.00      0.00         3\n",
            "       284.0       0.33      0.67      0.44         3\n",
            "       291.0       1.00      0.67      0.80         3\n",
            "       294.0       0.00      0.00      0.00         3\n",
            "       295.0       0.50      1.00      0.67         2\n",
            "       302.0       0.12      1.00      0.22         1\n",
            "       311.0       0.00      0.00      0.00         5\n",
            "       316.0       0.00      0.00      0.00         1\n",
            "       356.0       0.00      0.00      0.00         2\n",
            "       364.0       0.00      0.00      0.00         3\n",
            "\n",
            "    accuracy                           0.62      1402\n",
            "   macro avg       0.45      0.47      0.43      1402\n",
            "weighted avg       0.62      0.62      0.59      1402\n",
            "\n"
          ]
        },
        {
          "output_type": "stream",
          "name": "stderr",
          "text": [
            "/usr/local/lib/python3.8/dist-packages/sklearn/metrics/_classification.py:1318: UndefinedMetricWarning: Precision and F-score are ill-defined and being set to 0.0 in labels with no predicted samples. Use `zero_division` parameter to control this behavior.\n",
            "  _warn_prf(average, modifier, msg_start, len(result))\n",
            "/usr/local/lib/python3.8/dist-packages/sklearn/metrics/_classification.py:1318: UndefinedMetricWarning: Recall and F-score are ill-defined and being set to 0.0 in labels with no true samples. Use `zero_division` parameter to control this behavior.\n",
            "  _warn_prf(average, modifier, msg_start, len(result))\n",
            "/usr/local/lib/python3.8/dist-packages/sklearn/metrics/_classification.py:1318: UndefinedMetricWarning: Precision and F-score are ill-defined and being set to 0.0 in labels with no predicted samples. Use `zero_division` parameter to control this behavior.\n",
            "  _warn_prf(average, modifier, msg_start, len(result))\n",
            "/usr/local/lib/python3.8/dist-packages/sklearn/metrics/_classification.py:1318: UndefinedMetricWarning: Recall and F-score are ill-defined and being set to 0.0 in labels with no true samples. Use `zero_division` parameter to control this behavior.\n",
            "  _warn_prf(average, modifier, msg_start, len(result))\n",
            "/usr/local/lib/python3.8/dist-packages/sklearn/metrics/_classification.py:1318: UndefinedMetricWarning: Precision and F-score are ill-defined and being set to 0.0 in labels with no predicted samples. Use `zero_division` parameter to control this behavior.\n",
            "  _warn_prf(average, modifier, msg_start, len(result))\n",
            "/usr/local/lib/python3.8/dist-packages/sklearn/metrics/_classification.py:1318: UndefinedMetricWarning: Recall and F-score are ill-defined and being set to 0.0 in labels with no true samples. Use `zero_division` parameter to control this behavior.\n",
            "  _warn_prf(average, modifier, msg_start, len(result))\n"
          ]
        }
      ]
    },
    {
      "cell_type": "markdown",
      "source": [
        "Nessa 2ª Iteração, iremos balancear o nosso dataset para verificar se haverá melhora na acurácia do modelo."
      ],
      "metadata": {
        "id": "AeQWuYMNydz0"
      }
    },
    {
      "cell_type": "code",
      "source": [
        "! pip install imbalanced-learn\n",
        "\n",
        "# carrega a bibliotecas necessárias para a 2ª iteração\n",
        "from imblearn.over_sampling import SMOTE\n",
        "from collections import Counter"
      ],
      "metadata": {
        "colab": {
          "base_uri": "https://localhost:8080/"
        },
        "id": "eaIRR_UxyfgY",
        "outputId": "7c9b003e-c035-4188-ee6f-e0afc525d5f2"
      },
      "execution_count": null,
      "outputs": [
        {
          "output_type": "stream",
          "name": "stdout",
          "text": [
            "Looking in indexes: https://pypi.org/simple, https://us-python.pkg.dev/colab-wheels/public/simple/\n",
            "Requirement already satisfied: imbalanced-learn in /usr/local/lib/python3.8/dist-packages (0.8.1)\n",
            "Requirement already satisfied: joblib>=0.11 in /usr/local/lib/python3.8/dist-packages (from imbalanced-learn) (1.2.0)\n",
            "Requirement already satisfied: scikit-learn>=0.24 in /usr/local/lib/python3.8/dist-packages (from imbalanced-learn) (1.0.2)\n",
            "Requirement already satisfied: scipy>=0.19.1 in /usr/local/lib/python3.8/dist-packages (from imbalanced-learn) (1.7.3)\n",
            "Requirement already satisfied: numpy>=1.13.3 in /usr/local/lib/python3.8/dist-packages (from imbalanced-learn) (1.21.6)\n",
            "Requirement already satisfied: threadpoolctl>=2.0.0 in /usr/local/lib/python3.8/dist-packages (from scikit-learn>=0.24->imbalanced-learn) (3.1.0)\n"
          ]
        }
      ]
    },
    {
      "cell_type": "code",
      "source": [
        "# executa o balanceamento usando a técnica SMOTE\n",
        "#oversample = SMOTE()\n",
        "#X, y = oversample.fit_resample(X, y)\n",
        "\n",
        "# realiza a contagem das classes\n",
        "#contagem = Counter(y)\n",
        "#print(contagem)"
      ],
      "metadata": {
        "id": "6ZgiRrTCYRGN"
      },
      "execution_count": null,
      "outputs": []
    },
    {
      "cell_type": "code",
      "source": [
        "# separando os dados de treino e teste\n",
        "X_train, X_test, y_train, y_test = train_test_split(X, y, \n",
        "                                                    test_size = 0.30, \n",
        "                                                    shuffle=True, \n",
        "                                                    random_state = 0)\n"
      ],
      "metadata": {
        "id": "8NmlYQXN4MrR"
      },
      "execution_count": null,
      "outputs": []
    },
    {
      "cell_type": "code",
      "source": [
        "clf2 = XGBClassifier(n_estimators = 650, \n",
        "                     max_depth = 10, \n",
        "                     learning_rate = 0.01,\n",
        "                     subsample = 1,\n",
        "                     random_state=0)\n",
        "\n",
        "# Training the XGB classifier\n",
        "clf2.fit(X_train, y_train)"
      ],
      "metadata": {
        "colab": {
          "base_uri": "https://localhost:8080/"
        },
        "id": "WwS8oJvE5f82",
        "outputId": "16b0b68d-d38c-4fc6-e469-8942b26b2d5a"
      },
      "execution_count": null,
      "outputs": [
        {
          "output_type": "execute_result",
          "data": {
            "text/plain": [
              "XGBClassifier(learning_rate=0.01, max_depth=10, n_estimators=650,\n",
              "              objective='multi:softprob')"
            ]
          },
          "metadata": {},
          "execution_count": 61
        }
      ]
    },
    {
      "cell_type": "code",
      "source": [
        "# fazendo a predição com os dados de teste\n",
        "y_pred = clf2.predict(X_test)\n",
        "# Cobinando os valores encontrados com os valores atuais\n",
        "pd.DataFrame(data={'Rótulo Atual': y_test, 'Rótulo Predito': y_pred}).head()"
      ],
      "metadata": {
        "colab": {
          "base_uri": "https://localhost:8080/",
          "height": 206
        },
        "id": "e_TOAnZw66HN",
        "outputId": "bd909dab-b569-4aa1-a9eb-b0fd52690174"
      },
      "execution_count": null,
      "outputs": [
        {
          "output_type": "execute_result",
          "data": {
            "text/plain": [
              "      Rótulo Atual  Rótulo Predito\n",
              "2672         104.0           104.0\n",
              "927          114.0           114.0\n",
              "2060           0.0             0.0\n",
              "4020          35.0            35.0\n",
              "2911         105.0           105.0"
            ],
            "text/html": [
              "\n",
              "  <div id=\"df-00d35717-c6df-4e11-aecf-0fe4e8cf6738\">\n",
              "    <div class=\"colab-df-container\">\n",
              "      <div>\n",
              "<style scoped>\n",
              "    .dataframe tbody tr th:only-of-type {\n",
              "        vertical-align: middle;\n",
              "    }\n",
              "\n",
              "    .dataframe tbody tr th {\n",
              "        vertical-align: top;\n",
              "    }\n",
              "\n",
              "    .dataframe thead th {\n",
              "        text-align: right;\n",
              "    }\n",
              "</style>\n",
              "<table border=\"1\" class=\"dataframe\">\n",
              "  <thead>\n",
              "    <tr style=\"text-align: right;\">\n",
              "      <th></th>\n",
              "      <th>Rótulo Atual</th>\n",
              "      <th>Rótulo Predito</th>\n",
              "    </tr>\n",
              "  </thead>\n",
              "  <tbody>\n",
              "    <tr>\n",
              "      <th>2672</th>\n",
              "      <td>104.0</td>\n",
              "      <td>104.0</td>\n",
              "    </tr>\n",
              "    <tr>\n",
              "      <th>927</th>\n",
              "      <td>114.0</td>\n",
              "      <td>114.0</td>\n",
              "    </tr>\n",
              "    <tr>\n",
              "      <th>2060</th>\n",
              "      <td>0.0</td>\n",
              "      <td>0.0</td>\n",
              "    </tr>\n",
              "    <tr>\n",
              "      <th>4020</th>\n",
              "      <td>35.0</td>\n",
              "      <td>35.0</td>\n",
              "    </tr>\n",
              "    <tr>\n",
              "      <th>2911</th>\n",
              "      <td>105.0</td>\n",
              "      <td>105.0</td>\n",
              "    </tr>\n",
              "  </tbody>\n",
              "</table>\n",
              "</div>\n",
              "      <button class=\"colab-df-convert\" onclick=\"convertToInteractive('df-00d35717-c6df-4e11-aecf-0fe4e8cf6738')\"\n",
              "              title=\"Convert this dataframe to an interactive table.\"\n",
              "              style=\"display:none;\">\n",
              "        \n",
              "  <svg xmlns=\"http://www.w3.org/2000/svg\" height=\"24px\"viewBox=\"0 0 24 24\"\n",
              "       width=\"24px\">\n",
              "    <path d=\"M0 0h24v24H0V0z\" fill=\"none\"/>\n",
              "    <path d=\"M18.56 5.44l.94 2.06.94-2.06 2.06-.94-2.06-.94-.94-2.06-.94 2.06-2.06.94zm-11 1L8.5 8.5l.94-2.06 2.06-.94-2.06-.94L8.5 2.5l-.94 2.06-2.06.94zm10 10l.94 2.06.94-2.06 2.06-.94-2.06-.94-.94-2.06-.94 2.06-2.06.94z\"/><path d=\"M17.41 7.96l-1.37-1.37c-.4-.4-.92-.59-1.43-.59-.52 0-1.04.2-1.43.59L10.3 9.45l-7.72 7.72c-.78.78-.78 2.05 0 2.83L4 21.41c.39.39.9.59 1.41.59.51 0 1.02-.2 1.41-.59l7.78-7.78 2.81-2.81c.8-.78.8-2.07 0-2.86zM5.41 20L4 18.59l7.72-7.72 1.47 1.35L5.41 20z\"/>\n",
              "  </svg>\n",
              "      </button>\n",
              "      \n",
              "  <style>\n",
              "    .colab-df-container {\n",
              "      display:flex;\n",
              "      flex-wrap:wrap;\n",
              "      gap: 12px;\n",
              "    }\n",
              "\n",
              "    .colab-df-convert {\n",
              "      background-color: #E8F0FE;\n",
              "      border: none;\n",
              "      border-radius: 50%;\n",
              "      cursor: pointer;\n",
              "      display: none;\n",
              "      fill: #1967D2;\n",
              "      height: 32px;\n",
              "      padding: 0 0 0 0;\n",
              "      width: 32px;\n",
              "    }\n",
              "\n",
              "    .colab-df-convert:hover {\n",
              "      background-color: #E2EBFA;\n",
              "      box-shadow: 0px 1px 2px rgba(60, 64, 67, 0.3), 0px 1px 3px 1px rgba(60, 64, 67, 0.15);\n",
              "      fill: #174EA6;\n",
              "    }\n",
              "\n",
              "    [theme=dark] .colab-df-convert {\n",
              "      background-color: #3B4455;\n",
              "      fill: #D2E3FC;\n",
              "    }\n",
              "\n",
              "    [theme=dark] .colab-df-convert:hover {\n",
              "      background-color: #434B5C;\n",
              "      box-shadow: 0px 1px 3px 1px rgba(0, 0, 0, 0.15);\n",
              "      filter: drop-shadow(0px 1px 2px rgba(0, 0, 0, 0.3));\n",
              "      fill: #FFFFFF;\n",
              "    }\n",
              "  </style>\n",
              "\n",
              "      <script>\n",
              "        const buttonEl =\n",
              "          document.querySelector('#df-00d35717-c6df-4e11-aecf-0fe4e8cf6738 button.colab-df-convert');\n",
              "        buttonEl.style.display =\n",
              "          google.colab.kernel.accessAllowed ? 'block' : 'none';\n",
              "\n",
              "        async function convertToInteractive(key) {\n",
              "          const element = document.querySelector('#df-00d35717-c6df-4e11-aecf-0fe4e8cf6738');\n",
              "          const dataTable =\n",
              "            await google.colab.kernel.invokeFunction('convertToInteractive',\n",
              "                                                     [key], {});\n",
              "          if (!dataTable) return;\n",
              "\n",
              "          const docLinkHtml = 'Like what you see? Visit the ' +\n",
              "            '<a target=\"_blank\" href=https://colab.research.google.com/notebooks/data_table.ipynb>data table notebook</a>'\n",
              "            + ' to learn more about interactive tables.';\n",
              "          element.innerHTML = '';\n",
              "          dataTable['output_type'] = 'display_data';\n",
              "          await google.colab.output.renderOutput(dataTable, element);\n",
              "          const docLink = document.createElement('div');\n",
              "          docLink.innerHTML = docLinkHtml;\n",
              "          element.appendChild(docLink);\n",
              "        }\n",
              "      </script>\n",
              "    </div>\n",
              "  </div>\n",
              "  "
            ]
          },
          "metadata": {},
          "execution_count": 62
        }
      ]
    },
    {
      "cell_type": "code",
      "source": [
        "# Score da Acurácia\n",
        "from sklearn.metrics import accuracy_score\n",
        "print(f'Precisão do modelo : {round(accuracy_score(y_test, y_pred)*100,3)}%')"
      ],
      "metadata": {
        "colab": {
          "base_uri": "https://localhost:8080/"
        },
        "id": "g26D3jT4-c2g",
        "outputId": "4e2029dd-99a0-4a21-e2f1-563263d7d11c"
      },
      "execution_count": null,
      "outputs": [
        {
          "output_type": "stream",
          "name": "stdout",
          "text": [
            "Precisão do modelo : 89.176%\n"
          ]
        }
      ]
    },
    {
      "cell_type": "code",
      "source": [
        "# Relatório da Classificação\n",
        "from sklearn.metrics import classification_report\n",
        "print(classification_report(y_test, y_pred))"
      ],
      "metadata": {
        "colab": {
          "base_uri": "https://localhost:8080/"
        },
        "id": "mwv91nrR-gs6",
        "outputId": "a80a4203-c044-4359-9770-9263aaa57f33"
      },
      "execution_count": null,
      "outputs": [
        {
          "output_type": "stream",
          "name": "stdout",
          "text": [
            "              precision    recall  f1-score   support\n",
            "\n",
            "         0.0       1.00      1.00      1.00        16\n",
            "        10.0       1.00      1.00      1.00         1\n",
            "        15.0       1.00      1.00      1.00         2\n",
            "        16.0       1.00      1.00      1.00         9\n",
            "        17.0       1.00      1.00      1.00         3\n",
            "        18.0       0.81      1.00      0.90        13\n",
            "        19.0       1.00      0.62      0.77         8\n",
            "        20.0       0.89      0.89      0.89         9\n",
            "        21.0       0.91      0.91      0.91        11\n",
            "        22.0       1.00      0.90      0.95        10\n",
            "        23.0       1.00      1.00      1.00        16\n",
            "        24.0       0.86      1.00      0.92         6\n",
            "        25.0       1.00      1.00      1.00         9\n",
            "        27.0       0.50      1.00      0.67         1\n",
            "        28.0       0.64      0.90      0.75        10\n",
            "        29.0       0.89      0.44      0.59        18\n",
            "        30.0       1.00      0.62      0.77         8\n",
            "        31.0       0.92      1.00      0.96        12\n",
            "        32.0       0.70      1.00      0.82        14\n",
            "        33.0       0.64      0.82      0.72        17\n",
            "        34.0       0.87      0.62      0.72        21\n",
            "        35.0       0.93      1.00      0.97        14\n",
            "        36.0       0.92      1.00      0.96        11\n",
            "        37.0       1.00      0.92      0.96        12\n",
            "        38.0       0.89      0.73      0.80        11\n",
            "        39.0       0.95      0.86      0.90        22\n",
            "        40.0       0.85      1.00      0.92        11\n",
            "        41.0       0.80      0.62      0.70        13\n",
            "        42.0       1.00      0.60      0.75         5\n",
            "        43.0       0.74      0.94      0.83        18\n",
            "        44.0       0.93      0.96      0.94        26\n",
            "        45.0       0.89      0.84      0.86        19\n",
            "        46.0       0.89      0.94      0.92        18\n",
            "        47.0       0.89      0.57      0.70        28\n",
            "        48.0       0.74      0.93      0.82        27\n",
            "        49.0       0.83      1.00      0.90        19\n",
            "        50.0       0.95      0.95      0.95        19\n",
            "        51.0       1.00      0.77      0.87        13\n",
            "        52.0       0.85      1.00      0.92        28\n",
            "        53.0       0.83      0.76      0.79        25\n",
            "        54.0       0.92      1.00      0.96        22\n",
            "        55.0       1.00      1.00      1.00        12\n",
            "        56.0       1.00      1.00      1.00         3\n",
            "        57.0       1.00      0.82      0.90        11\n",
            "        58.0       1.00      1.00      1.00         5\n",
            "        59.0       1.00      1.00      1.00        17\n",
            "        60.0       1.00      0.93      0.97        15\n",
            "        61.0       1.00      1.00      1.00         6\n",
            "        62.0       0.88      0.64      0.74        11\n",
            "        63.0       0.95      0.95      0.95        20\n",
            "        64.0       0.91      0.77      0.83        13\n",
            "        65.0       0.75      1.00      0.86        12\n",
            "        67.0       0.77      0.67      0.71        15\n",
            "        68.0       0.71      0.71      0.71         7\n",
            "        69.0       0.50      1.00      0.67         5\n",
            "        70.0       0.00      0.00      0.00         2\n",
            "        71.0       1.00      0.17      0.29         6\n",
            "        72.0       1.00      1.00      1.00        11\n",
            "        74.0       0.50      1.00      0.67         2\n",
            "        75.0       1.00      1.00      1.00        11\n",
            "        76.0       1.00      1.00      1.00         5\n",
            "        77.0       0.71      1.00      0.83        10\n",
            "        78.0       0.83      1.00      0.91         5\n",
            "        79.0       1.00      0.83      0.91         6\n",
            "        80.0       0.77      1.00      0.87        10\n",
            "        81.0       1.00      0.93      0.96        14\n",
            "        82.0       1.00      1.00      1.00         4\n",
            "        83.0       1.00      0.71      0.83        14\n",
            "        84.0       0.91      1.00      0.95        10\n",
            "        85.0       1.00      1.00      1.00         5\n",
            "        86.0       0.92      1.00      0.96        11\n",
            "        87.0       1.00      1.00      1.00         5\n",
            "        88.0       1.00      1.00      1.00        14\n",
            "        89.0       1.00      1.00      1.00         4\n",
            "        90.0       1.00      1.00      1.00         5\n",
            "        91.0       1.00      1.00      1.00         8\n",
            "        92.0       1.00      1.00      1.00        10\n",
            "        93.0       1.00      1.00      1.00         6\n",
            "        94.0       1.00      1.00      1.00        16\n",
            "        95.0       1.00      1.00      1.00        13\n",
            "        96.0       0.67      1.00      0.80         4\n",
            "        97.0       1.00      1.00      1.00         1\n",
            "        98.0       1.00      1.00      1.00         1\n",
            "        99.0       1.00      1.00      1.00         5\n",
            "       100.0       1.00      1.00      1.00         7\n",
            "       101.0       1.00      1.00      1.00         1\n",
            "       102.0       1.00      0.33      0.50         3\n",
            "       103.0       1.00      1.00      1.00         2\n",
            "       104.0       0.81      1.00      0.90        13\n",
            "       105.0       1.00      1.00      1.00         6\n",
            "       108.0       1.00      1.00      1.00         2\n",
            "       109.0       0.00      0.00      0.00         5\n",
            "       110.0       1.00      1.00      1.00         3\n",
            "       111.0       1.00      1.00      1.00         2\n",
            "       113.0       1.00      1.00      1.00         5\n",
            "       114.0       1.00      1.00      1.00         9\n",
            "       116.0       1.00      0.86      0.92         7\n",
            "       118.0       0.67      1.00      0.80         4\n",
            "       121.0       1.00      1.00      1.00         5\n",
            "       122.0       1.00      1.00      1.00         3\n",
            "       123.0       0.95      0.95      0.95        22\n",
            "       124.0       1.00      0.67      0.80         3\n",
            "       125.0       1.00      1.00      1.00         8\n",
            "       127.0       0.75      0.75      0.75         8\n",
            "       130.0       0.60      1.00      0.75         3\n",
            "       132.0       1.00      1.00      1.00         2\n",
            "       133.0       1.00      1.00      1.00         1\n",
            "       134.0       1.00      1.00      1.00         3\n",
            "       135.0       1.00      1.00      1.00         3\n",
            "       141.0       1.00      0.75      0.86         8\n",
            "       144.0       1.00      1.00      1.00         5\n",
            "       145.0       1.00      1.00      1.00         6\n",
            "       148.0       1.00      1.00      1.00         3\n",
            "       149.0       0.82      1.00      0.90         9\n",
            "       153.0       1.00      1.00      1.00         2\n",
            "       154.0       1.00      1.00      1.00         8\n",
            "       155.0       1.00      1.00      1.00         4\n",
            "       161.0       1.00      1.00      1.00         2\n",
            "       162.0       0.92      1.00      0.96        11\n",
            "       170.0       1.00      1.00      1.00         2\n",
            "       173.0       1.00      1.00      1.00         3\n",
            "       181.0       1.00      1.00      1.00         2\n",
            "       191.0       1.00      1.00      1.00         2\n",
            "       195.0       1.00      1.00      1.00         1\n",
            "       196.0       1.00      1.00      1.00         1\n",
            "       200.0       1.00      1.00      1.00         2\n",
            "       207.0       1.00      1.00      1.00         3\n",
            "       209.0       1.00      1.00      1.00         1\n",
            "       211.0       1.00      1.00      1.00         1\n",
            "       213.0       0.33      0.33      0.33         3\n",
            "       214.0       0.00      0.00      0.00         2\n",
            "       224.0       0.75      1.00      0.86         3\n",
            "       225.0       1.00      1.00      1.00         3\n",
            "       228.0       1.00      1.00      1.00         8\n",
            "       234.0       1.00      1.00      1.00         2\n",
            "       235.0       1.00      0.25      0.40         4\n",
            "       238.0       1.00      0.33      0.50         3\n",
            "       239.0       1.00      1.00      1.00         9\n",
            "       240.0       1.00      0.33      0.50         3\n",
            "       241.0       1.00      1.00      1.00         1\n",
            "       243.0       1.00      1.00      1.00         4\n",
            "       244.0       1.00      1.00      1.00         1\n",
            "       245.0       1.00      1.00      1.00         4\n",
            "       247.0       1.00      1.00      1.00         5\n",
            "       249.0       1.00      1.00      1.00         4\n",
            "       250.0       1.00      1.00      1.00         3\n",
            "       251.0       1.00      1.00      1.00         2\n",
            "       252.0       1.00      1.00      1.00         3\n",
            "       253.0       1.00      1.00      1.00         3\n",
            "       255.0       0.00      0.00      0.00         2\n",
            "       257.0       1.00      1.00      1.00         1\n",
            "       260.0       0.77      1.00      0.87        10\n",
            "       263.0       0.43      1.00      0.60         3\n",
            "       265.0       1.00      1.00      1.00         2\n",
            "       266.0       0.88      1.00      0.93         7\n",
            "       270.0       0.33      1.00      0.50         1\n",
            "       271.0       0.75      1.00      0.86         3\n",
            "       272.0       0.00      0.00      0.00         4\n",
            "       279.0       1.00      1.00      1.00         1\n",
            "       284.0       1.00      1.00      1.00         4\n",
            "       291.0       1.00      1.00      1.00         3\n",
            "       295.0       1.00      0.80      0.89         5\n",
            "       302.0       1.00      1.00      1.00         4\n",
            "       311.0       1.00      1.00      1.00         2\n",
            "       356.0       1.00      1.00      1.00         1\n",
            "       364.0       1.00      1.00      1.00         1\n",
            "\n",
            "    accuracy                           0.89      1275\n",
            "   macro avg       0.90      0.90      0.88      1275\n",
            "weighted avg       0.90      0.89      0.88      1275\n",
            "\n"
          ]
        },
        {
          "output_type": "stream",
          "name": "stderr",
          "text": [
            "/usr/local/lib/python3.8/dist-packages/sklearn/metrics/_classification.py:1318: UndefinedMetricWarning: Precision and F-score are ill-defined and being set to 0.0 in labels with no predicted samples. Use `zero_division` parameter to control this behavior.\n",
            "  _warn_prf(average, modifier, msg_start, len(result))\n",
            "/usr/local/lib/python3.8/dist-packages/sklearn/metrics/_classification.py:1318: UndefinedMetricWarning: Precision and F-score are ill-defined and being set to 0.0 in labels with no predicted samples. Use `zero_division` parameter to control this behavior.\n",
            "  _warn_prf(average, modifier, msg_start, len(result))\n",
            "/usr/local/lib/python3.8/dist-packages/sklearn/metrics/_classification.py:1318: UndefinedMetricWarning: Precision and F-score are ill-defined and being set to 0.0 in labels with no predicted samples. Use `zero_division` parameter to control this behavior.\n",
            "  _warn_prf(average, modifier, msg_start, len(result))\n"
          ]
        }
      ]
    },
    {
      "cell_type": "markdown",
      "source": [
        "#3.2 Predição 2"
      ],
      "metadata": {
        "id": "QllT6CGvYcJx"
      }
    },
    {
      "cell_type": "code",
      "source": [
        "from sklearn.model_selection import train_test_split\n",
        "\n",
        "y2 = train['COGS']\n",
        "X2 = train[['Area Code', 'State', 'Market', 'Market Size', 'Profit', 'Margin',\n",
        "       'Sales', 'COGS', 'Total Expenses', 'Marketing', 'Inventory',\n",
        "       'Budget Profit', 'Budget COGS', 'Budget Margin', 'Budget Sales',\n",
        "       'ProductId', 'Product Type', 'Type']]\n"
      ],
      "metadata": {
        "colab": {
          "base_uri": "https://localhost:8080/",
          "height": 246
        },
        "id": "Rdcr1bx4HJy4",
        "outputId": "75affc54-0d0f-4ecf-c1ef-30e9a7a8368e"
      },
      "execution_count": null,
      "outputs": [
        {
          "output_type": "error",
          "ename": "NameError",
          "evalue": "ignored",
          "traceback": [
            "\u001b[0;31m---------------------------------------------------------------------------\u001b[0m",
            "\u001b[0;31mNameError\u001b[0m                                 Traceback (most recent call last)",
            "\u001b[0;32m<ipython-input-239-e28a4fd31ba3>\u001b[0m in \u001b[0;36m<module>\u001b[0;34m\u001b[0m\n\u001b[1;32m      1\u001b[0m \u001b[0;32mfrom\u001b[0m \u001b[0msklearn\u001b[0m\u001b[0;34m.\u001b[0m\u001b[0mmodel_selection\u001b[0m \u001b[0;32mimport\u001b[0m \u001b[0mtrain_test_split\u001b[0m\u001b[0;34m\u001b[0m\u001b[0;34m\u001b[0m\u001b[0m\n\u001b[0;32m----> 2\u001b[0;31m \u001b[0my2\u001b[0m \u001b[0;34m=\u001b[0m \u001b[0mtrain\u001b[0m\u001b[0;34m[\u001b[0m\u001b[0;34m'COGS'\u001b[0m\u001b[0;34m]\u001b[0m\u001b[0;34m\u001b[0m\u001b[0;34m\u001b[0m\u001b[0m\n\u001b[0m\u001b[1;32m      3\u001b[0m X2 = train[['Area Code', 'State', 'Market', 'Market Size', 'Profit', 'Margin',\n\u001b[1;32m      4\u001b[0m        \u001b[0;34m'Sales'\u001b[0m\u001b[0;34m,\u001b[0m \u001b[0;34m'COGS'\u001b[0m\u001b[0;34m,\u001b[0m \u001b[0;34m'Total Expenses'\u001b[0m\u001b[0;34m,\u001b[0m \u001b[0;34m'Marketing'\u001b[0m\u001b[0;34m,\u001b[0m \u001b[0;34m'Inventory'\u001b[0m\u001b[0;34m,\u001b[0m\u001b[0;34m\u001b[0m\u001b[0;34m\u001b[0m\u001b[0m\n\u001b[1;32m      5\u001b[0m        \u001b[0;34m'Budget Profit'\u001b[0m\u001b[0;34m,\u001b[0m \u001b[0;34m'Budget COGS'\u001b[0m\u001b[0;34m,\u001b[0m \u001b[0;34m'Budget Margin'\u001b[0m\u001b[0;34m,\u001b[0m \u001b[0;34m'Budget Sales'\u001b[0m\u001b[0;34m,\u001b[0m\u001b[0;34m\u001b[0m\u001b[0;34m\u001b[0m\u001b[0m\n",
            "\u001b[0;31mNameError\u001b[0m: name 'train' is not defined"
          ]
        }
      ]
    },
    {
      "cell_type": "code",
      "source": [
        "'lista2= dados3.columns\n",
        "lista2"
      ],
      "metadata": {
        "colab": {
          "base_uri": "https://localhost:8080/"
        },
        "id": "aPOTcFNnEvou",
        "outputId": "3be05988-a626-49a8-fcd9-8ad7e66de860"
      },
      "execution_count": null,
      "outputs": [
        {
          "output_type": "execute_result",
          "data": {
            "text/plain": [
              "Index(['Area Code', 'State', 'Market', 'Market Size', 'Profit', 'Margin',\n",
              "       'Sales', 'COGS', 'Total Expenses', 'Marketing', 'Inventory',\n",
              "       'Budget Profit', 'Budget COGS', 'Budget Margin', 'Budget Sales',\n",
              "       'ProductId', 'Product Type', 'Type'],\n",
              "      dtype='object')"
            ]
          },
          "metadata": {},
          "execution_count": 234
        }
      ]
    },
    {
      "cell_type": "code",
      "source": [
        "from sklearn.model_selection import KFold\n",
        "\n",
        "\n",
        "kf = KFold(n_splits=8, shuffle=True)\n",
        "scores = []\n",
        "\n",
        "for train_index, val_index in kf.split(X):\n",
        "    X_train, X_test = X.iloc[train_index], X.iloc[val_index]\n",
        "    y_train, y_test = y.iloc[train_index], y.iloc[val_index]\n",
        "    \n",
        "    model = xgb.XGBRegressor(max_depth=8, objective='reg:squarederror', eta=0.3, subsample=0.8, colsample_bytree=0.9,\n",
        "                            colsample_bylevel=1, min_child_weight=10, nthread=3, eval_metric='rmse',\n",
        "                            early_stopping_rounds=30)\n",
        "    \n",
        "    model.fit(X_train, y_train, eval_set=[(X_test,y_test)], verbose=False)\n",
        "    \n",
        "    y_pred = model.predict(X_test)\n",
        "    scores.append(model.best_score)\n",
        "    \n",
        "print('Score médio:', np.mean(scores))"
      ],
      "metadata": {
        "colab": {
          "base_uri": "https://localhost:8080/",
          "height": 246
        },
        "id": "S568ylci5659",
        "outputId": "4badab15-c8ab-49c8-a883-b26b67e23eea"
      },
      "execution_count": null,
      "outputs": [
        {
          "output_type": "error",
          "ename": "AttributeError",
          "evalue": "ignored",
          "traceback": [
            "\u001b[0;31m---------------------------------------------------------------------------\u001b[0m",
            "\u001b[0;31mAttributeError\u001b[0m                            Traceback (most recent call last)",
            "\u001b[0;32m<ipython-input-123-cbc8e9e5da61>\u001b[0m in \u001b[0;36m<module>\u001b[0;34m\u001b[0m\n\u001b[1;32m     17\u001b[0m \u001b[0;34m\u001b[0m\u001b[0m\n\u001b[1;32m     18\u001b[0m     \u001b[0my_pred\u001b[0m \u001b[0;34m=\u001b[0m \u001b[0mmodel\u001b[0m\u001b[0;34m.\u001b[0m\u001b[0mpredict\u001b[0m\u001b[0;34m(\u001b[0m\u001b[0mX_test\u001b[0m\u001b[0;34m)\u001b[0m\u001b[0;34m\u001b[0m\u001b[0;34m\u001b[0m\u001b[0m\n\u001b[0;32m---> 19\u001b[0;31m     \u001b[0mscores\u001b[0m\u001b[0;34m.\u001b[0m\u001b[0mappend\u001b[0m\u001b[0;34m(\u001b[0m\u001b[0mmodel\u001b[0m\u001b[0;34m.\u001b[0m\u001b[0mbest_score\u001b[0m\u001b[0;34m)\u001b[0m\u001b[0;34m\u001b[0m\u001b[0;34m\u001b[0m\u001b[0m\n\u001b[0m\u001b[1;32m     20\u001b[0m \u001b[0;34m\u001b[0m\u001b[0m\n\u001b[1;32m     21\u001b[0m \u001b[0mprint\u001b[0m\u001b[0;34m(\u001b[0m\u001b[0;34m'Score médio:'\u001b[0m\u001b[0;34m,\u001b[0m \u001b[0mnp\u001b[0m\u001b[0;34m.\u001b[0m\u001b[0mmean\u001b[0m\u001b[0;34m(\u001b[0m\u001b[0mscores\u001b[0m\u001b[0;34m)\u001b[0m\u001b[0;34m)\u001b[0m\u001b[0;34m\u001b[0m\u001b[0;34m\u001b[0m\u001b[0m\n",
            "\u001b[0;31mAttributeError\u001b[0m: 'XGBRegressor' object has no attribute 'best_score'"
          ]
        }
      ]
    },
    {
      "cell_type": "code",
      "source": [
        "mae = mean_absolute_error(y_val, y_pred)\n",
        "mape = mean_absolute_percentage_error(y_val, y_pred)\n",
        "r2 = r2_score(y_val, y_pred)\n",
        "\n",
        "print(\"MAE:\", mae)\n",
        "print(\"Mape\", mape)\n",
        "print(\"R2:\", r2)"
      ],
      "metadata": {
        "colab": {
          "base_uri": "https://localhost:8080/"
        },
        "id": "C-vB8A1cFV7y",
        "outputId": "beaf7802-0483-437e-b9e2-b5b6db3ca30c"
      },
      "execution_count": null,
      "outputs": [
        {
          "output_type": "stream",
          "name": "stdout",
          "text": [
            "MAE: 138.5891403191058\n",
            "Mape 1.1639253330302834\n",
            "R2: -1.0142753266835363\n"
          ]
        }
      ]
    },
    {
      "cell_type": "code",
      "source": [
        "fig =  plt.figure(figsize = (15,15))\n",
        "axes = fig.add_subplot(111)\n",
        "xgb.plot_importance(dados2,ax = axes,height =0.5)\n",
        "plt.show();plt.close()"
      ],
      "metadata": {
        "colab": {
          "base_uri": "https://localhost:8080/",
          "height": 1000
        },
        "id": "n70_Xnqo4AWZ",
        "outputId": "f44d6dad-5980-4150-ab0b-e51d5f0c9b79"
      },
      "execution_count": null,
      "outputs": [
        {
          "output_type": "error",
          "ename": "ValueError",
          "evalue": "ignored",
          "traceback": [
            "\u001b[0;31m---------------------------------------------------------------------------\u001b[0m",
            "\u001b[0;31mValueError\u001b[0m                                Traceback (most recent call last)",
            "\u001b[0;32m<ipython-input-122-5ca55c24a4a5>\u001b[0m in \u001b[0;36m<module>\u001b[0;34m\u001b[0m\n\u001b[1;32m      1\u001b[0m \u001b[0mfig\u001b[0m \u001b[0;34m=\u001b[0m  \u001b[0mplt\u001b[0m\u001b[0;34m.\u001b[0m\u001b[0mfigure\u001b[0m\u001b[0;34m(\u001b[0m\u001b[0mfigsize\u001b[0m \u001b[0;34m=\u001b[0m \u001b[0;34m(\u001b[0m\u001b[0;36m15\u001b[0m\u001b[0;34m,\u001b[0m\u001b[0;36m15\u001b[0m\u001b[0;34m)\u001b[0m\u001b[0;34m)\u001b[0m\u001b[0;34m\u001b[0m\u001b[0;34m\u001b[0m\u001b[0m\n\u001b[1;32m      2\u001b[0m \u001b[0maxes\u001b[0m \u001b[0;34m=\u001b[0m \u001b[0mfig\u001b[0m\u001b[0;34m.\u001b[0m\u001b[0madd_subplot\u001b[0m\u001b[0;34m(\u001b[0m\u001b[0;36m111\u001b[0m\u001b[0;34m)\u001b[0m\u001b[0;34m\u001b[0m\u001b[0;34m\u001b[0m\u001b[0m\n\u001b[0;32m----> 3\u001b[0;31m \u001b[0mxgb\u001b[0m\u001b[0;34m.\u001b[0m\u001b[0mplot_importance\u001b[0m\u001b[0;34m(\u001b[0m\u001b[0mdados2\u001b[0m\u001b[0;34m,\u001b[0m\u001b[0max\u001b[0m \u001b[0;34m=\u001b[0m \u001b[0maxes\u001b[0m\u001b[0;34m,\u001b[0m\u001b[0mheight\u001b[0m \u001b[0;34m=\u001b[0m\u001b[0;36m0.5\u001b[0m\u001b[0;34m)\u001b[0m\u001b[0;34m\u001b[0m\u001b[0;34m\u001b[0m\u001b[0m\n\u001b[0m\u001b[1;32m      4\u001b[0m \u001b[0mplt\u001b[0m\u001b[0;34m.\u001b[0m\u001b[0mshow\u001b[0m\u001b[0;34m(\u001b[0m\u001b[0;34m)\u001b[0m\u001b[0;34m;\u001b[0m\u001b[0mplt\u001b[0m\u001b[0;34m.\u001b[0m\u001b[0mclose\u001b[0m\u001b[0;34m(\u001b[0m\u001b[0;34m)\u001b[0m\u001b[0;34m\u001b[0m\u001b[0;34m\u001b[0m\u001b[0m\n",
            "\u001b[0;32m/usr/local/lib/python3.8/dist-packages/xgboost/plotting.py\u001b[0m in \u001b[0;36mplot_importance\u001b[0;34m(booster, ax, height, xlim, ylim, title, xlabel, ylabel, importance_type, max_num_features, grid, show_values, **kwargs)\u001b[0m\n\u001b[1;32m     68\u001b[0m         \u001b[0mimportance\u001b[0m \u001b[0;34m=\u001b[0m \u001b[0mbooster\u001b[0m\u001b[0;34m\u001b[0m\u001b[0;34m\u001b[0m\u001b[0m\n\u001b[1;32m     69\u001b[0m     \u001b[0;32melse\u001b[0m\u001b[0;34m:\u001b[0m\u001b[0;34m\u001b[0m\u001b[0;34m\u001b[0m\u001b[0m\n\u001b[0;32m---> 70\u001b[0;31m         \u001b[0;32mraise\u001b[0m \u001b[0mValueError\u001b[0m\u001b[0;34m(\u001b[0m\u001b[0;34m'tree must be Booster, XGBModel or dict instance'\u001b[0m\u001b[0;34m)\u001b[0m\u001b[0;34m\u001b[0m\u001b[0;34m\u001b[0m\u001b[0m\n\u001b[0m\u001b[1;32m     71\u001b[0m \u001b[0;34m\u001b[0m\u001b[0m\n\u001b[1;32m     72\u001b[0m     \u001b[0;32mif\u001b[0m \u001b[0;32mnot\u001b[0m \u001b[0mimportance\u001b[0m\u001b[0;34m:\u001b[0m\u001b[0;34m\u001b[0m\u001b[0;34m\u001b[0m\u001b[0m\n",
            "\u001b[0;31mValueError\u001b[0m: tree must be Booster, XGBModel or dict instance"
          ]
        },
        {
          "output_type": "display_data",
          "data": {
            "text/plain": [
              "<Figure size 1080x1080 with 1 Axes>"
            ],
            "image/png": "[encoded data removed]"
          },
          "metadata": {
            "needs_background": "light"
          }
        }
      ]
    },
    {
      "cell_type": "markdown",
      "source": [
        "#3.3 Predição 3"
      ],
      "metadata": {
        "id": "diztwIsWYsPm"
      }
    },
    {
      "cell_type": "code",
      "source": [
        "from sklearn.tree import DecisionTreeClassifier\n"
      ],
      "metadata": {
        "id": "t63-F8VrCI5C"
      },
      "execution_count": null,
      "outputs": []
    },
    {
      "cell_type": "code",
      "source": [
        "# medir a qualidade de uma divisão\n",
        "# Gini nos diz qual é a probabilidade de classificar erroneamente uma observação.\n",
        "# Quanto menor o Gini, melhor a divisão. \n",
        "\n",
        "clf_gini = DecisionTreeClassifier(criterion='gini', max_depth=3, random_state=0)\n",
        "\n",
        "clf_gini.fit(X_train, y_train)"
      ],
      "metadata": {
        "colab": {
          "base_uri": "https://localhost:8080/"
        },
        "id": "68mDDXZLEi-L",
        "outputId": "843c5ddf-b3a7-4741-cf8b-c442196a839e"
      },
      "execution_count": null,
      "outputs": [
        {
          "output_type": "execute_result",
          "data": {
            "text/plain": [
              "DecisionTreeClassifier(max_depth=3, random_state=0)"
            ]
          },
          "metadata": {},
          "execution_count": 109
        }
      ]
    },
    {
      "cell_type": "code",
      "source": [
        "y_pred_gini = clf_gini.predict(X_test)\n",
        "y_pred_gini"
      ],
      "metadata": {
        "colab": {
          "base_uri": "https://localhost:8080/"
        },
        "id": "Je3CnmWfFOJU",
        "outputId": "868c5b2a-643b-473d-8add-d85f39e02bb3"
      },
      "execution_count": null,
      "outputs": [
        {
          "output_type": "execute_result",
          "data": {
            "text/plain": [
              "array([160.,  56.,  56., 160., 160., 114., 114., 160., 160., 160., 160.,\n",
              "       160., 160.,  80., 114., 114., 160., 114., 160., 160., 160.,  80.,\n",
              "       114., 114.,  80., 160., 160., 114., 114., 160., 114., 160., 160.,\n",
              "       160., 114., 114., 160., 160., 160., 160., 114., 160., 160., 160.,\n",
              "        80., 114., 114., 160., 114., 114., 114., 160., 160., 160., 160.,\n",
              "       160., 160., 160., 160., 160.,  80., 114., 160., 160.,  80.,  80.,\n",
              "        80.,  80.,  80.,  80., 114., 160.,  80.,  80.,  56., 160., 160.,\n",
              "       114., 114., 160.,  80., 160., 160., 160., 160., 160., 160., 160.,\n",
              "       160., 114., 160., 160., 160., 114., 114., 160., 160., 160., 160.,\n",
              "       114., 114., 160., 160., 160.,  80., 114., 160., 114., 160., 160.,\n",
              "       160., 160.,  56., 160., 160., 160., 160., 160., 160., 114., 160.,\n",
              "       160., 160., 160., 160., 160., 114., 114., 160., 160.,  56., 160.,\n",
              "       160., 114.,  56., 160., 114., 160., 160., 160., 160., 160.,  80.,\n",
              "        56.,  56.,  80.,  80., 160., 114., 160., 114.,  80., 114.,  80.,\n",
              "       160., 114., 160., 160., 114., 114., 114.,  80.,  80.,  80.,  80.,\n",
              "        80.,  80.,  80., 114., 114., 160.,  56., 160., 114., 160., 160.,\n",
              "       160., 114., 114., 114.,  80., 114.,  80., 160., 114., 114., 160.,\n",
              "       160.,  56.,  56., 160., 160., 160., 114.,  80., 114., 160., 114.,\n",
              "       114., 160., 160., 160., 160., 114., 114.,  80.,  56.,  56.,  56.,\n",
              "        56.,  80.,  80., 160., 160., 160.,  80., 160., 114., 114., 114.,\n",
              "        80.,  56., 160.,  56.,  56.,  56.,  56.,  56., 160., 160., 114.,\n",
              "       160., 160., 160., 114., 114., 160., 160., 160., 160., 160.,  56.,\n",
              "       160., 160., 160., 160., 160.,  56.,  56.,  43., 160., 160., 160.,\n",
              "       160., 160.,  80., 160., 160., 160., 160., 160., 160., 160.,  80.,\n",
              "        80., 114.,  80., 114., 114.,  80.,  80.,  80.,  80.,  56., 114.,\n",
              "       160., 160.,  80.,  80., 114., 160., 114., 114., 114., 114., 114.,\n",
              "        43.,  43.,  43.,  80., 114.,  80.,  80.,  80.,  80.,  80.,  56.,\n",
              "        56.,  56.,  56.,  56.,  56., 160., 160., 160., 160., 160., 160.,\n",
              "       160., 114., 114., 114., 114.,  80.,  56., 114.,  80., 160., 160.,\n",
              "       160., 160., 160., 160., 160., 160., 160., 160., 160., 160., 160.,\n",
              "       160., 160.,  80.,  56., 160., 160., 160., 160., 160., 114., 114.,\n",
              "        80.,  80.,  80.,  56., 160., 160., 160., 160.,  56.,  56.,  56.,\n",
              "       160., 160., 160., 160., 160., 160., 160., 160., 160.,  43., 160.,\n",
              "       160.,  56.,  56.,  56.,  46.,  46.,  46., 160., 160., 160., 160.,\n",
              "       114., 114., 160., 160., 160.,  56., 114., 114., 160., 160.,  80.,\n",
              "       160., 160., 160.,  80., 160., 160., 114.,  80., 114., 160., 114.,\n",
              "       114., 114., 114., 160., 160., 160., 160., 160., 114., 114.,  56.,\n",
              "       160., 160., 160., 160., 160., 160., 160., 160., 114., 114., 160.,\n",
              "       160., 160., 160., 114., 114.,  80.,  80.,  56.,  56., 160.,  56.,\n",
              "        56., 160., 160., 160., 160.,  43.,  43.,  56., 160., 114., 114.,\n",
              "        80., 114., 160., 160., 160., 160., 160., 160., 160., 160., 160.,\n",
              "       160., 114., 160., 160., 160., 160., 160., 160., 160., 160., 160.,\n",
              "       160., 114., 114.,  80., 160., 160., 160., 160., 114., 160., 160.,\n",
              "       160., 160., 160., 160.,  80.,  56., 160., 160., 160., 160., 160.,\n",
              "       160., 160., 160., 114.,  56.,  56.,  56., 114., 160., 114., 160.,\n",
              "        56., 160., 160., 160.,  80., 160., 160., 160., 160., 160., 114.,\n",
              "       160., 114., 160., 160., 160., 114., 160., 114., 160., 114., 160.,\n",
              "       114., 160., 160.,  80., 114., 160.,  56., 160., 114., 160., 114.,\n",
              "       114., 160., 160.])"
            ]
          },
          "metadata": {},
          "execution_count": 110
        }
      ]
    },
    {
      "cell_type": "code",
      "source": [
        "from sklearn.metrics import accuracy_score\n",
        "\n",
        "print('Pontuação de precisão do modelo com índice gini de critério: {0:0.4f}'. format(accuracy_score(y_test, y_pred_gini)))"
      ],
      "metadata": {
        "colab": {
          "base_uri": "https://localhost:8080/"
        },
        "id": "Yy7irWW5FSm4",
        "outputId": "9085300d-26fc-46c7-c82a-51eba945824a"
      },
      "execution_count": null,
      "outputs": [
        {
          "output_type": "stream",
          "name": "stdout",
          "text": [
            "Pontuação de precisão do modelo com índice gini de critério: 0.0508\n"
          ]
        }
      ]
    },
    {
      "cell_type": "code",
      "source": [
        "y_train.describe()"
      ],
      "metadata": {
        "colab": {
          "base_uri": "https://localhost:8080/"
        },
        "id": "I-RprgqoFnwI",
        "outputId": "541caed5-bd40-428e-d0f6-c5a88fef8bb7"
      },
      "execution_count": null,
      "outputs": [
        {
          "output_type": "execute_result",
          "data": {
            "text/plain": [
              "count    3717.000000\n",
              "mean      192.679849\n",
              "std       150.415421\n",
              "min        17.000000\n",
              "25%       100.000000\n",
              "50%       137.000000\n",
              "75%       230.000000\n",
              "max       912.000000\n",
              "Name: Sales, dtype: float64"
            ]
          },
          "metadata": {},
          "execution_count": 112
        }
      ]
    },
    {
      "cell_type": "code",
      "source": [
        "y_train.value_counts()"
      ],
      "metadata": {
        "colab": {
          "base_uri": "https://localhost:8080/"
        },
        "id": "gigm7oHxFv5i",
        "outputId": "f228c2f8-19a3-4fee-e9f3-ec10d717e311"
      },
      "execution_count": null,
      "outputs": [
        {
          "output_type": "execute_result",
          "data": {
            "text/plain": [
              "114.0    48\n",
              "43.0     45\n",
              "129.0    41\n",
              "109.0    40\n",
              "110.0    38\n",
              "         ..\n",
              "650.0     1\n",
              "658.0     1\n",
              "747.0     1\n",
              "483.0     1\n",
              "454.0     1\n",
              "Name: Sales, Length: 421, dtype: int64"
            ]
          },
          "metadata": {},
          "execution_count": 113
        }
      ]
    },
    {
      "cell_type": "code",
      "source": [
        "y_pred_train_gini = clf_gini.predict(X_train)\n",
        "\n",
        "y_pred_train_gini"
      ],
      "metadata": {
        "colab": {
          "base_uri": "https://localhost:8080/"
        },
        "id": "V_0tjzW1Fyg7",
        "outputId": "6aaac04a-242e-4108-f2a5-69a567e3d989"
      },
      "execution_count": null,
      "outputs": [
        {
          "output_type": "execute_result",
          "data": {
            "text/plain": [
              "array([160., 160., 160., ..., 114., 160., 160.])"
            ]
          },
          "metadata": {},
          "execution_count": 114
        }
      ]
    },
    {
      "cell_type": "code",
      "source": [
        "print('Pontuação de precisão do conjunto de treinamento: {0:0.4f}'. format(accuracy_score(y_train, y_pred_train_gini)))"
      ],
      "metadata": {
        "colab": {
          "base_uri": "https://localhost:8080/"
        },
        "id": "YwF09SGVF5Vh",
        "outputId": "4f61f47d-2d63-4bce-87aa-ed83da7e4434"
      },
      "execution_count": null,
      "outputs": [
        {
          "output_type": "stream",
          "name": "stdout",
          "text": [
            "Pontuação de precisão do conjunto de treinamento: 0.0506\n"
          ]
        }
      ]
    },
    {
      "cell_type": "code",
      "source": [
        "# imprime as pontuações no conjunto de treinamento e teste\n",
        "\n",
        "print('Training set score: {:.4f}'.format(clf_gini.score(X_train, y_train)))\n",
        "\n",
        "print('Test set score: {:.4f}'.format(clf_gini.score(X_test, y_test)))"
      ],
      "metadata": {
        "colab": {
          "base_uri": "https://localhost:8080/"
        },
        "id": "BTHesP6yGG4x",
        "outputId": "d7649831-1b4d-43f0-f3ef-069ba043d9d6"
      },
      "execution_count": null,
      "outputs": [
        {
          "output_type": "stream",
          "name": "stdout",
          "text": [
            "Training set score: 0.0506\n",
            "Test set score: 0.0508\n"
          ]
        }
      ]
    },
    {
      "cell_type": "code",
      "source": [
        "from sklearn import tree\n",
        "import graphviz "
      ],
      "metadata": {
        "id": "xISPbmWyGUYR"
      },
      "execution_count": null,
      "outputs": []
    },
    {
      "cell_type": "code",
      "source": [
        "tree.plot_tree(clf_gini.fit(X_train, y_train)) "
      ],
      "metadata": {
        "colab": {
          "base_uri": "https://localhost:8080/",
          "height": 1000
        },
        "id": "9S7JhY6J52Ee",
        "outputId": "920f96fd-f384-42c2-922e-47f3b791a94d"
      },
      "execution_count": null,
      "outputs": [
        {
          "output_type": "execute_result",
          "data": {
            "text/plain": [
              "[Text(0.4090909090909091, 0.875, 'X[6] <= 5.0\\ngini = 0.995\\nsamples = 3717\\nvalue = [1, 2, 3, 1, 2, 1, 3, 1, 2, 1, 1, 4, 1, 2\\n1, 3, 3, 14, 4, 45, 18, 14, 20, 7, 18, 24, 10\\n9, 9, 18, 10, 10, 25, 8, 17, 1, 20, 12, 15, 10\\n8, 18, 7, 9, 18, 17, 13, 3, 14, 8, 12, 20, 12\\n16, 10, 14, 29, 20, 23, 3, 14, 27, 13, 18, 16\\n21, 26, 20, 18, 9, 18, 12, 11, 8, 26, 22, 10\\n8, 14, 19, 23, 12, 28, 35, 21, 40, 38, 15, 23\\n32, 48, 23, 14, 15, 25, 20, 35, 33, 14, 31, 15\\n30, 23, 27, 28, 41, 34, 28, 31, 34, 30, 16, 10\\n17, 12, 16, 27, 20, 16, 9, 7, 13, 4, 12, 9, 14\\n38, 16, 15, 11, 14, 4, 11, 1, 24, 33, 6, 2, 8\\n7, 10, 2, 18, 16, 17, 7, 6, 4, 7, 7, 9, 6\\n15, 4, 22, 4, 8, 4, 7, 8, 10, 25, 29, 1, 9\\n7, 8, 3, 5, 11, 14, 12, 13, 27, 9, 2, 4, 10\\n8, 2, 22, 14, 9, 21, 5, 2, 10, 8, 4, 5, 4\\n11, 16, 6, 3, 15, 13, 2, 19, 2, 8, 3, 13, 7\\n6, 4, 7, 4, 7, 9, 26, 2, 3, 7, 4, 2, 17, 13\\n1, 5, 11, 11, 4, 7, 4, 6, 5, 5, 4, 7, 9, 4\\n5, 2, 2, 8, 8, 4, 10, 7, 6, 9, 7, 2, 2, 7\\n3, 3, 27, 9, 15, 4, 4, 15, 6, 2, 9, 2, 3, 3\\n11, 8, 3, 18, 4, 11, 1, 2, 4, 2, 3, 2, 3, 3\\n8, 4, 4, 6, 9, 2, 2, 4, 2, 3, 4, 5, 2, 4\\n2, 2, 8, 4, 2, 5, 4, 2, 3, 2, 1, 7, 3, 2\\n1, 3, 4, 1, 3, 11, 1, 1, 2, 4, 3, 1, 1, 1\\n2, 6, 5, 1, 2, 2, 12, 5, 2, 2, 8, 1, 2, 8\\n1, 1, 1, 2, 8, 1, 4, 12, 5, 2, 1, 1, 3, 5\\n10, 2, 1, 1, 1, 2, 1, 2, 3, 1, 12, 3, 6, 1\\n1, 1, 4, 3, 1, 4, 2, 1, 5, 1, 1, 1, 5, 3\\n4, 4, 4, 1, 2, 4, 5, 1, 4, 4, 1, 3, 1, 1\\n1, 1, 1, 1, 3, 1, 5, 4, 7, 1, 4, 5, 2, 1\\n2, 1, 2, 1, 3, 2, 1, 2, 2, 4, 1, 2, 1, 1\\n2, 1, 1, 2, 2, 2, 2]'),\n",
              " Text(0.18181818181818182, 0.625, 'X[4] <= 45.0\\ngini = 0.436\\nsamples = 56\\nvalue = [0, 0, 0, 0, 0, 0, 0, 0, 0, 0, 0, 0, 0, 0\\n0, 0, 0, 0, 0, 38, 0, 0, 18, 0, 0, 0, 0, 0\\n0, 0, 0, 0, 0, 0, 0, 0, 0, 0, 0, 0, 0, 0\\n0, 0, 0, 0, 0, 0, 0, 0, 0, 0, 0, 0, 0, 0\\n0, 0, 0, 0, 0, 0, 0, 0, 0, 0, 0, 0, 0, 0\\n0, 0, 0, 0, 0, 0, 0, 0, 0, 0, 0, 0, 0, 0\\n0, 0, 0, 0, 0, 0, 0, 0, 0, 0, 0, 0, 0, 0\\n0, 0, 0, 0, 0, 0, 0, 0, 0, 0, 0, 0, 0, 0\\n0, 0, 0, 0, 0, 0, 0, 0, 0, 0, 0, 0, 0, 0\\n0, 0, 0, 0, 0, 0, 0, 0, 0, 0, 0, 0, 0, 0\\n0, 0, 0, 0, 0, 0, 0, 0, 0, 0, 0, 0, 0, 0\\n0, 0, 0, 0, 0, 0, 0, 0, 0, 0, 0, 0, 0, 0\\n0, 0, 0, 0, 0, 0, 0, 0, 0, 0, 0, 0, 0, 0\\n0, 0, 0, 0, 0, 0, 0, 0, 0, 0, 0, 0, 0, 0\\n0, 0, 0, 0, 0, 0, 0, 0, 0, 0, 0, 0, 0, 0\\n0, 0, 0, 0, 0, 0, 0, 0, 0, 0, 0, 0, 0, 0\\n0, 0, 0, 0, 0, 0, 0, 0, 0, 0, 0, 0, 0, 0\\n0, 0, 0, 0, 0, 0, 0, 0, 0, 0, 0, 0, 0, 0\\n0, 0, 0, 0, 0, 0, 0, 0, 0, 0, 0, 0, 0, 0\\n0, 0, 0, 0, 0, 0, 0, 0, 0, 0, 0, 0, 0, 0\\n0, 0, 0, 0, 0, 0, 0, 0, 0, 0, 0, 0, 0, 0\\n0, 0, 0, 0, 0, 0, 0, 0, 0, 0, 0, 0, 0, 0\\n0, 0, 0, 0, 0, 0, 0, 0, 0, 0, 0, 0, 0, 0\\n0, 0, 0, 0, 0, 0, 0, 0, 0, 0, 0, 0, 0, 0\\n0, 0, 0, 0, 0, 0, 0, 0, 0, 0, 0, 0, 0, 0\\n0, 0, 0, 0, 0, 0, 0, 0, 0, 0, 0, 0, 0, 0\\n0, 0, 0, 0, 0, 0, 0, 0, 0, 0, 0, 0, 0, 0\\n0, 0, 0, 0, 0, 0, 0, 0, 0, 0, 0, 0, 0, 0\\n0, 0, 0, 0, 0, 0, 0, 0, 0, 0, 0, 0, 0, 0\\n0, 0, 0, 0, 0, 0, 0, 0, 0, 0, 0, 0, 0, 0\\n0]'),\n",
              " Text(0.09090909090909091, 0.375, 'gini = 0.0\\nsamples = 38\\nvalue = [0, 0, 0, 0, 0, 0, 0, 0, 0, 0, 0, 0, 0, 0\\n0, 0, 0, 0, 0, 38, 0, 0, 0, 0, 0, 0, 0, 0\\n0, 0, 0, 0, 0, 0, 0, 0, 0, 0, 0, 0, 0, 0\\n0, 0, 0, 0, 0, 0, 0, 0, 0, 0, 0, 0, 0, 0\\n0, 0, 0, 0, 0, 0, 0, 0, 0, 0, 0, 0, 0, 0\\n0, 0, 0, 0, 0, 0, 0, 0, 0, 0, 0, 0, 0, 0\\n0, 0, 0, 0, 0, 0, 0, 0, 0, 0, 0, 0, 0, 0\\n0, 0, 0, 0, 0, 0, 0, 0, 0, 0, 0, 0, 0, 0\\n0, 0, 0, 0, 0, 0, 0, 0, 0, 0, 0, 0, 0, 0\\n0, 0, 0, 0, 0, 0, 0, 0, 0, 0, 0, 0, 0, 0\\n0, 0, 0, 0, 0, 0, 0, 0, 0, 0, 0, 0, 0, 0\\n0, 0, 0, 0, 0, 0, 0, 0, 0, 0, 0, 0, 0, 0\\n0, 0, 0, 0, 0, 0, 0, 0, 0, 0, 0, 0, 0, 0\\n0, 0, 0, 0, 0, 0, 0, 0, 0, 0, 0, 0, 0, 0\\n0, 0, 0, 0, 0, 0, 0, 0, 0, 0, 0, 0, 0, 0\\n0, 0, 0, 0, 0, 0, 0, 0, 0, 0, 0, 0, 0, 0\\n0, 0, 0, 0, 0, 0, 0, 0, 0, 0, 0, 0, 0, 0\\n0, 0, 0, 0, 0, 0, 0, 0, 0, 0, 0, 0, 0, 0\\n0, 0, 0, 0, 0, 0, 0, 0, 0, 0, 0, 0, 0, 0\\n0, 0, 0, 0, 0, 0, 0, 0, 0, 0, 0, 0, 0, 0\\n0, 0, 0, 0, 0, 0, 0, 0, 0, 0, 0, 0, 0, 0\\n0, 0, 0, 0, 0, 0, 0, 0, 0, 0, 0, 0, 0, 0\\n0, 0, 0, 0, 0, 0, 0, 0, 0, 0, 0, 0, 0, 0\\n0, 0, 0, 0, 0, 0, 0, 0, 0, 0, 0, 0, 0, 0\\n0, 0, 0, 0, 0, 0, 0, 0, 0, 0, 0, 0, 0, 0\\n0, 0, 0, 0, 0, 0, 0, 0, 0, 0, 0, 0, 0, 0\\n0, 0, 0, 0, 0, 0, 0, 0, 0, 0, 0, 0, 0, 0\\n0, 0, 0, 0, 0, 0, 0, 0, 0, 0, 0, 0, 0, 0\\n0, 0, 0, 0, 0, 0, 0, 0, 0, 0, 0, 0, 0, 0\\n0, 0, 0, 0, 0, 0, 0, 0, 0, 0, 0, 0, 0, 0\\n0]'),\n",
              " Text(0.2727272727272727, 0.375, 'gini = 0.0\\nsamples = 18\\nvalue = [0, 0, 0, 0, 0, 0, 0, 0, 0, 0, 0, 0, 0, 0\\n0, 0, 0, 0, 0, 0, 0, 0, 18, 0, 0, 0, 0, 0\\n0, 0, 0, 0, 0, 0, 0, 0, 0, 0, 0, 0, 0, 0\\n0, 0, 0, 0, 0, 0, 0, 0, 0, 0, 0, 0, 0, 0\\n0, 0, 0, 0, 0, 0, 0, 0, 0, 0, 0, 0, 0, 0\\n0, 0, 0, 0, 0, 0, 0, 0, 0, 0, 0, 0, 0, 0\\n0, 0, 0, 0, 0, 0, 0, 0, 0, 0, 0, 0, 0, 0\\n0, 0, 0, 0, 0, 0, 0, 0, 0, 0, 0, 0, 0, 0\\n0, 0, 0, 0, 0, 0, 0, 0, 0, 0, 0, 0, 0, 0\\n0, 0, 0, 0, 0, 0, 0, 0, 0, 0, 0, 0, 0, 0\\n0, 0, 0, 0, 0, 0, 0, 0, 0, 0, 0, 0, 0, 0\\n0, 0, 0, 0, 0, 0, 0, 0, 0, 0, 0, 0, 0, 0\\n0, 0, 0, 0, 0, 0, 0, 0, 0, 0, 0, 0, 0, 0\\n0, 0, 0, 0, 0, 0, 0, 0, 0, 0, 0, 0, 0, 0\\n0, 0, 0, 0, 0, 0, 0, 0, 0, 0, 0, 0, 0, 0\\n0, 0, 0, 0, 0, 0, 0, 0, 0, 0, 0, 0, 0, 0\\n0, 0, 0, 0, 0, 0, 0, 0, 0, 0, 0, 0, 0, 0\\n0, 0, 0, 0, 0, 0, 0, 0, 0, 0, 0, 0, 0, 0\\n0, 0, 0, 0, 0, 0, 0, 0, 0, 0, 0, 0, 0, 0\\n0, 0, 0, 0, 0, 0, 0, 0, 0, 0, 0, 0, 0, 0\\n0, 0, 0, 0, 0, 0, 0, 0, 0, 0, 0, 0, 0, 0\\n0, 0, 0, 0, 0, 0, 0, 0, 0, 0, 0, 0, 0, 0\\n0, 0, 0, 0, 0, 0, 0, 0, 0, 0, 0, 0, 0, 0\\n0, 0, 0, 0, 0, 0, 0, 0, 0, 0, 0, 0, 0, 0\\n0, 0, 0, 0, 0, 0, 0, 0, 0, 0, 0, 0, 0, 0\\n0, 0, 0, 0, 0, 0, 0, 0, 0, 0, 0, 0, 0, 0\\n0, 0, 0, 0, 0, 0, 0, 0, 0, 0, 0, 0, 0, 0\\n0, 0, 0, 0, 0, 0, 0, 0, 0, 0, 0, 0, 0, 0\\n0, 0, 0, 0, 0, 0, 0, 0, 0, 0, 0, 0, 0, 0\\n0, 0, 0, 0, 0, 0, 0, 0, 0, 0, 0, 0, 0, 0\\n0]'),\n",
              " Text(0.6363636363636364, 0.625, 'X[6] <= 41.5\\ngini = 0.995\\nsamples = 3661\\nvalue = [1, 2, 3, 1, 2, 1, 3, 1, 2, 1, 1, 4, 1, 2\\n1, 3, 3, 14, 4, 7, 18, 14, 2, 7, 18, 24, 10\\n9, 9, 18, 10, 10, 25, 8, 17, 1, 20, 12, 15, 10\\n8, 18, 7, 9, 18, 17, 13, 3, 14, 8, 12, 20, 12\\n16, 10, 14, 29, 20, 23, 3, 14, 27, 13, 18, 16\\n21, 26, 20, 18, 9, 18, 12, 11, 8, 26, 22, 10\\n8, 14, 19, 23, 12, 28, 35, 21, 40, 38, 15, 23\\n32, 48, 23, 14, 15, 25, 20, 35, 33, 14, 31, 15\\n30, 23, 27, 28, 41, 34, 28, 31, 34, 30, 16, 10\\n17, 12, 16, 27, 20, 16, 9, 7, 13, 4, 12, 9, 14\\n38, 16, 15, 11, 14, 4, 11, 1, 24, 33, 6, 2, 8\\n7, 10, 2, 18, 16, 17, 7, 6, 4, 7, 7, 9, 6\\n15, 4, 22, 4, 8, 4, 7, 8, 10, 25, 29, 1, 9\\n7, 8, 3, 5, 11, 14, 12, 13, 27, 9, 2, 4, 10\\n8, 2, 22, 14, 9, 21, 5, 2, 10, 8, 4, 5, 4\\n11, 16, 6, 3, 15, 13, 2, 19, 2, 8, 3, 13, 7\\n6, 4, 7, 4, 7, 9, 26, 2, 3, 7, 4, 2, 17, 13\\n1, 5, 11, 11, 4, 7, 4, 6, 5, 5, 4, 7, 9, 4\\n5, 2, 2, 8, 8, 4, 10, 7, 6, 9, 7, 2, 2, 7\\n3, 3, 27, 9, 15, 4, 4, 15, 6, 2, 9, 2, 3, 3\\n11, 8, 3, 18, 4, 11, 1, 2, 4, 2, 3, 2, 3, 3\\n8, 4, 4, 6, 9, 2, 2, 4, 2, 3, 4, 5, 2, 4\\n2, 2, 8, 4, 2, 5, 4, 2, 3, 2, 1, 7, 3, 2\\n1, 3, 4, 1, 3, 11, 1, 1, 2, 4, 3, 1, 1, 1\\n2, 6, 5, 1, 2, 2, 12, 5, 2, 2, 8, 1, 2, 8\\n1, 1, 1, 2, 8, 1, 4, 12, 5, 2, 1, 1, 3, 5\\n10, 2, 1, 1, 1, 2, 1, 2, 3, 1, 12, 3, 6, 1\\n1, 1, 4, 3, 1, 4, 2, 1, 5, 1, 1, 1, 5, 3\\n4, 4, 4, 1, 2, 4, 5, 1, 4, 4, 1, 3, 1, 1\\n1, 1, 1, 1, 3, 1, 5, 4, 7, 1, 4, 5, 2, 1\\n2, 1, 2, 1, 3, 2, 1, 2, 2, 4, 1, 2, 1, 1\\n2, 1, 1, 2, 2, 2, 2]'),\n",
              " Text(0.45454545454545453, 0.375, 'X[5] <= 40.0\\ngini = 0.981\\nsamples = 830\\nvalue = [0, 0, 0, 0, 2, 1, 2, 1, 0, 0, 0, 2, 0, 0\\n1, 1, 3, 14, 4, 7, 18, 14, 2, 7, 18, 24, 10\\n9, 9, 18, 10, 10, 25, 8, 17, 1, 20, 10, 15, 9\\n8, 17, 5, 8, 15, 16, 11, 2, 12, 8, 11, 20, 11\\n14, 9, 14, 29, 20, 23, 3, 14, 27, 11, 16, 16\\n21, 26, 20, 18, 9, 18, 11, 10, 6, 15, 8, 3, 8\\n0, 2, 7, 2, 2, 2, 5, 0, 1, 1, 0, 0, 3, 0\\n0, 0, 0, 0, 0, 0, 0, 0, 0, 0, 0, 0, 0, 0\\n0, 0, 0, 0, 0, 0, 0, 0, 0, 0, 0, 0, 0, 0\\n0, 0, 0, 0, 0, 0, 0, 0, 0, 0, 0, 0, 0, 0\\n0, 0, 0, 0, 0, 0, 0, 0, 0, 0, 0, 0, 0, 0\\n0, 0, 0, 0, 0, 0, 0, 0, 0, 0, 0, 0, 0, 0\\n0, 0, 0, 0, 0, 0, 0, 0, 0, 0, 0, 0, 0, 0\\n0, 0, 0, 0, 0, 0, 0, 0, 0, 0, 0, 0, 0, 0\\n0, 0, 0, 0, 0, 0, 0, 0, 0, 0, 0, 0, 0, 0\\n0, 0, 0, 0, 0, 0, 0, 0, 0, 0, 0, 0, 0, 0\\n0, 0, 0, 0, 0, 0, 0, 0, 0, 0, 0, 0, 0, 0\\n0, 0, 0, 0, 0, 0, 0, 0, 0, 0, 0, 0, 0, 0\\n0, 0, 0, 0, 0, 0, 0, 0, 0, 0, 0, 0, 0, 0\\n0, 0, 0, 0, 0, 0, 0, 0, 0, 0, 0, 0, 0, 0\\n0, 0, 0, 0, 0, 0, 0, 0, 0, 0, 0, 0, 0, 0\\n0, 0, 0, 0, 0, 0, 0, 0, 0, 0, 0, 0, 0, 0\\n0, 0, 0, 0, 0, 0, 0, 0, 0, 0, 0, 0, 0, 0\\n0, 0, 0, 0, 0, 0, 0, 0, 0, 0, 0, 0, 0, 0\\n0, 0, 0, 0, 0, 0, 0, 0, 0, 0, 0, 0, 0, 0\\n0, 0, 0, 0, 0, 0, 0, 0, 0, 0, 0, 0, 0, 0\\n0, 0, 0, 0, 0, 0, 0, 0, 0, 0, 0, 0, 0, 0\\n0, 0, 0, 0, 0, 0, 0, 0, 0, 0, 0, 0, 0, 0\\n0, 0, 0, 0, 0, 0, 0, 0, 0, 0, 0, 0, 0, 0\\n0, 0, 0, 0, 0, 0, 0, 0, 0, 0, 0, 0, 0, 0\\n0, 0, 0, 0, 0, 0, 0]'),\n",
              " Text(0.36363636363636365, 0.125, 'gini = 0.964\\nsamples = 385\\nvalue = [0, 0, 0, 0, 2, 1, 2, 1, 0, 0, 0, 2, 0, 0\\n1, 1, 3, 14, 4, 7, 18, 14, 2, 7, 18, 24, 10\\n9, 9, 18, 10, 10, 25, 8, 17, 1, 20, 10, 15, 9\\n8, 17, 5, 8, 14, 15, 7, 0, 10, 4, 2, 0, 0, 3\\n0, 0, 0, 0, 0, 0, 0, 0, 0, 0, 0, 0, 0, 0\\n0, 0, 0, 0, 0, 0, 0, 0, 0, 0, 0, 0, 0, 0\\n0, 0, 0, 0, 0, 0, 0, 0, 0, 0, 0, 0, 0, 0\\n0, 0, 0, 0, 0, 0, 0, 0, 0, 0, 0, 0, 0, 0\\n0, 0, 0, 0, 0, 0, 0, 0, 0, 0, 0, 0, 0, 0\\n0, 0, 0, 0, 0, 0, 0, 0, 0, 0, 0, 0, 0, 0\\n0, 0, 0, 0, 0, 0, 0, 0, 0, 0, 0, 0, 0, 0\\n0, 0, 0, 0, 0, 0, 0, 0, 0, 0, 0, 0, 0, 0\\n0, 0, 0, 0, 0, 0, 0, 0, 0, 0, 0, 0, 0, 0\\n0, 0, 0, 0, 0, 0, 0, 0, 0, 0, 0, 0, 0, 0\\n0, 0, 0, 0, 0, 0, 0, 0, 0, 0, 0, 0, 0, 0\\n0, 0, 0, 0, 0, 0, 0, 0, 0, 0, 0, 0, 0, 0\\n0, 0, 0, 0, 0, 0, 0, 0, 0, 0, 0, 0, 0, 0\\n0, 0, 0, 0, 0, 0, 0, 0, 0, 0, 0, 0, 0, 0\\n0, 0, 0, 0, 0, 0, 0, 0, 0, 0, 0, 0, 0, 0\\n0, 0, 0, 0, 0, 0, 0, 0, 0, 0, 0, 0, 0, 0\\n0, 0, 0, 0, 0, 0, 0, 0, 0, 0, 0, 0, 0, 0\\n0, 0, 0, 0, 0, 0, 0, 0, 0, 0, 0, 0, 0, 0\\n0, 0, 0, 0, 0, 0, 0, 0, 0, 0, 0, 0, 0, 0\\n0, 0, 0, 0, 0, 0, 0, 0, 0, 0, 0, 0, 0, 0\\n0, 0, 0, 0, 0, 0, 0, 0, 0, 0, 0, 0, 0, 0\\n0, 0, 0, 0, 0, 0, 0, 0, 0, 0, 0, 0, 0, 0\\n0, 0, 0, 0, 0, 0, 0, 0, 0, 0, 0, 0, 0, 0\\n0, 0, 0, 0, 0, 0, 0, 0, 0, 0, 0, 0, 0, 0\\n0, 0, 0, 0, 0, 0, 0, 0, 0, 0, 0, 0, 0, 0\\n0, 0, 0, 0, 0, 0, 0, 0, 0, 0, 0, 0, 0, 0\\n0, 0, 0]'),\n",
              " Text(0.5454545454545454, 0.125, 'gini = 0.963\\nsamples = 445\\nvalue = [0, 0, 0, 0, 0, 0, 0, 0, 0, 0, 0, 0, 0, 0\\n0, 0, 0, 0, 0, 0, 0, 0, 0, 0, 0, 0, 0, 0\\n0, 0, 0, 0, 0, 0, 0, 0, 0, 0, 0, 0, 0, 0\\n0, 0, 1, 1, 4, 2, 2, 4, 9, 20, 11, 11, 9, 14\\n29, 20, 23, 3, 14, 27, 11, 16, 16, 21, 26, 20\\n18, 9, 18, 11, 10, 6, 15, 8, 3, 8, 0, 2, 7\\n2, 2, 2, 5, 0, 1, 1, 0, 0, 3, 0, 0, 0, 0\\n0, 0, 0, 0, 0, 0, 0, 0, 0, 0, 0, 0, 0, 0\\n0, 0, 0, 0, 0, 0, 0, 0, 0, 0, 0, 0, 0, 0\\n0, 0, 0, 0, 0, 0, 0, 0, 0, 0, 0, 0, 0, 0\\n0, 0, 0, 0, 0, 0, 0, 0, 0, 0, 0, 0, 0, 0\\n0, 0, 0, 0, 0, 0, 0, 0, 0, 0, 0, 0, 0, 0\\n0, 0, 0, 0, 0, 0, 0, 0, 0, 0, 0, 0, 0, 0\\n0, 0, 0, 0, 0, 0, 0, 0, 0, 0, 0, 0, 0, 0\\n0, 0, 0, 0, 0, 0, 0, 0, 0, 0, 0, 0, 0, 0\\n0, 0, 0, 0, 0, 0, 0, 0, 0, 0, 0, 0, 0, 0\\n0, 0, 0, 0, 0, 0, 0, 0, 0, 0, 0, 0, 0, 0\\n0, 0, 0, 0, 0, 0, 0, 0, 0, 0, 0, 0, 0, 0\\n0, 0, 0, 0, 0, 0, 0, 0, 0, 0, 0, 0, 0, 0\\n0, 0, 0, 0, 0, 0, 0, 0, 0, 0, 0, 0, 0, 0\\n0, 0, 0, 0, 0, 0, 0, 0, 0, 0, 0, 0, 0, 0\\n0, 0, 0, 0, 0, 0, 0, 0, 0, 0, 0, 0, 0, 0\\n0, 0, 0, 0, 0, 0, 0, 0, 0, 0, 0, 0, 0, 0\\n0, 0, 0, 0, 0, 0, 0, 0, 0, 0, 0, 0, 0, 0\\n0, 0, 0, 0, 0, 0, 0, 0, 0, 0, 0, 0, 0, 0\\n0, 0, 0, 0, 0, 0, 0, 0, 0, 0, 0, 0, 0, 0\\n0, 0, 0, 0, 0, 0, 0, 0, 0, 0, 0, 0, 0, 0\\n0, 0, 0, 0, 0, 0, 0, 0, 0, 0, 0, 0, 0, 0\\n0, 0, 0, 0, 0, 0, 0, 0, 0, 0, 0, 0, 0, 0\\n0, 0, 0, 0, 0, 0, 0, 0, 0, 0, 0, 0, 0, 0\\n0, 0, 0, 0]'),\n",
              " Text(0.8181818181818182, 0.375, 'X[6] <= 58.5\\ngini = 0.994\\nsamples = 2831\\nvalue = [1, 2, 3, 1, 0, 0, 1, 0, 2, 1, 1, 2, 1, 2\\n0, 2, 0, 0, 0, 0, 0, 0, 0, 0, 0, 0, 0, 0\\n0, 0, 0, 0, 0, 0, 0, 0, 0, 2, 0, 1, 0, 1\\n2, 1, 3, 1, 2, 1, 2, 0, 1, 0, 1, 2, 1, 0\\n0, 0, 0, 0, 0, 0, 2, 2, 0, 0, 0, 0, 0, 0\\n0, 1, 1, 2, 11, 14, 7, 0, 14, 17, 16, 10, 26\\n33, 16, 40, 37, 14, 23, 32, 45, 23, 14, 15, 25\\n20, 35, 33, 14, 31, 15, 30, 23, 27, 28, 41, 34\\n28, 31, 34, 30, 16, 10, 17, 12, 16, 27, 20, 16\\n9, 7, 13, 4, 12, 9, 14, 38, 16, 15, 11, 14, 4\\n11, 1, 24, 33, 6, 2, 8, 7, 10, 2, 18, 16, 17\\n7, 6, 4, 7, 7, 9, 6, 15, 4, 22, 4, 8, 4, 7\\n8, 10, 25, 29, 1, 9, 7, 8, 3, 5, 11, 14, 12\\n13, 27, 9, 2, 4, 10, 8, 2, 22, 14, 9, 21, 5\\n2, 10, 8, 4, 5, 4, 11, 16, 6, 3, 15, 13, 2\\n19, 2, 8, 3, 13, 7, 6, 4, 7, 4, 7, 9, 26, 2\\n3, 7, 4, 2, 17, 13, 1, 5, 11, 11, 4, 7, 4, 6\\n5, 5, 4, 7, 9, 4, 5, 2, 2, 8, 8, 4, 10, 7\\n6, 9, 7, 2, 2, 7, 3, 3, 27, 9, 15, 4, 4, 15\\n6, 2, 9, 2, 3, 3, 11, 8, 3, 18, 4, 11, 1, 2\\n4, 2, 3, 2, 3, 3, 8, 4, 4, 6, 9, 2, 2, 4\\n2, 3, 4, 5, 2, 4, 2, 2, 8, 4, 2, 5, 4, 2\\n3, 2, 1, 7, 3, 2, 1, 3, 4, 1, 3, 11, 1, 1\\n2, 4, 3, 1, 1, 1, 2, 6, 5, 1, 2, 2, 12, 5\\n2, 2, 8, 1, 2, 8, 1, 1, 1, 2, 8, 1, 4, 12\\n5, 2, 1, 1, 3, 5, 10, 2, 1, 1, 1, 2, 1, 2\\n3, 1, 12, 3, 6, 1, 1, 1, 4, 3, 1, 4, 2, 1\\n5, 1, 1, 1, 5, 3, 4, 4, 4, 1, 2, 4, 5, 1\\n4, 4, 1, 3, 1, 1, 1, 1, 1, 1, 3, 1, 5, 4\\n7, 1, 4, 5, 2, 1, 2, 1, 2, 1, 3, 2, 1, 2\\n2, 4, 1, 2, 1, 1, 2, 1, 1, 2, 2, 2, 2]'),\n",
              " Text(0.7272727272727273, 0.125, 'gini = 0.973\\nsamples = 910\\nvalue = [0, 0, 0, 0, 0, 0, 0, 0, 0, 0, 0, 0, 0, 0\\n0, 0, 0, 0, 0, 0, 0, 0, 0, 0, 0, 0, 0, 0\\n0, 0, 0, 0, 0, 0, 0, 0, 0, 0, 0, 0, 0, 0\\n0, 0, 0, 0, 0, 0, 0, 0, 0, 0, 0, 0, 0, 0\\n0, 0, 0, 0, 0, 0, 0, 0, 0, 0, 0, 0, 0, 0\\n0, 0, 0, 2, 11, 12, 7, 0, 10, 17, 16, 9, 23\\n33, 16, 31, 36, 11, 22, 29, 45, 20, 9, 14, 24\\n20, 35, 33, 11, 28, 13, 30, 22, 26, 28, 41, 29\\n26, 16, 23, 30, 11, 4, 17, 5, 5, 6, 9, 8, 4\\n0, 6, 4, 0, 3, 0, 8, 3, 0, 0, 0, 0, 3, 0\\n0, 0, 3, 0, 0, 0, 0, 0, 0, 0, 0, 0, 0, 0\\n0, 0, 0, 0, 0, 0, 0, 0, 0, 0, 0, 0, 0, 0\\n0, 0, 0, 0, 0, 0, 0, 0, 0, 0, 0, 0, 0, 0\\n0, 0, 0, 0, 0, 0, 0, 0, 0, 0, 0, 0, 0, 0\\n0, 0, 0, 0, 0, 0, 0, 0, 0, 0, 0, 0, 0, 0\\n0, 0, 0, 0, 0, 0, 0, 0, 0, 0, 0, 0, 0, 0\\n0, 0, 0, 0, 0, 0, 0, 0, 0, 0, 0, 0, 0, 0\\n0, 0, 0, 0, 0, 0, 0, 0, 0, 0, 0, 0, 0, 0\\n0, 0, 0, 0, 0, 0, 0, 0, 0, 0, 0, 0, 0, 0\\n0, 0, 0, 0, 0, 0, 0, 0, 0, 0, 0, 0, 0, 0\\n0, 0, 0, 0, 0, 0, 0, 0, 0, 0, 0, 0, 0, 0\\n0, 0, 0, 0, 0, 0, 0, 0, 0, 0, 0, 0, 0, 0\\n0, 0, 0, 0, 0, 0, 0, 0, 0, 0, 0, 0, 0, 0\\n0, 0, 0, 0, 0, 0, 0, 0, 0, 0, 0, 0, 0, 0\\n0, 0, 0, 0, 0, 0, 0, 0, 0, 0, 0, 0, 0, 0\\n0, 0, 0, 0, 0, 0, 0, 0, 0, 0, 0, 0, 0, 0\\n0, 0, 0, 0, 0, 0, 0, 0, 0, 0, 0, 0, 0, 0\\n0, 0, 0, 0, 0, 0, 0, 0, 0, 0, 0, 0, 0, 0\\n0, 0, 0, 1, 1, 1, 0, 0, 0, 0, 0, 0, 0, 0\\n0, 0, 0, 0, 0, 0, 0, 0, 0, 0, 0, 0, 0, 0\\n0, 0, 0, 0, 0, 0, 0]'),\n",
              " Text(0.9090909090909091, 0.125, 'gini = 0.994\\nsamples = 1921\\nvalue = [1, 2, 3, 1, 0, 0, 1, 0, 2, 1, 1, 2, 1, 2\\n0, 2, 0, 0, 0, 0, 0, 0, 0, 0, 0, 0, 0, 0\\n0, 0, 0, 0, 0, 0, 0, 0, 0, 2, 0, 1, 0, 1\\n2, 1, 3, 1, 2, 1, 2, 0, 1, 0, 1, 2, 1, 0\\n0, 0, 0, 0, 0, 0, 2, 2, 0, 0, 0, 0, 0, 0\\n0, 1, 1, 0, 0, 2, 0, 0, 4, 0, 0, 1, 3, 0\\n0, 9, 1, 3, 1, 3, 0, 3, 5, 1, 1, 0, 0, 0\\n3, 3, 2, 0, 1, 1, 0, 0, 5, 2, 15, 11, 0, 5\\n6, 0, 7, 11, 21, 11, 8, 5, 7, 7, 0, 12, 6\\n14, 30, 13, 15, 11, 14, 4, 8, 1, 24, 33, 3, 2\\n8, 7, 10, 2, 18, 16, 17, 7, 6, 4, 7, 7, 9, 6\\n15, 4, 22, 4, 8, 4, 7, 8, 10, 25, 29, 1, 9\\n7, 8, 3, 5, 11, 14, 12, 13, 27, 9, 2, 4, 10\\n8, 2, 22, 14, 9, 21, 5, 2, 10, 8, 4, 5, 4\\n11, 16, 6, 3, 15, 13, 2, 19, 2, 8, 3, 13, 7\\n6, 4, 7, 4, 7, 9, 26, 2, 3, 7, 4, 2, 17, 13\\n1, 5, 11, 11, 4, 7, 4, 6, 5, 5, 4, 7, 9, 4\\n5, 2, 2, 8, 8, 4, 10, 7, 6, 9, 7, 2, 2, 7\\n3, 3, 27, 9, 15, 4, 4, 15, 6, 2, 9, 2, 3, 3\\n11, 8, 3, 18, 4, 11, 1, 2, 4, 2, 3, 2, 3, 3\\n8, 4, 4, 6, 9, 2, 2, 4, 2, 3, 4, 5, 2, 4\\n2, 2, 8, 4, 2, 5, 4, 2, 3, 2, 1, 7, 3, 2\\n1, 3, 4, 1, 3, 11, 1, 1, 2, 4, 3, 1, 1, 1\\n2, 6, 5, 1, 2, 2, 12, 5, 2, 2, 8, 1, 2, 8\\n1, 1, 1, 2, 8, 1, 4, 12, 5, 2, 1, 1, 3, 5\\n10, 2, 1, 1, 1, 2, 1, 2, 3, 1, 12, 3, 6, 1\\n1, 1, 4, 3, 1, 4, 2, 1, 5, 1, 1, 1, 5, 3\\n4, 4, 4, 1, 2, 4, 5, 1, 4, 4, 1, 3, 1, 1\\n1, 1, 1, 0, 2, 0, 5, 4, 7, 1, 4, 5, 2, 1\\n2, 1, 2, 1, 3, 2, 1, 2, 2, 4, 1, 2, 1, 1\\n2, 1, 1, 2, 2, 2, 2]')]"
            ]
          },
          "metadata": {},
          "execution_count": 118
        },
        {
          "output_type": "display_data",
          "data": {
            "text/plain": [
              "<Figure size 648x648 with 1 Axes>"
            ],
            "image/png": "[encoded data removed]"
          },
          "metadata": {
            "needs_background": "light"
          }
        }
      ]
    },
    {
      "cell_type": "code",
      "source": [],
      "metadata": {
        "id": "frnFN8ml5j3-"
      },
      "execution_count": null,
      "outputs": []
    }
  ]
}